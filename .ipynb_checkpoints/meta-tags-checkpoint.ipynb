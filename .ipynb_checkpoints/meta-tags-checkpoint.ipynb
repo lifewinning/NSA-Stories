{
 "metadata": {
  "name": "",
  "signature": "sha256:82d3403ca72b3db1417ed66ace1c74326828e3ab087903acfe9abe7a977725eb"
 },
 "nbformat": 3,
 "nbformat_minor": 0,
 "worksheets": [
  {
   "cells": [
    {
     "cell_type": "code",
     "collapsed": false,
     "input": [
      "#dependencies!\n",
      "from bs4 import BeautifulSoup\n",
      "import urllib\n",
      "import csv\n",
      "\n",
      "#read csv in\n",
      "archive = open('nsa-archive.csv','rU')\n",
      "#output csv for later use\n",
      "output = csv.writer(open('nsa-archive-with-meta.csv', 'w'))\n",
      "output.writerow([\"date\",\"title\",\"url\",\"publication\", \"description\",\"tags\"]) # Write column headers as the first line\n",
      "reader = csv.DictReader(archive)\n",
      "#scrape each url\n",
      "for row in reader:\n",
      "    url = urllib.urlopen(row['url'])\n",
      "    soup = BeautifulSoup(url)\n",
      "    print \"adding \"+ row['url']+\"...\"\n",
      "    import re\n",
      "    #identify all the urls that are just pdf files and will break everything\n",
      "    pdf = re.search('pdf', row['url'])\n",
      "    flmpdf = re.search('/theintercept/document/', row['url'])\n",
      "    #seriously, there was a zip file?\n",
      "    zipfile = re.search('zip', row['url'])\n",
      "    #hacky workaround because ic on the record is the worst\n",
      "    icotr = re.search('http://icontherecord.tumblr.com/post/67419963949/dni-clapper-declassifies-additional-intelligence', row['url'])\n",
      "    #anyway sorry about that workaround\n",
      "    if pdf:\n",
      "        d = 'rawfile'\n",
      "        t = ''\n",
      "    elif flmpdf:\n",
      "        d = 'rawfile'\n",
      "        t = ''\n",
      "    elif zipfile:\n",
      "        d = 'rawfile'\n",
      "        t = ''\n",
      "    elif icotr:\n",
      "        d = ''\n",
      "        t = ''\n",
      "    else:\n",
      "        #let's look for some meta tags\n",
      "        ogdesc = soup.find_all('meta',attrs={\"property\":\"og:description\"})\n",
      "        desc = soup.find_all('meta', attrs={\"property\":\"description\"})\n",
      "        tags = soup.find_all('meta', attrs={\"name\":\"keywords\", \"content\":True})\n",
      "        if ogdesc:\n",
      "            d = ogdesc[0]['content'].encode('utf-8')\n",
      "        elif desc:\n",
      "            d = desc[0]['content'].encode('utf-8')\n",
      "        else:\n",
      "            d = ''\n",
      "        if tags:\n",
      "            t = tags[0]['content'].encode('utf-8')\n",
      "        else:\n",
      "            t = ''\n",
      "    output.writerow([row['date'],row['title'],row['url'],row['publication'], d, t])"
     ],
     "language": "python",
     "metadata": {},
     "outputs": [
      {
       "output_type": "stream",
       "stream": "stdout",
       "text": [
        "adding http://www.spiegel.de/international/germany/inside-the-nsa-s-war-on-internet-security-a-1010361.html...\n",
        "adding http://www.spiegel.de/international/world/nsa-documents-attacks-on-vpn-ssl-tls-ssh-tor-a-1010525.html..."
       ]
      },
      {
       "output_type": "stream",
       "stream": "stderr",
       "text": [
        "WARNING:root:Some characters could not be decoded, and were replaced with REPLACEMENT CHARACTER.\n"
       ]
      },
      {
       "output_type": "stream",
       "stream": "stdout",
       "text": [
        "\n",
        "adding http://www.spiegel.de/media/media-35530.pdf..."
       ]
      },
      {
       "output_type": "stream",
       "stream": "stderr",
       "text": [
        "WARNING:root:Some characters could not be decoded, and were replaced with REPLACEMENT CHARACTER.\n"
       ]
      },
      {
       "output_type": "stream",
       "stream": "stdout",
       "text": [
        "\n",
        "adding http://www.spiegel.de/media/media-35531.pdf..."
       ]
      },
      {
       "output_type": "stream",
       "stream": "stderr",
       "text": [
        "WARNING:root:Some characters could not be decoded, and were replaced with REPLACEMENT CHARACTER.\n"
       ]
      },
      {
       "output_type": "stream",
       "stream": "stdout",
       "text": [
        "\n",
        "adding http://www.spiegel.de/media/media-35532.pdf..."
       ]
      },
      {
       "output_type": "stream",
       "stream": "stderr",
       "text": [
        "WARNING:root:Some characters could not be decoded, and were replaced with REPLACEMENT CHARACTER.\n"
       ]
      },
      {
       "output_type": "stream",
       "stream": "stdout",
       "text": [
        "\n",
        "adding http://www.spiegel.de/media/media-35533.pdf..."
       ]
      },
      {
       "output_type": "stream",
       "stream": "stderr",
       "text": [
        "WARNING:root:Some characters could not be decoded, and were replaced with REPLACEMENT CHARACTER.\n"
       ]
      },
      {
       "output_type": "stream",
       "stream": "stdout",
       "text": [
        "\n",
        "adding http://www.spiegel.de/media/media-35534.pdf..."
       ]
      },
      {
       "output_type": "stream",
       "stream": "stderr",
       "text": [
        "WARNING:root:Some characters could not be decoded, and were replaced with REPLACEMENT CHARACTER.\n"
       ]
      },
      {
       "output_type": "stream",
       "stream": "stdout",
       "text": [
        "\n",
        "adding http://www.spiegel.de/media/media-35535.pdf..."
       ]
      },
      {
       "output_type": "stream",
       "stream": "stderr",
       "text": [
        "WARNING:root:Some characters could not be decoded, and were replaced with REPLACEMENT CHARACTER.\n"
       ]
      },
      {
       "output_type": "stream",
       "stream": "stdout",
       "text": [
        "\n",
        "adding http://www.spiegel.de/media/media-35536.pdf..."
       ]
      },
      {
       "output_type": "stream",
       "stream": "stderr",
       "text": [
        "WARNING:root:Some characters could not be decoded, and were replaced with REPLACEMENT CHARACTER.\n"
       ]
      },
      {
       "output_type": "stream",
       "stream": "stdout",
       "text": [
        "\n",
        "adding http://www.spiegel.de/media/media-35537.pdf..."
       ]
      },
      {
       "output_type": "stream",
       "stream": "stderr",
       "text": [
        "WARNING:root:Some characters could not be decoded, and were replaced with REPLACEMENT CHARACTER.\n"
       ]
      },
      {
       "output_type": "stream",
       "stream": "stdout",
       "text": [
        "\n",
        "adding http://www.spiegel.de/media/media-35509.pdf..."
       ]
      },
      {
       "output_type": "stream",
       "stream": "stderr",
       "text": [
        "WARNING:root:Some characters could not be decoded, and were replaced with REPLACEMENT CHARACTER.\n"
       ]
      },
      {
       "output_type": "stream",
       "stream": "stdout",
       "text": [
        "\n",
        "adding http://www.spiegel.de/media/media-35510.pdf..."
       ]
      },
      {
       "output_type": "stream",
       "stream": "stderr",
       "text": [
        "WARNING:root:Some characters could not be decoded, and were replaced with REPLACEMENT CHARACTER.\n"
       ]
      },
      {
       "output_type": "stream",
       "stream": "stdout",
       "text": [
        "\n",
        "adding http://www.spiegel.de/media/media-35511.pdf..."
       ]
      },
      {
       "output_type": "stream",
       "stream": "stderr",
       "text": [
        "WARNING:root:Some characters could not be decoded, and were replaced with REPLACEMENT CHARACTER.\n"
       ]
      },
      {
       "output_type": "stream",
       "stream": "stdout",
       "text": [
        "\n",
        "adding http://www.spiegel.de/media/media-35512.pdf..."
       ]
      },
      {
       "output_type": "stream",
       "stream": "stderr",
       "text": [
        "WARNING:root:Some characters could not be decoded, and were replaced with REPLACEMENT CHARACTER.\n"
       ]
      },
      {
       "output_type": "stream",
       "stream": "stdout",
       "text": [
        "\n",
        "adding http://www.spiegel.de/media/media-35513.pdf..."
       ]
      },
      {
       "output_type": "stream",
       "stream": "stderr",
       "text": [
        "WARNING:root:Some characters could not be decoded, and were replaced with REPLACEMENT CHARACTER.\n"
       ]
      },
      {
       "output_type": "stream",
       "stream": "stdout",
       "text": [
        "\n",
        "adding http://www.spiegel.de/media/media-35514.pdf..."
       ]
      },
      {
       "output_type": "stream",
       "stream": "stderr",
       "text": [
        "WARNING:root:Some characters could not be decoded, and were replaced with REPLACEMENT CHARACTER.\n"
       ]
      },
      {
       "output_type": "stream",
       "stream": "stdout",
       "text": [
        "\n",
        "adding http://www.spiegel.de/media/media-35515.pdf..."
       ]
      },
      {
       "output_type": "stream",
       "stream": "stderr",
       "text": [
        "WARNING:root:Some characters could not be decoded, and were replaced with REPLACEMENT CHARACTER.\n"
       ]
      },
      {
       "output_type": "stream",
       "stream": "stdout",
       "text": [
        "\n",
        "adding http://www.spiegel.de/media/media-35516.pdf..."
       ]
      },
      {
       "output_type": "stream",
       "stream": "stderr",
       "text": [
        "WARNING:root:Some characters could not be decoded, and were replaced with REPLACEMENT CHARACTER.\n"
       ]
      },
      {
       "output_type": "stream",
       "stream": "stdout",
       "text": [
        "\n",
        "adding http://www.spiegel.de/media/media-35517.pdf..."
       ]
      },
      {
       "output_type": "stream",
       "stream": "stderr",
       "text": [
        "WARNING:root:Some characters could not be decoded, and were replaced with REPLACEMENT CHARACTER.\n"
       ]
      },
      {
       "output_type": "stream",
       "stream": "stdout",
       "text": [
        "\n",
        "adding http://www.spiegel.de/media/media-35518.pdf..."
       ]
      }
     ]
    },
    {
     "cell_type": "code",
     "collapsed": false,
     "input": [],
     "language": "python",
     "metadata": {},
     "outputs": []
    }
   ],
   "metadata": {}
  }
 ]
}