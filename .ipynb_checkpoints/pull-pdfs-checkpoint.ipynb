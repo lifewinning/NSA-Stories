{
 "metadata": {
  "name": "",
  "signature": "sha256:18b5120bddd86bab972a093294183be069bda8b59b9408d0c09e2510d539d96c"
 },
 "nbformat": 3,
 "nbformat_minor": 0,
 "worksheets": [
  {
   "cells": [
    {
     "cell_type": "code",
     "collapsed": false,
     "input": [
      "#dependencies!\n",
      "from bs4 import BeautifulSoup\n",
      "import urllib\n",
      "import csv\n",
      "\n",
      "output = csv.writer(open('nsa-archive-pdf-scrape.csv', 'w')) #output csv for later use\n",
      "output.writerow([\"file_url\",\"link_title\",\"date\",\"title\",\"article_url\",\"publication\", \"description\",\"tags\"]) # Write column headers as the first line\n",
      "archive = open('nsa-archive.csv','rU') #read csv in\n",
      "pile = set() #deduplication\n",
      "reader = csv.DictReader(archive)\n",
      "#scrape each url\n",
      "for row in reader:\n",
      "    url = urllib.urlopen(row['url'])\n",
      "    soup = BeautifulSoup(url)\n",
      "    print \"searching \"+ row['url']+\" ...\"\n",
      "    import re\n",
      "    #identify all the urls that are just pdf files, we do not need you\n",
      "    pdf = re.search('pdf', row['url'])\n",
      "    flmpdf = re.search('/theintercept/document/', row['url'])\n",
      "    #seriously, there was a zip file?\n",
      "    zipfile = re.search('zip', row['url'])\n",
      "    #ic on the record has dumb ideas about description tags\n",
      "    icotr = re.search('http://icontherecord.tumblr.com/post/67419963949/dni-clapper-declassifies-additional-intelligence', row['url'])\n",
      "    if pdf:\n",
      "        pass\n",
      "    elif flmpdf:\n",
      "        pass\n",
      "    elif zipfile:\n",
      "        continue\n",
      "    elif icotr:\n",
      "        d = ''\n",
      "        t = ''\n",
      "    else:\n",
      "        #let's look for some meta tags\n",
      "        ogdesc = soup.find_all('meta',attrs={\"property\":\"og:description\"})\n",
      "        desc = soup.find_all('meta', attrs={\"property\":\"description\"})\n",
      "        tags = soup.find_all('meta', attrs={\"name\":\"keywords\", \"content\":True})\n",
      "        if ogdesc:\n",
      "            d = ogdesc[0]['content'].encode('utf-8')\n",
      "        elif desc:\n",
      "            d = desc[0]['content'].encode('utf-8')\n",
      "        else:\n",
      "            d = ''\n",
      "        if tags:\n",
      "            t = tags[0]['content'].encode('utf-8')\n",
      "        else:\n",
      "            t = ''\n",
      "    # let's look for links to files\n",
      "    pdf = ''\n",
      "    for link in soup.find_all('a'):\n",
      "        pdf = link.get('href')\n",
      "        if pdf is None:\n",
      "            continue\n",
      "        elif pdf.endswith('pdf'):\n",
      "            u = link.contents[0].encode('utf-8')\n",
      "            f = pdf\n",
      "            #write row to csv \n",
      "            print f + \" is a PDF\"\n",
      "            output.writerow([f, u,row['date'],row['title'],row['url'],row['publication'], d, t])\n",
      "        elif pdf.startswith('https://firstlook.org/theintercept/document/'):\n",
      "            u = link.contents[0].encode('utf-8')\n",
      "            f = pdf\n",
      "            print \"an intercept document! \"+ f\n",
      "        elif pdf.startswith('https://firstlook.org/theintercept/?'):\n",
      "            u = link.contents[0].encode('utf-8')\n",
      "            f = pdf\n",
      "            print \"an intercept document! \"+ f\n",
      "            output.writerow([f, u,row['date'],row['title'],row['url'],row['publication'], d, t])\n",
      "        elif pdf.startswith('http://www.guardian.co.uk/world/interactive/'):\n",
      "            u = link.contents[0].encode('utf-8')\n",
      "            f = pdf\n",
      "            print \"a guardian document! \"+ f\n",
      "        elif pdf.startswith('http://apps.washingtonpost.com/'):\n",
      "            u = link.contents[0].encode('utf-8')\n",
      "            f = pdf\n",
      "            print \"a post document! \"+ f\n",
      "        else:\n",
      "            continue\n",
      "\n"
     ],
     "language": "python",
     "metadata": {},
     "outputs": [
      {
       "output_type": "stream",
       "stream": "stdout",
       "text": [
        "searching http://www.spiegel.de/international/germany/inside-the-nsa-s-war-on-internet-security-a-1010361.html ...\n",
        "/media/media-35530.pdf is a PDF"
       ]
      },
      {
       "output_type": "stream",
       "stream": "stdout",
       "text": [
        "\n",
        "/media/media-35531.pdf is a PDF\n",
        "/media/media-35532.pdf is a PDF\n",
        "/media/media-35533.pdf is a PDF\n",
        "/media/media-35534.pdf is a PDF\n",
        "/media/media-35535.pdf is a PDF\n",
        "/media/media-35536.pdf is a PDF\n",
        "/media/media-35537.pdf is a PDF\n",
        "/media/media-35544.pdf is a PDF\n",
        "/media/media-35545.pdf is a PDF\n",
        "/media/media-35546.pdf is a PDF\n",
        "/media/media-35547.pdf is a PDF\n",
        "/media/media-35548.pdf is a PDF\n",
        "/media/media-35549.pdf is a PDF\n",
        "/media/media-35550.pdf is a PDF\n",
        "/media/media-35551.pdf is a PDF\n",
        "/media/media-35552.pdf is a PDF\n",
        "/media/media-35538.pdf is a PDF\n",
        "/media/media-35539.pdf is a PDF\n",
        "/media/media-35540.pdf is a PDF\n",
        "/media/media-35541.pdf is a PDF\n",
        "/media/media-35542.pdf is a PDF\n",
        "/media/media-35543.pdf is a PDF\n",
        "/media/media-35513.pdf is a PDF\n",
        "/media/media-35514.pdf is a PDF\n",
        "/media/media-35515.pdf is a PDF\n",
        "/media/media-35516.pdf is a PDF\n",
        "/media/media-35517.pdf is a PDF\n",
        "/media/media-35518.pdf is a PDF"
       ]
      },
      {
       "output_type": "stream",
       "stream": "stdout",
       "text": [
        "\n",
        "/media/media-35519.pdf is a PDF\n",
        "/media/media-35520.pdf is a PDF\n",
        "/media/media-35521.pdf is a PDF\n",
        "/media/media-35522.pdf is a PDF\n",
        "/media/media-35523.pdf is a PDF\n",
        "/media/media-35524.pdf is a PDF\n",
        "/media/media-35525.pdf is a PDF\n",
        "/media/media-35526.pdf is a PDF\n",
        "/media/media-35527.pdf is a PDF\n",
        "/media/media-35528.pdf is a PDF\n",
        "/media/media-35529.pdf is a PDF\n",
        "/media/media-35509.pdf is a PDF\n",
        "/media/media-35510.pdf is a PDF\n",
        "/media/media-35511.pdf is a PDF\n",
        "/media/media-35512.pdf is a PDF\n",
        "searching http://www.spiegel.de/international/world/nsa-documents-attacks-on-vpn-ssl-tls-ssh-tor-a-1010525.html ..."
       ]
      },
      {
       "output_type": "stream",
       "stream": "stdout",
       "text": [
        "\n",
        "/media/media-35530.pdf is a PDF"
       ]
      },
      {
       "output_type": "stream",
       "stream": "stderr",
       "text": [
        "WARNING:root:Some characters could not be decoded, and were replaced with REPLACEMENT CHARACTER.\n"
       ]
      },
      {
       "output_type": "stream",
       "stream": "stdout",
       "text": [
        "\n",
        "/media/media-35531.pdf is a PDF\n",
        "/media/media-35532.pdf is a PDF\n",
        "/media/media-35533.pdf is a PDF\n",
        "/media/media-35534.pdf is a PDF\n",
        "/media/media-35535.pdf is a PDF\n",
        "/media/media-35536.pdf is a PDF\n",
        "/media/media-35537.pdf is a PDF\n",
        "/media/media-35509.pdf is a PDF\n",
        "/media/media-35510.pdf is a PDF\n",
        "/media/media-35511.pdf is a PDF\n",
        "/media/media-35512.pdf is a PDF\n",
        "/media/media-35513.pdf is a PDF\n",
        "/media/media-35514.pdf is a PDF\n",
        "/media/media-35515.pdf is a PDF\n",
        "/media/media-35516.pdf is a PDF\n",
        "/media/media-35517.pdf is a PDF\n",
        "/media/media-35518.pdf is a PDF\n",
        "/media/media-35519.pdf is a PDF\n",
        "/media/media-35520.pdf is a PDF\n",
        "/media/media-35521.pdf is a PDF\n",
        "/media/media-35522.pdf is a PDF\n",
        "/media/media-35523.pdf is a PDF\n",
        "/media/media-35524.pdf is a PDF\n",
        "/media/media-35525.pdf is a PDF\n",
        "/media/media-35526.pdf is a PDF\n",
        "/media/media-35527.pdf is a PDF\n",
        "/media/media-35528.pdf is a PDF\n",
        "/media/media-35529.pdf is a PDF\n",
        "/media/media-35538.pdf is a PDF\n",
        "/media/media-35539.pdf is a PDF\n",
        "/media/media-35540.pdf is a PDF\n",
        "/media/media-35541.pdf is a PDF\n",
        "/media/media-35542.pdf is a PDF\n",
        "/media/media-35543.pdf is a PDF\n",
        "/media/media-35544.pdf is a PDF\n",
        "/media/media-35545.pdf is a PDF\n",
        "/media/media-35546.pdf is a PDF\n",
        "/media/media-35547.pdf is a PDF\n",
        "/media/media-35548.pdf is a PDF\n",
        "/media/media-35549.pdf is a PDF\n",
        "/media/media-35550.pdf is a PDF\n",
        "/media/media-35551.pdf is a PDF\n",
        "/media/media-35552.pdf is a PDF\n",
        "searching http://www.spiegel.de/media/media-35530.pdf ..."
       ]
      },
      {
       "output_type": "stream",
       "stream": "stderr",
       "text": [
        "WARNING:root:Some characters could not be decoded, and were replaced with REPLACEMENT CHARACTER.\n"
       ]
      },
      {
       "output_type": "stream",
       "stream": "stdout",
       "text": [
        "\n",
        "searching http://www.spiegel.de/media/media-35531.pdf ..."
       ]
      },
      {
       "output_type": "stream",
       "stream": "stderr",
       "text": [
        "WARNING:root:Some characters could not be decoded, and were replaced with REPLACEMENT CHARACTER.\n"
       ]
      },
      {
       "output_type": "stream",
       "stream": "stdout",
       "text": [
        "\n",
        "searching http://www.spiegel.de/media/media-35532.pdf ..."
       ]
      },
      {
       "output_type": "stream",
       "stream": "stderr",
       "text": [
        "WARNING:root:Some characters could not be decoded, and were replaced with REPLACEMENT CHARACTER.\n"
       ]
      },
      {
       "output_type": "stream",
       "stream": "stdout",
       "text": [
        "\n",
        "searching http://www.spiegel.de/media/media-35533.pdf ..."
       ]
      },
      {
       "output_type": "stream",
       "stream": "stderr",
       "text": [
        "WARNING:root:Some characters could not be decoded, and were replaced with REPLACEMENT CHARACTER.\n"
       ]
      },
      {
       "output_type": "stream",
       "stream": "stdout",
       "text": [
        "\n",
        "searching http://www.spiegel.de/media/media-35534.pdf ..."
       ]
      },
      {
       "output_type": "stream",
       "stream": "stderr",
       "text": [
        "WARNING:root:Some characters could not be decoded, and were replaced with REPLACEMENT CHARACTER.\n"
       ]
      },
      {
       "output_type": "stream",
       "stream": "stdout",
       "text": [
        "\n",
        "searching http://www.spiegel.de/media/media-35535.pdf ..."
       ]
      },
      {
       "output_type": "stream",
       "stream": "stderr",
       "text": [
        "WARNING:root:Some characters could not be decoded, and were replaced with REPLACEMENT CHARACTER.\n"
       ]
      },
      {
       "output_type": "stream",
       "stream": "stdout",
       "text": [
        "\n",
        "searching http://www.spiegel.de/media/media-35536.pdf ..."
       ]
      },
      {
       "output_type": "stream",
       "stream": "stderr",
       "text": [
        "WARNING:root:Some characters could not be decoded, and were replaced with REPLACEMENT CHARACTER.\n"
       ]
      },
      {
       "output_type": "stream",
       "stream": "stdout",
       "text": [
        "\n",
        "searching http://www.spiegel.de/media/media-35537.pdf ..."
       ]
      },
      {
       "output_type": "stream",
       "stream": "stderr",
       "text": [
        "WARNING:root:Some characters could not be decoded, and were replaced with REPLACEMENT CHARACTER.\n"
       ]
      },
      {
       "output_type": "stream",
       "stream": "stdout",
       "text": [
        "\n",
        "searching http://www.spiegel.de/media/media-35509.pdf ..."
       ]
      },
      {
       "output_type": "stream",
       "stream": "stderr",
       "text": [
        "WARNING:root:Some characters could not be decoded, and were replaced with REPLACEMENT CHARACTER.\n"
       ]
      },
      {
       "output_type": "stream",
       "stream": "stdout",
       "text": [
        "\n",
        "searching http://www.spiegel.de/media/media-35510.pdf ..."
       ]
      },
      {
       "output_type": "stream",
       "stream": "stderr",
       "text": [
        "WARNING:root:Some characters could not be decoded, and were replaced with REPLACEMENT CHARACTER.\n"
       ]
      },
      {
       "output_type": "stream",
       "stream": "stdout",
       "text": [
        "\n",
        "searching http://www.spiegel.de/media/media-35511.pdf ..."
       ]
      },
      {
       "output_type": "stream",
       "stream": "stderr",
       "text": [
        "WARNING:root:Some characters could not be decoded, and were replaced with REPLACEMENT CHARACTER.\n"
       ]
      },
      {
       "output_type": "stream",
       "stream": "stdout",
       "text": [
        "\n",
        "searching http://www.spiegel.de/media/media-35512.pdf ..."
       ]
      },
      {
       "output_type": "stream",
       "stream": "stderr",
       "text": [
        "WARNING:root:Some characters could not be decoded, and were replaced with REPLACEMENT CHARACTER.\n"
       ]
      },
      {
       "output_type": "stream",
       "stream": "stdout",
       "text": [
        "\n",
        "searching http://www.spiegel.de/media/media-35513.pdf ..."
       ]
      },
      {
       "output_type": "stream",
       "stream": "stderr",
       "text": [
        "WARNING:root:Some characters could not be decoded, and were replaced with REPLACEMENT CHARACTER.\n"
       ]
      },
      {
       "output_type": "stream",
       "stream": "stdout",
       "text": [
        "\n",
        "searching http://www.spiegel.de/media/media-35514.pdf ..."
       ]
      },
      {
       "output_type": "stream",
       "stream": "stderr",
       "text": [
        "WARNING:root:Some characters could not be decoded, and were replaced with REPLACEMENT CHARACTER.\n"
       ]
      },
      {
       "output_type": "stream",
       "stream": "stdout",
       "text": [
        "\n",
        "searching http://www.spiegel.de/media/media-35515.pdf ..."
       ]
      },
      {
       "output_type": "stream",
       "stream": "stderr",
       "text": [
        "WARNING:root:Some characters could not be decoded, and were replaced with REPLACEMENT CHARACTER.\n"
       ]
      },
      {
       "output_type": "stream",
       "stream": "stdout",
       "text": [
        "\n",
        "searching http://www.spiegel.de/media/media-35516.pdf ..."
       ]
      },
      {
       "output_type": "stream",
       "stream": "stderr",
       "text": [
        "WARNING:root:Some characters could not be decoded, and were replaced with REPLACEMENT CHARACTER.\n"
       ]
      },
      {
       "output_type": "stream",
       "stream": "stdout",
       "text": [
        "\n",
        "searching http://www.spiegel.de/media/media-35517.pdf ..."
       ]
      },
      {
       "output_type": "stream",
       "stream": "stderr",
       "text": [
        "WARNING:root:Some characters could not be decoded, and were replaced with REPLACEMENT CHARACTER.\n"
       ]
      },
      {
       "output_type": "stream",
       "stream": "stdout",
       "text": [
        "\n",
        "searching http://www.spiegel.de/media/media-35518.pdf ..."
       ]
      },
      {
       "output_type": "stream",
       "stream": "stderr",
       "text": [
        "WARNING:root:Some characters could not be decoded, and were replaced with REPLACEMENT CHARACTER.\n"
       ]
      },
      {
       "output_type": "stream",
       "stream": "stdout",
       "text": [
        "\n",
        "searching http://www.spiegel.de/media/media-35519.pdf ..."
       ]
      },
      {
       "output_type": "stream",
       "stream": "stderr",
       "text": [
        "WARNING:root:Some characters could not be decoded, and were replaced with REPLACEMENT CHARACTER.\n"
       ]
      },
      {
       "output_type": "stream",
       "stream": "stdout",
       "text": [
        "\n",
        "searching http://www.spiegel.de/media/media-35520.pdf ..."
       ]
      },
      {
       "output_type": "stream",
       "stream": "stderr",
       "text": [
        "WARNING:root:Some characters could not be decoded, and were replaced with REPLACEMENT CHARACTER.\n"
       ]
      },
      {
       "output_type": "stream",
       "stream": "stdout",
       "text": [
        "\n",
        "searching http://www.spiegel.de/media/media-35521.pdf ..."
       ]
      },
      {
       "output_type": "stream",
       "stream": "stderr",
       "text": [
        "WARNING:root:Some characters could not be decoded, and were replaced with REPLACEMENT CHARACTER.\n"
       ]
      },
      {
       "output_type": "stream",
       "stream": "stdout",
       "text": [
        "\n",
        "searching http://www.spiegel.de/media/media-35522.pdf ..."
       ]
      },
      {
       "output_type": "stream",
       "stream": "stderr",
       "text": [
        "WARNING:root:Some characters could not be decoded, and were replaced with REPLACEMENT CHARACTER.\n"
       ]
      },
      {
       "output_type": "stream",
       "stream": "stdout",
       "text": [
        "\n",
        "searching http://www.spiegel.de/media/media-35523.pdf ..."
       ]
      },
      {
       "output_type": "stream",
       "stream": "stderr",
       "text": [
        "WARNING:root:Some characters could not be decoded, and were replaced with REPLACEMENT CHARACTER.\n"
       ]
      },
      {
       "output_type": "stream",
       "stream": "stdout",
       "text": [
        "\n",
        "searching http://www.spiegel.de/media/media-35524.pdf ..."
       ]
      },
      {
       "output_type": "stream",
       "stream": "stderr",
       "text": [
        "WARNING:root:Some characters could not be decoded, and were replaced with REPLACEMENT CHARACTER.\n"
       ]
      },
      {
       "output_type": "stream",
       "stream": "stdout",
       "text": [
        "\n",
        "searching http://www.spiegel.de/media/media-35525.pdf ..."
       ]
      },
      {
       "output_type": "stream",
       "stream": "stderr",
       "text": [
        "WARNING:root:Some characters could not be decoded, and were replaced with REPLACEMENT CHARACTER.\n"
       ]
      },
      {
       "output_type": "stream",
       "stream": "stdout",
       "text": [
        "\n",
        "searching http://www.spiegel.de/media/media-35526.pdf ..."
       ]
      },
      {
       "output_type": "stream",
       "stream": "stderr",
       "text": [
        "WARNING:root:Some characters could not be decoded, and were replaced with REPLACEMENT CHARACTER.\n"
       ]
      },
      {
       "output_type": "stream",
       "stream": "stdout",
       "text": [
        "\n",
        "searching http://www.spiegel.de/media/media-35527.pdf ..."
       ]
      },
      {
       "output_type": "stream",
       "stream": "stderr",
       "text": [
        "WARNING:root:Some characters could not be decoded, and were replaced with REPLACEMENT CHARACTER.\n"
       ]
      },
      {
       "output_type": "stream",
       "stream": "stdout",
       "text": [
        "\n",
        "searching http://www.spiegel.de/media/media-35528.pdf ..."
       ]
      },
      {
       "output_type": "stream",
       "stream": "stderr",
       "text": [
        "WARNING:root:Some characters could not be decoded, and were replaced with REPLACEMENT CHARACTER.\n"
       ]
      },
      {
       "output_type": "stream",
       "stream": "stdout",
       "text": [
        "\n",
        "searching http://www.spiegel.de/media/media-35529.pdf ..."
       ]
      },
      {
       "output_type": "stream",
       "stream": "stderr",
       "text": [
        "WARNING:root:Some characters could not be decoded, and were replaced with REPLACEMENT CHARACTER.\n"
       ]
      },
      {
       "output_type": "stream",
       "stream": "stdout",
       "text": [
        "\n",
        "searching http://www.spiegel.de/media/media-35538.pdf ..."
       ]
      },
      {
       "output_type": "stream",
       "stream": "stderr",
       "text": [
        "WARNING:root:Some characters could not be decoded, and were replaced with REPLACEMENT CHARACTER.\n"
       ]
      },
      {
       "output_type": "stream",
       "stream": "stdout",
       "text": [
        "\n",
        "searching http://www.spiegel.de/media/media-35539.pdf ..."
       ]
      },
      {
       "output_type": "stream",
       "stream": "stderr",
       "text": [
        "WARNING:root:Some characters could not be decoded, and were replaced with REPLACEMENT CHARACTER.\n"
       ]
      },
      {
       "output_type": "stream",
       "stream": "stdout",
       "text": [
        "\n",
        "searching http://www.spiegel.de/media/media-35540.pdf ..."
       ]
      },
      {
       "output_type": "stream",
       "stream": "stderr",
       "text": [
        "WARNING:root:Some characters could not be decoded, and were replaced with REPLACEMENT CHARACTER.\n"
       ]
      },
      {
       "output_type": "stream",
       "stream": "stdout",
       "text": [
        "\n",
        "searching http://www.spiegel.de/media/media-35541.pdf ..."
       ]
      },
      {
       "output_type": "stream",
       "stream": "stderr",
       "text": [
        "WARNING:root:Some characters could not be decoded, and were replaced with REPLACEMENT CHARACTER.\n"
       ]
      },
      {
       "output_type": "stream",
       "stream": "stdout",
       "text": [
        "\n",
        "searching http://www.spiegel.de/media/media-35542.pdf ..."
       ]
      },
      {
       "output_type": "stream",
       "stream": "stderr",
       "text": [
        "WARNING:root:Some characters could not be decoded, and were replaced with REPLACEMENT CHARACTER.\n"
       ]
      },
      {
       "output_type": "stream",
       "stream": "stdout",
       "text": [
        "\n",
        "searching http://www.spiegel.de/media/media-35543.pdf ..."
       ]
      },
      {
       "output_type": "stream",
       "stream": "stderr",
       "text": [
        "WARNING:root:Some characters could not be decoded, and were replaced with REPLACEMENT CHARACTER.\n"
       ]
      },
      {
       "output_type": "stream",
       "stream": "stdout",
       "text": [
        "\n",
        "searching http://www.spiegel.de/media/media-35544.pdf ..."
       ]
      },
      {
       "output_type": "stream",
       "stream": "stderr",
       "text": [
        "WARNING:root:Some characters could not be decoded, and were replaced with REPLACEMENT CHARACTER.\n"
       ]
      },
      {
       "output_type": "stream",
       "stream": "stdout",
       "text": [
        "\n",
        "searching http://www.spiegel.de/media/media-35545.pdf ..."
       ]
      },
      {
       "output_type": "stream",
       "stream": "stderr",
       "text": [
        "WARNING:root:Some characters could not be decoded, and were replaced with REPLACEMENT CHARACTER.\n"
       ]
      },
      {
       "output_type": "stream",
       "stream": "stdout",
       "text": [
        "\n",
        "searching http://www.spiegel.de/media/media-35546.pdf ..."
       ]
      },
      {
       "output_type": "stream",
       "stream": "stderr",
       "text": [
        "WARNING:root:Some characters could not be decoded, and were replaced with REPLACEMENT CHARACTER.\n"
       ]
      },
      {
       "output_type": "stream",
       "stream": "stdout",
       "text": [
        "\n",
        "searching http://www.spiegel.de/media/media-35547.pdf ..."
       ]
      },
      {
       "output_type": "stream",
       "stream": "stderr",
       "text": [
        "WARNING:root:Some characters could not be decoded, and were replaced with REPLACEMENT CHARACTER.\n"
       ]
      },
      {
       "output_type": "stream",
       "stream": "stdout",
       "text": [
        "\n",
        "searching http://www.spiegel.de/media/media-35548.pdf ..."
       ]
      },
      {
       "output_type": "stream",
       "stream": "stderr",
       "text": [
        "WARNING:root:Some characters could not be decoded, and were replaced with REPLACEMENT CHARACTER.\n"
       ]
      },
      {
       "output_type": "stream",
       "stream": "stdout",
       "text": [
        "\n",
        "searching http://www.spiegel.de/media/media-35549.pdf ..."
       ]
      },
      {
       "output_type": "stream",
       "stream": "stderr",
       "text": [
        "WARNING:root:Some characters could not be decoded, and were replaced with REPLACEMENT CHARACTER.\n"
       ]
      },
      {
       "output_type": "stream",
       "stream": "stdout",
       "text": [
        "\n",
        "searching http://www.spiegel.de/media/media-35550.pdf ..."
       ]
      },
      {
       "output_type": "stream",
       "stream": "stderr",
       "text": [
        "WARNING:root:Some characters could not be decoded, and were replaced with REPLACEMENT CHARACTER.\n"
       ]
      },
      {
       "output_type": "stream",
       "stream": "stdout",
       "text": [
        "\n",
        "searching http://www.spiegel.de/media/media-35551.pdf ..."
       ]
      },
      {
       "output_type": "stream",
       "stream": "stderr",
       "text": [
        "WARNING:root:Some characters could not be decoded, and were replaced with REPLACEMENT CHARACTER.\n"
       ]
      },
      {
       "output_type": "stream",
       "stream": "stdout",
       "text": [
        "\n",
        "searching http://www.spiegel.de/media/media-35552.pdf ..."
       ]
      },
      {
       "output_type": "stream",
       "stream": "stdout",
       "text": [
        "\n",
        "searching http://www.spiegel.de/international/world/secret-docs-reveal-dubious-details-of-targeted-killings-in-afghanistan-a-1010358.html ..."
       ]
      },
      {
       "output_type": "stream",
       "stream": "stderr",
       "text": [
        "WARNING:root:Some characters could not be decoded, and were replaced with REPLACEMENT CHARACTER.\n"
       ]
      },
      {
       "output_type": "stream",
       "stream": "stdout",
       "text": [
        "\n",
        "/media/media-35506.pdf is a PDF\n",
        "/media/media-35507.pdf is a PDF\n",
        "/media/media-35508.pdf is a PDF\n",
        "/media/media-35553.pdf is a PDF\n",
        "searching http://www.spiegel.de/media/media-35506.pdf ..."
       ]
      },
      {
       "output_type": "stream",
       "stream": "stderr",
       "text": [
        "WARNING:root:Some characters could not be decoded, and were replaced with REPLACEMENT CHARACTER.\n"
       ]
      },
      {
       "output_type": "stream",
       "stream": "stdout",
       "text": [
        "\n",
        "searching http://www.spiegel.de/media/media-35507.pdf ..."
       ]
      },
      {
       "output_type": "stream",
       "stream": "stderr",
       "text": [
        "WARNING:root:Some characters could not be decoded, and were replaced with REPLACEMENT CHARACTER.\n"
       ]
      },
      {
       "output_type": "stream",
       "stream": "stdout",
       "text": [
        "\n",
        "searching http://www.spiegel.de/media/media-35508.pdf ..."
       ]
      },
      {
       "output_type": "stream",
       "stream": "stderr",
       "text": [
        "WARNING:root:Some characters could not be decoded, and were replaced with REPLACEMENT CHARACTER.\n"
       ]
      },
      {
       "output_type": "stream",
       "stream": "stdout",
       "text": [
        "\n",
        "searching http://www.spiegel.de/media/media-35553.pdf ..."
       ]
      }
     ]
    },
    {
     "cell_type": "code",
     "collapsed": false,
     "input": [],
     "language": "python",
     "metadata": {},
     "outputs": [],
     "prompt_number": 0
    },
    {
     "cell_type": "code",
     "collapsed": false,
     "input": [],
     "language": "python",
     "metadata": {},
     "outputs": []
    }
   ],
   "metadata": {}
  }
 ]
}