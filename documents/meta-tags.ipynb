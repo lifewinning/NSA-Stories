{
 "metadata": {
  "name": "",
  "signature": "sha256:0cf887f80612cb5b4d4dc2a2e3d960b58d305665176179d3b6b5635113e7c8fb"
 },
 "nbformat": 3,
 "nbformat_minor": 0,
 "worksheets": [
  {
   "cells": [
    {
     "cell_type": "code",
     "collapsed": false,
     "input": [
      "#dependencies!\n",
      "from bs4 import BeautifulSoup\n",
      "import urllib\n",
      "import csv\n",
      "\n",
      "#read csv in\n",
      "archive = open('nsa-archive.csv','rU')\n",
      "#output csv for later use\n",
      "output = csv.writer(open('nsa-archive-with-meta.csv', 'w'))\n",
      "output.writerow([\"date\",\"title\",\"url\",\"publication\", \"description\",\"tags\"]) # Write column headers as the first line\n",
      "reader = csv.DictReader(archive)\n",
      "#scrape each url\n",
      "for row in reader:\n",
      "        url = urllib.urlopen(row['url'])\n",
      "        soup = BeautifulSoup(url)\n",
      "        print \"adding \"+ row['url']+\"...\"\n",
      "        import re\n",
      "        #identify all the urls that are just pdf files and will break everything\n",
      "        pdf = re.search('pdf', row['url'])\n",
      "        flmpdf = re.search('/theintercept/document/', row['url'])\n",
      "        #seriously, there was a zip file?\n",
      "        zipfile = re.search('zip', row['url'])\n",
      "        #hacky workaround because ic on the record is the worst\n",
      "        icotr = re.search('http://icontherecord.tumblr.com/post/67419963949/dni-clapper-declassifies-additional-intelligence', row['url'])\n",
      "        #anyway sorry about that workaround\n",
      "        if pdf:\n",
      "            d = 'rawfile'\n",
      "            t = ''\n",
      "        elif flmpdf:\n",
      "            d = 'rawfile'\n",
      "            t = ''\n",
      "        elif zipfile:\n",
      "            d = 'rawfile'\n",
      "            t = ''\n",
      "        elif icotr:\n",
      "            d = ''\n",
      "            t = ''\n",
      "        else:\n",
      "            #let's look for some meta tags\n",
      "            ogdesc = soup.find_all('meta',attrs={\"property\":\"og:description\"})\n",
      "            desc = soup.find_all('meta', attrs={\"property\":\"description\"})\n",
      "            tags = soup.find_all('meta', attrs={\"name\":\"keywords\", \"content\":True})\n",
      "            if ogdesc:\n",
      "                d = ogdesc[0]['content'].encode('utf-8')\n",
      "            elif desc:\n",
      "                d = desc[0]['content'].encode('utf-8')\n",
      "            else:\n",
      "                d = ''\n",
      "            if tags:\n",
      "                t = tags[0]['content'].encode('utf-8')\n",
      "            else:\n",
      "                t = ''\n",
      "        output.writerow([row['date'],row['title'],row['url'],row['publication'], d, t])\n",
      "\n"
     ],
     "language": "python",
     "metadata": {},
     "outputs": [
      {
       "ename": "IOError",
       "evalue": "[Errno 2] No such file or directory: 'nsa-archive.csv'",
       "output_type": "pyerr",
       "traceback": [
        "\u001b[0;31m---------------------------------------------------------------------------\u001b[0m\n\u001b[0;31mIOError\u001b[0m                                   Traceback (most recent call last)",
        "\u001b[0;32m<ipython-input-1-77381362e895>\u001b[0m in \u001b[0;36m<module>\u001b[0;34m()\u001b[0m\n\u001b[1;32m      5\u001b[0m \u001b[0;34m\u001b[0m\u001b[0m\n\u001b[1;32m      6\u001b[0m \u001b[0;31m#read csv in\u001b[0m\u001b[0;34m\u001b[0m\u001b[0;34m\u001b[0m\u001b[0m\n\u001b[0;32m----> 7\u001b[0;31m \u001b[0marchive\u001b[0m \u001b[0;34m=\u001b[0m \u001b[0mopen\u001b[0m\u001b[0;34m(\u001b[0m\u001b[0;34m'nsa-archive.csv'\u001b[0m\u001b[0;34m,\u001b[0m\u001b[0;34m'rU'\u001b[0m\u001b[0;34m)\u001b[0m\u001b[0;34m\u001b[0m\u001b[0m\n\u001b[0m\u001b[1;32m      8\u001b[0m \u001b[0;31m#output csv for later use\u001b[0m\u001b[0;34m\u001b[0m\u001b[0;34m\u001b[0m\u001b[0m\n\u001b[1;32m      9\u001b[0m \u001b[0moutput\u001b[0m \u001b[0;34m=\u001b[0m \u001b[0mcsv\u001b[0m\u001b[0;34m.\u001b[0m\u001b[0mwriter\u001b[0m\u001b[0;34m(\u001b[0m\u001b[0mopen\u001b[0m\u001b[0;34m(\u001b[0m\u001b[0;34m'nsa-archive-with-meta.csv'\u001b[0m\u001b[0;34m,\u001b[0m \u001b[0;34m'w'\u001b[0m\u001b[0;34m)\u001b[0m\u001b[0;34m)\u001b[0m\u001b[0;34m\u001b[0m\u001b[0m\n",
        "\u001b[0;31mIOError\u001b[0m: [Errno 2] No such file or directory: 'nsa-archive.csv'"
       ]
      }
     ],
     "prompt_number": 1
    },
    {
     "cell_type": "code",
     "collapsed": false,
     "input": [],
     "language": "python",
     "metadata": {},
     "outputs": []
    }
   ],
   "metadata": {}
  }
 ]
}