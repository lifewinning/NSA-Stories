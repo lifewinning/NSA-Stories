{
 "metadata": {
  "name": "",
  "signature": "sha256:fd088499e984761ce50a8a69ec4b2f71cf26414b4cbdeffac2af1a4befc7736b"
 },
 "nbformat": 3,
 "nbformat_minor": 0,
 "worksheets": [
  {
   "cells": [
    {
     "cell_type": "code",
     "collapsed": false,
     "input": [
      "#dependencies!\n",
      "from bs4 import BeautifulSoup\n",
      "import urllib\n",
      "import csv\n",
      "\n",
      "output = csv.writer(open('nsa-archive-pdf-scrape.csv', 'w')) #output csv for later use\n",
      "output.writerow([\"file_url\",\"link_title\",\"date\",\"title\",\"article_url\",\"publication\", \"description\",\"tags\"]) # Write column headers as the first line\n",
      "archive = open('nsa-archive.csv','rU') #read csv in\n",
      "reader = csv.DictReader(archive)\n",
      "#scrape each url\n",
      "for row in reader:\n",
      "    url = urllib.urlopen(row['url'])\n",
      "    soup = BeautifulSoup(url)\n",
      "    import re\n",
      "    #identify all the urls that are just pdf files, we do not need you\n",
      "    pdf = re.search('pdf', row['url'])\n",
      "    flmpdf = re.search('/theintercept/document/', row['url'])\n",
      "    #seriously, there was a zip file?\n",
      "    zipfile = re.search('zip', row['url'])\n",
      "    #ic on the record has dumb ideas about description tags\n",
      "    icotr = re.search('http://icontherecord.tumblr.com/post/67419963949/dni-clapper-declassifies-additional-intelligence', row['url'])\n",
      "    if pdf:\n",
      "        pass\n",
      "    elif flmpdf:\n",
      "        pass\n",
      "    elif zipfile:\n",
      "        continue\n",
      "    elif icotr:\n",
      "        d = ''\n",
      "        t = ''\n",
      "    else:\n",
      "        print \"searching \"+ row['url']+\" ...\"\n",
      "        #let's look for some meta tags\n",
      "        ogdesc = soup.find_all('meta',attrs={\"property\":\"og:description\"})\n",
      "        desc = soup.find_all('meta', attrs={\"property\":\"description\"})\n",
      "        tags = soup.find_all('meta', attrs={\"name\":\"keywords\", \"content\":True})\n",
      "        if ogdesc:\n",
      "            d = ogdesc[0]['content'].encode('utf-8')\n",
      "        elif desc:\n",
      "            d = desc[0]['content'].encode('utf-8')\n",
      "        else:\n",
      "            d = ''\n",
      "        if tags:\n",
      "            t = tags[0]['content'].encode('utf-8')\n",
      "        else:\n",
      "            t = ''\n",
      "    # let's look for links to files\n",
      "    pdf = ''\n",
      "    for link in soup.find_all('a'):\n",
      "        pdf = link.get('href')\n",
      "        if pdf is None:\n",
      "            continue\n",
      "        elif pdf.endswith('pdf'):\n",
      "            u = link.contents[0].encode('utf-8')\n",
      "            f = pdf\n",
      "            #write row to csv \n",
      "            print f + \" is a PDF\"\n",
      "            output.writerow([f, u,row['date'],row['title'],row['url'],row['publication'], d, t])\n",
      "        elif pdf.startswith('https://firstlook.org/theintercept/document/'):\n",
      "            u = link.contents[0].encode('utf-8')\n",
      "            f = pdf\n",
      "            print \"an intercept document! \"+ f\n",
      "        elif pdf.startswith('https://firstlook.org/theintercept/?'):\n",
      "            u = link.contents[0].encode('utf-8')\n",
      "            f = pdf\n",
      "            print \"an intercept document! \"+ f\n",
      "            output.writerow([f, u,row['date'],row['title'],row['url'],row['publication'], d, t])\n",
      "        elif pdf.startswith('http://www.guardian.co.uk/world/interactive/'):\n",
      "            u = link.contents[0].encode('utf-8')\n",
      "            f = pdf\n",
      "            print \"a guardian document! \"+ f\n",
      "        elif pdf.startswith('http://apps.washingtonpost.com/'):\n",
      "            u = link.contents[0].encode('utf-8')\n",
      "            f = pdf\n",
      "            print \"a post document! \"+ f\n",
      "        else:\n",
      "            continue\n",
      "\n"
     ],
     "language": "python",
     "metadata": {},
     "outputs": [
      {
       "output_type": "stream",
       "stream": "stdout",
       "text": [
        "searching http://www.spiegel.de/international/germany/inside-the-nsa-s-war-on-internet-security-a-1010361.html ...\n",
        "/media/media-35530.pdf is a PDF"
       ]
      },
      {
       "output_type": "stream",
       "stream": "stdout",
       "text": [
        "\n",
        "/media/media-35531.pdf is a PDF\n",
        "/media/media-35532.pdf is a PDF\n",
        "/media/media-35533.pdf is a PDF\n",
        "/media/media-35534.pdf is a PDF\n",
        "/media/media-35535.pdf is a PDF\n",
        "/media/media-35536.pdf is a PDF\n",
        "/media/media-35537.pdf is a PDF\n",
        "/media/media-35544.pdf is a PDF\n",
        "/media/media-35545.pdf is a PDF\n",
        "/media/media-35546.pdf is a PDF\n",
        "/media/media-35547.pdf is a PDF\n",
        "/media/media-35548.pdf is a PDF\n",
        "/media/media-35549.pdf is a PDF\n",
        "/media/media-35550.pdf is a PDF\n",
        "/media/media-35551.pdf is a PDF\n",
        "/media/media-35552.pdf is a PDF\n",
        "/media/media-35538.pdf is a PDF\n",
        "/media/media-35539.pdf is a PDF\n",
        "/media/media-35540.pdf is a PDF\n",
        "/media/media-35541.pdf is a PDF\n",
        "/media/media-35542.pdf is a PDF\n",
        "/media/media-35543.pdf is a PDF\n",
        "/media/media-35513.pdf is a PDF\n",
        "/media/media-35514.pdf is a PDF\n",
        "/media/media-35515.pdf is a PDF\n",
        "/media/media-35516.pdf is a PDF\n",
        "/media/media-35517.pdf is a PDF\n",
        "/media/media-35518.pdf is a PDF"
       ]
      },
      {
       "output_type": "stream",
       "stream": "stdout",
       "text": [
        "\n",
        "/media/media-35519.pdf is a PDF\n",
        "/media/media-35520.pdf is a PDF\n",
        "/media/media-35521.pdf is a PDF\n",
        "/media/media-35522.pdf is a PDF\n",
        "/media/media-35523.pdf is a PDF\n",
        "/media/media-35524.pdf is a PDF\n",
        "/media/media-35525.pdf is a PDF\n",
        "/media/media-35526.pdf is a PDF\n",
        "/media/media-35527.pdf is a PDF\n",
        "/media/media-35528.pdf is a PDF\n",
        "/media/media-35529.pdf is a PDF\n",
        "/media/media-35509.pdf is a PDF\n",
        "/media/media-35510.pdf is a PDF\n",
        "/media/media-35511.pdf is a PDF\n",
        "/media/media-35512.pdf is a PDF\n",
        "searching http://www.spiegel.de/international/world/nsa-documents-attacks-on-vpn-ssl-tls-ssh-tor-a-1010525.html ..."
       ]
      },
      {
       "output_type": "stream",
       "stream": "stdout",
       "text": [
        "\n",
        "/media/media-35530.pdf is a PDF"
       ]
      },
      {
       "output_type": "stream",
       "stream": "stderr",
       "text": [
        "WARNING:root:Some characters could not be decoded, and were replaced with REPLACEMENT CHARACTER.\n"
       ]
      },
      {
       "output_type": "stream",
       "stream": "stdout",
       "text": [
        "\n",
        "/media/media-35531.pdf is a PDF\n",
        "/media/media-35532.pdf is a PDF\n",
        "/media/media-35533.pdf is a PDF\n",
        "/media/media-35534.pdf is a PDF\n",
        "/media/media-35535.pdf is a PDF\n",
        "/media/media-35536.pdf is a PDF\n",
        "/media/media-35537.pdf is a PDF\n",
        "/media/media-35509.pdf is a PDF\n",
        "/media/media-35510.pdf is a PDF\n",
        "/media/media-35511.pdf is a PDF\n",
        "/media/media-35512.pdf is a PDF\n",
        "/media/media-35513.pdf is a PDF\n",
        "/media/media-35514.pdf is a PDF\n",
        "/media/media-35515.pdf is a PDF\n",
        "/media/media-35516.pdf is a PDF\n",
        "/media/media-35517.pdf is a PDF\n",
        "/media/media-35518.pdf is a PDF\n",
        "/media/media-35519.pdf is a PDF\n",
        "/media/media-35520.pdf is a PDF\n",
        "/media/media-35521.pdf is a PDF\n",
        "/media/media-35522.pdf is a PDF\n",
        "/media/media-35523.pdf is a PDF\n",
        "/media/media-35524.pdf is a PDF\n",
        "/media/media-35525.pdf is a PDF\n",
        "/media/media-35526.pdf is a PDF\n",
        "/media/media-35527.pdf is a PDF\n",
        "/media/media-35528.pdf is a PDF\n",
        "/media/media-35529.pdf is a PDF\n",
        "/media/media-35538.pdf is a PDF\n",
        "/media/media-35539.pdf is a PDF\n",
        "/media/media-35540.pdf is a PDF\n",
        "/media/media-35541.pdf is a PDF\n",
        "/media/media-35542.pdf is a PDF\n",
        "/media/media-35543.pdf is a PDF\n",
        "/media/media-35544.pdf is a PDF\n",
        "/media/media-35545.pdf is a PDF\n",
        "/media/media-35546.pdf is a PDF\n",
        "/media/media-35547.pdf is a PDF\n",
        "/media/media-35548.pdf is a PDF\n",
        "/media/media-35549.pdf is a PDF\n",
        "/media/media-35550.pdf is a PDF\n",
        "/media/media-35551.pdf is a PDF\n",
        "/media/media-35552.pdf is a PDF\n",
        "searching http://www.spiegel.de/media/media-35530.pdf ..."
       ]
      },
      {
       "output_type": "stream",
       "stream": "stderr",
       "text": [
        "WARNING:root:Some characters could not be decoded, and were replaced with REPLACEMENT CHARACTER.\n"
       ]
      },
      {
       "output_type": "stream",
       "stream": "stdout",
       "text": [
        "\n",
        "searching http://www.spiegel.de/media/media-35531.pdf ..."
       ]
      },
      {
       "output_type": "stream",
       "stream": "stderr",
       "text": [
        "WARNING:root:Some characters could not be decoded, and were replaced with REPLACEMENT CHARACTER.\n"
       ]
      },
      {
       "output_type": "stream",
       "stream": "stdout",
       "text": [
        "\n",
        "searching http://www.spiegel.de/media/media-35532.pdf ..."
       ]
      },
      {
       "output_type": "stream",
       "stream": "stderr",
       "text": [
        "WARNING:root:Some characters could not be decoded, and were replaced with REPLACEMENT CHARACTER.\n"
       ]
      },
      {
       "output_type": "stream",
       "stream": "stdout",
       "text": [
        "\n",
        "searching http://www.spiegel.de/media/media-35533.pdf ..."
       ]
      },
      {
       "output_type": "stream",
       "stream": "stderr",
       "text": [
        "WARNING:root:Some characters could not be decoded, and were replaced with REPLACEMENT CHARACTER.\n"
       ]
      },
      {
       "output_type": "stream",
       "stream": "stdout",
       "text": [
        "\n",
        "searching http://www.spiegel.de/media/media-35534.pdf ..."
       ]
      },
      {
       "output_type": "stream",
       "stream": "stderr",
       "text": [
        "WARNING:root:Some characters could not be decoded, and were replaced with REPLACEMENT CHARACTER.\n"
       ]
      },
      {
       "output_type": "stream",
       "stream": "stdout",
       "text": [
        "\n",
        "searching http://www.spiegel.de/media/media-35535.pdf ..."
       ]
      },
      {
       "output_type": "stream",
       "stream": "stderr",
       "text": [
        "WARNING:root:Some characters could not be decoded, and were replaced with REPLACEMENT CHARACTER.\n"
       ]
      },
      {
       "output_type": "stream",
       "stream": "stdout",
       "text": [
        "\n",
        "searching http://www.spiegel.de/media/media-35536.pdf ..."
       ]
      },
      {
       "output_type": "stream",
       "stream": "stderr",
       "text": [
        "WARNING:root:Some characters could not be decoded, and were replaced with REPLACEMENT CHARACTER.\n"
       ]
      },
      {
       "output_type": "stream",
       "stream": "stdout",
       "text": [
        "\n",
        "searching http://www.spiegel.de/media/media-35537.pdf ..."
       ]
      },
      {
       "output_type": "stream",
       "stream": "stderr",
       "text": [
        "WARNING:root:Some characters could not be decoded, and were replaced with REPLACEMENT CHARACTER.\n"
       ]
      },
      {
       "output_type": "stream",
       "stream": "stdout",
       "text": [
        "\n",
        "searching http://www.spiegel.de/media/media-35509.pdf ..."
       ]
      },
      {
       "output_type": "stream",
       "stream": "stderr",
       "text": [
        "WARNING:root:Some characters could not be decoded, and were replaced with REPLACEMENT CHARACTER.\n"
       ]
      },
      {
       "output_type": "stream",
       "stream": "stdout",
       "text": [
        "\n",
        "searching http://www.spiegel.de/media/media-35510.pdf ..."
       ]
      },
      {
       "output_type": "stream",
       "stream": "stderr",
       "text": [
        "WARNING:root:Some characters could not be decoded, and were replaced with REPLACEMENT CHARACTER.\n"
       ]
      },
      {
       "output_type": "stream",
       "stream": "stdout",
       "text": [
        "\n",
        "searching http://www.spiegel.de/media/media-35511.pdf ..."
       ]
      },
      {
       "output_type": "stream",
       "stream": "stderr",
       "text": [
        "WARNING:root:Some characters could not be decoded, and were replaced with REPLACEMENT CHARACTER.\n"
       ]
      },
      {
       "output_type": "stream",
       "stream": "stdout",
       "text": [
        "\n",
        "searching http://www.spiegel.de/media/media-35512.pdf ..."
       ]
      },
      {
       "output_type": "stream",
       "stream": "stderr",
       "text": [
        "WARNING:root:Some characters could not be decoded, and were replaced with REPLACEMENT CHARACTER.\n"
       ]
      },
      {
       "output_type": "stream",
       "stream": "stdout",
       "text": [
        "\n",
        "searching http://www.spiegel.de/media/media-35513.pdf ..."
       ]
      },
      {
       "output_type": "stream",
       "stream": "stderr",
       "text": [
        "WARNING:root:Some characters could not be decoded, and were replaced with REPLACEMENT CHARACTER.\n"
       ]
      },
      {
       "output_type": "stream",
       "stream": "stdout",
       "text": [
        "\n",
        "searching http://www.spiegel.de/media/media-35514.pdf ..."
       ]
      },
      {
       "output_type": "stream",
       "stream": "stderr",
       "text": [
        "WARNING:root:Some characters could not be decoded, and were replaced with REPLACEMENT CHARACTER.\n"
       ]
      },
      {
       "output_type": "stream",
       "stream": "stdout",
       "text": [
        "\n",
        "searching http://www.spiegel.de/media/media-35515.pdf ..."
       ]
      },
      {
       "output_type": "stream",
       "stream": "stderr",
       "text": [
        "WARNING:root:Some characters could not be decoded, and were replaced with REPLACEMENT CHARACTER.\n"
       ]
      },
      {
       "output_type": "stream",
       "stream": "stdout",
       "text": [
        "\n",
        "searching http://www.spiegel.de/media/media-35516.pdf ..."
       ]
      },
      {
       "output_type": "stream",
       "stream": "stderr",
       "text": [
        "WARNING:root:Some characters could not be decoded, and were replaced with REPLACEMENT CHARACTER.\n"
       ]
      },
      {
       "output_type": "stream",
       "stream": "stdout",
       "text": [
        "\n",
        "searching http://www.spiegel.de/media/media-35517.pdf ..."
       ]
      },
      {
       "output_type": "stream",
       "stream": "stderr",
       "text": [
        "WARNING:root:Some characters could not be decoded, and were replaced with REPLACEMENT CHARACTER.\n"
       ]
      },
      {
       "output_type": "stream",
       "stream": "stdout",
       "text": [
        "\n",
        "searching http://www.spiegel.de/media/media-35518.pdf ..."
       ]
      },
      {
       "output_type": "stream",
       "stream": "stderr",
       "text": [
        "WARNING:root:Some characters could not be decoded, and were replaced with REPLACEMENT CHARACTER.\n"
       ]
      },
      {
       "output_type": "stream",
       "stream": "stdout",
       "text": [
        "\n",
        "searching http://www.spiegel.de/media/media-35519.pdf ..."
       ]
      },
      {
       "output_type": "stream",
       "stream": "stderr",
       "text": [
        "WARNING:root:Some characters could not be decoded, and were replaced with REPLACEMENT CHARACTER.\n"
       ]
      },
      {
       "output_type": "stream",
       "stream": "stdout",
       "text": [
        "\n",
        "searching http://www.spiegel.de/media/media-35520.pdf ..."
       ]
      },
      {
       "output_type": "stream",
       "stream": "stderr",
       "text": [
        "WARNING:root:Some characters could not be decoded, and were replaced with REPLACEMENT CHARACTER.\n"
       ]
      },
      {
       "output_type": "stream",
       "stream": "stdout",
       "text": [
        "\n",
        "searching http://www.spiegel.de/media/media-35521.pdf ..."
       ]
      },
      {
       "output_type": "stream",
       "stream": "stderr",
       "text": [
        "WARNING:root:Some characters could not be decoded, and were replaced with REPLACEMENT CHARACTER.\n"
       ]
      },
      {
       "output_type": "stream",
       "stream": "stdout",
       "text": [
        "\n",
        "searching http://www.spiegel.de/media/media-35522.pdf ..."
       ]
      },
      {
       "output_type": "stream",
       "stream": "stderr",
       "text": [
        "WARNING:root:Some characters could not be decoded, and were replaced with REPLACEMENT CHARACTER.\n"
       ]
      },
      {
       "output_type": "stream",
       "stream": "stdout",
       "text": [
        "\n",
        "searching http://www.spiegel.de/media/media-35523.pdf ..."
       ]
      },
      {
       "output_type": "stream",
       "stream": "stderr",
       "text": [
        "WARNING:root:Some characters could not be decoded, and were replaced with REPLACEMENT CHARACTER.\n"
       ]
      },
      {
       "output_type": "stream",
       "stream": "stdout",
       "text": [
        "\n",
        "searching http://www.spiegel.de/media/media-35524.pdf ..."
       ]
      },
      {
       "output_type": "stream",
       "stream": "stderr",
       "text": [
        "WARNING:root:Some characters could not be decoded, and were replaced with REPLACEMENT CHARACTER.\n"
       ]
      },
      {
       "output_type": "stream",
       "stream": "stdout",
       "text": [
        "\n",
        "searching http://www.spiegel.de/media/media-35525.pdf ..."
       ]
      },
      {
       "output_type": "stream",
       "stream": "stderr",
       "text": [
        "WARNING:root:Some characters could not be decoded, and were replaced with REPLACEMENT CHARACTER.\n"
       ]
      },
      {
       "output_type": "stream",
       "stream": "stdout",
       "text": [
        "\n",
        "searching http://www.spiegel.de/media/media-35526.pdf ..."
       ]
      },
      {
       "output_type": "stream",
       "stream": "stderr",
       "text": [
        "WARNING:root:Some characters could not be decoded, and were replaced with REPLACEMENT CHARACTER.\n"
       ]
      },
      {
       "output_type": "stream",
       "stream": "stdout",
       "text": [
        "\n",
        "searching http://www.spiegel.de/media/media-35527.pdf ..."
       ]
      },
      {
       "output_type": "stream",
       "stream": "stderr",
       "text": [
        "WARNING:root:Some characters could not be decoded, and were replaced with REPLACEMENT CHARACTER.\n"
       ]
      },
      {
       "output_type": "stream",
       "stream": "stdout",
       "text": [
        "\n",
        "searching http://www.spiegel.de/media/media-35528.pdf ..."
       ]
      },
      {
       "output_type": "stream",
       "stream": "stderr",
       "text": [
        "WARNING:root:Some characters could not be decoded, and were replaced with REPLACEMENT CHARACTER.\n"
       ]
      },
      {
       "output_type": "stream",
       "stream": "stdout",
       "text": [
        "\n",
        "searching http://www.spiegel.de/media/media-35529.pdf ..."
       ]
      },
      {
       "output_type": "stream",
       "stream": "stderr",
       "text": [
        "WARNING:root:Some characters could not be decoded, and were replaced with REPLACEMENT CHARACTER.\n"
       ]
      },
      {
       "output_type": "stream",
       "stream": "stdout",
       "text": [
        "\n",
        "searching http://www.spiegel.de/media/media-35538.pdf ..."
       ]
      },
      {
       "output_type": "stream",
       "stream": "stderr",
       "text": [
        "WARNING:root:Some characters could not be decoded, and were replaced with REPLACEMENT CHARACTER.\n"
       ]
      },
      {
       "output_type": "stream",
       "stream": "stdout",
       "text": [
        "\n",
        "searching http://www.spiegel.de/media/media-35539.pdf ..."
       ]
      },
      {
       "output_type": "stream",
       "stream": "stderr",
       "text": [
        "WARNING:root:Some characters could not be decoded, and were replaced with REPLACEMENT CHARACTER.\n"
       ]
      },
      {
       "output_type": "stream",
       "stream": "stdout",
       "text": [
        "\n",
        "searching http://www.spiegel.de/media/media-35540.pdf ..."
       ]
      },
      {
       "output_type": "stream",
       "stream": "stderr",
       "text": [
        "WARNING:root:Some characters could not be decoded, and were replaced with REPLACEMENT CHARACTER.\n"
       ]
      },
      {
       "output_type": "stream",
       "stream": "stdout",
       "text": [
        "\n",
        "searching http://www.spiegel.de/media/media-35541.pdf ..."
       ]
      },
      {
       "output_type": "stream",
       "stream": "stderr",
       "text": [
        "WARNING:root:Some characters could not be decoded, and were replaced with REPLACEMENT CHARACTER.\n"
       ]
      },
      {
       "output_type": "stream",
       "stream": "stdout",
       "text": [
        "\n",
        "searching http://www.spiegel.de/media/media-35542.pdf ..."
       ]
      },
      {
       "output_type": "stream",
       "stream": "stderr",
       "text": [
        "WARNING:root:Some characters could not be decoded, and were replaced with REPLACEMENT CHARACTER.\n"
       ]
      },
      {
       "output_type": "stream",
       "stream": "stdout",
       "text": [
        "\n",
        "searching http://www.spiegel.de/media/media-35543.pdf ..."
       ]
      },
      {
       "output_type": "stream",
       "stream": "stderr",
       "text": [
        "WARNING:root:Some characters could not be decoded, and were replaced with REPLACEMENT CHARACTER.\n"
       ]
      },
      {
       "output_type": "stream",
       "stream": "stdout",
       "text": [
        "\n",
        "searching http://www.spiegel.de/media/media-35544.pdf ..."
       ]
      },
      {
       "output_type": "stream",
       "stream": "stderr",
       "text": [
        "WARNING:root:Some characters could not be decoded, and were replaced with REPLACEMENT CHARACTER.\n"
       ]
      },
      {
       "output_type": "stream",
       "stream": "stdout",
       "text": [
        "\n",
        "searching http://www.spiegel.de/media/media-35545.pdf ..."
       ]
      },
      {
       "output_type": "stream",
       "stream": "stderr",
       "text": [
        "WARNING:root:Some characters could not be decoded, and were replaced with REPLACEMENT CHARACTER.\n"
       ]
      },
      {
       "output_type": "stream",
       "stream": "stdout",
       "text": [
        "\n",
        "searching http://www.spiegel.de/media/media-35546.pdf ..."
       ]
      },
      {
       "output_type": "stream",
       "stream": "stderr",
       "text": [
        "WARNING:root:Some characters could not be decoded, and were replaced with REPLACEMENT CHARACTER.\n"
       ]
      },
      {
       "output_type": "stream",
       "stream": "stdout",
       "text": [
        "\n",
        "searching http://www.spiegel.de/media/media-35547.pdf ..."
       ]
      },
      {
       "output_type": "stream",
       "stream": "stderr",
       "text": [
        "WARNING:root:Some characters could not be decoded, and were replaced with REPLACEMENT CHARACTER.\n"
       ]
      },
      {
       "output_type": "stream",
       "stream": "stdout",
       "text": [
        "\n",
        "searching http://www.spiegel.de/media/media-35548.pdf ..."
       ]
      },
      {
       "output_type": "stream",
       "stream": "stderr",
       "text": [
        "WARNING:root:Some characters could not be decoded, and were replaced with REPLACEMENT CHARACTER.\n"
       ]
      },
      {
       "output_type": "stream",
       "stream": "stdout",
       "text": [
        "\n",
        "searching http://www.spiegel.de/media/media-35549.pdf ..."
       ]
      },
      {
       "output_type": "stream",
       "stream": "stderr",
       "text": [
        "WARNING:root:Some characters could not be decoded, and were replaced with REPLACEMENT CHARACTER.\n"
       ]
      },
      {
       "output_type": "stream",
       "stream": "stdout",
       "text": [
        "\n",
        "searching http://www.spiegel.de/media/media-35550.pdf ..."
       ]
      },
      {
       "output_type": "stream",
       "stream": "stderr",
       "text": [
        "WARNING:root:Some characters could not be decoded, and were replaced with REPLACEMENT CHARACTER.\n"
       ]
      },
      {
       "output_type": "stream",
       "stream": "stdout",
       "text": [
        "\n",
        "searching http://www.spiegel.de/media/media-35551.pdf ..."
       ]
      },
      {
       "output_type": "stream",
       "stream": "stderr",
       "text": [
        "WARNING:root:Some characters could not be decoded, and were replaced with REPLACEMENT CHARACTER.\n"
       ]
      },
      {
       "output_type": "stream",
       "stream": "stdout",
       "text": [
        "\n",
        "searching http://www.spiegel.de/media/media-35552.pdf ..."
       ]
      },
      {
       "output_type": "stream",
       "stream": "stdout",
       "text": [
        "\n",
        "searching http://www.spiegel.de/international/world/secret-docs-reveal-dubious-details-of-targeted-killings-in-afghanistan-a-1010358.html ..."
       ]
      },
      {
       "output_type": "stream",
       "stream": "stderr",
       "text": [
        "WARNING:root:Some characters could not be decoded, and were replaced with REPLACEMENT CHARACTER.\n"
       ]
      },
      {
       "output_type": "stream",
       "stream": "stdout",
       "text": [
        "\n",
        "/media/media-35506.pdf is a PDF\n",
        "/media/media-35507.pdf is a PDF\n",
        "/media/media-35508.pdf is a PDF\n",
        "/media/media-35553.pdf is a PDF\n",
        "searching http://www.spiegel.de/media/media-35506.pdf ..."
       ]
      },
      {
       "output_type": "stream",
       "stream": "stderr",
       "text": [
        "WARNING:root:Some characters could not be decoded, and were replaced with REPLACEMENT CHARACTER.\n"
       ]
      },
      {
       "output_type": "stream",
       "stream": "stdout",
       "text": [
        "\n",
        "searching http://www.spiegel.de/media/media-35507.pdf ..."
       ]
      },
      {
       "output_type": "stream",
       "stream": "stderr",
       "text": [
        "WARNING:root:Some characters could not be decoded, and were replaced with REPLACEMENT CHARACTER.\n"
       ]
      },
      {
       "output_type": "stream",
       "stream": "stdout",
       "text": [
        "\n",
        "searching http://www.spiegel.de/media/media-35508.pdf ..."
       ]
      },
      {
       "output_type": "stream",
       "stream": "stderr",
       "text": [
        "WARNING:root:Some characters could not be decoded, and were replaced with REPLACEMENT CHARACTER.\n"
       ]
      },
      {
       "output_type": "stream",
       "stream": "stdout",
       "text": [
        "\n",
        "searching http://www.spiegel.de/media/media-35553.pdf ..."
       ]
      },
      {
       "output_type": "stream",
       "stream": "stdout",
       "text": [
        "\n",
        "searching https://firstlook.org/theintercept/2014/12/13/belgacom-hack-gchq-inside-story/ ..."
       ]
      },
      {
       "output_type": "stream",
       "stream": "stdout",
       "text": [
        "\n",
        "an intercept document! https://firstlook.org/theintercept/document/2014/12/13/gchq-automated-noc-detection-2011/\n",
        "an intercept document! https://firstlook.org/theintercept/document/2014/12/13/gchq-making-network-sense-encryption-problem-2011/\n",
        "an intercept document! https://firstlook.org/theintercept/document/2014/12/13/gchq-automated-noc-detection-2011/\n",
        "an intercept document! https://firstlook.org/theintercept/document/2014/12/13/gchq-automated-noc-detection-2011/\n",
        "an intercept document! https://firstlook.org/theintercept/document/2014/03/12/quantum-insert-diagrams/\n",
        "an intercept document! https://firstlook.org/theintercept/document/2014/12/13/gchq-automated-noc-detection-2011/\n",
        "an intercept document! https://firstlook.org/theintercept/document/2014/12/13/gchq-mobile-networks-noc-world/\n",
        "an intercept document! https://firstlook.org/theintercept/document/2014/12/13/gchq-making-network-sense-encryption-problem-2011/\n",
        "an intercept document! https://firstlook.org/theintercept/document/2014/12/13/gchq-stargate-cne-requirements/\n",
        "an intercept document! https://firstlook.org/theintercept/document/2014/12/13/gchq-nac-review-october-december-2011/\n",
        "an intercept document! https://firstlook.org/theintercept/document/2014/12/13/gchq-nac-business-review-january-march-2011/\n",
        "an intercept document! https://firstlook.org/theintercept/document/2014/12/13/gchq-nac-review-april-june-2011/\n",
        "an intercept document! https://firstlook.org/theintercept/document/2014/12/13/gchq-nac-review-july-september-2011/\n",
        "an intercept document! https://firstlook.org/theintercept/document/2014/12/13/gchq-nac-review-january-march-2012/\n",
        "an intercept document! https://firstlook.org/theintercept/document/2014/12/13/hopscotch/\n",
        "an intercept document! https://firstlook.org/theintercept/document/2014/12/13/gchq-belgacom-connections/\n",
        "searching https://firstlook.org/theintercept/document/2014/12/13/gchq-automated-noc-detection-2011 ..."
       ]
      },
      {
       "output_type": "stream",
       "stream": "stdout",
       "text": [
        "\n",
        "searching https://firstlook.org/theintercept/document/2014/12/13/gchq-mobile-networks-noc-world ..."
       ]
      },
      {
       "output_type": "stream",
       "stream": "stdout",
       "text": [
        "\n",
        "searching https://firstlook.org/theintercept/document/2014/12/13/gchq-making-network-sense-encryption-problem-2011 ..."
       ]
      },
      {
       "output_type": "stream",
       "stream": "stdout",
       "text": [
        "\n",
        "searching https://firstlook.org/theintercept/document/2014/12/13/gchq-stargate-cne-requirements ..."
       ]
      },
      {
       "output_type": "stream",
       "stream": "stdout",
       "text": [
        "\n",
        "searching https://firstlook.org/theintercept/document/2014/12/13/gchq-nac-review-october-december-2011 ..."
       ]
      },
      {
       "output_type": "stream",
       "stream": "stdout",
       "text": [
        "\n",
        "searching https://firstlook.org/theintercept/document/2014/12/13/gchq-nac-business-review-january-march-2011 ..."
       ]
      },
      {
       "output_type": "stream",
       "stream": "stdout",
       "text": [
        "\n",
        "searching https://firstlook.org/theintercept/document/2014/12/13/gchq-nac-review-april-june-2011 ..."
       ]
      },
      {
       "output_type": "stream",
       "stream": "stdout",
       "text": [
        "\n",
        "searching https://firstlook.org/theintercept/document/2014/12/13/gchq-nac-review-july-september-2011 ..."
       ]
      },
      {
       "output_type": "stream",
       "stream": "stdout",
       "text": [
        "\n",
        "searching https://firstlook.org/theintercept/document/2014/12/13/gchq-nac-review-january-march-2012 ..."
       ]
      },
      {
       "output_type": "stream",
       "stream": "stdout",
       "text": [
        "\n",
        "searching https://firstlook.org/theintercept/document/2014/12/13/hopscotch ..."
       ]
      },
      {
       "output_type": "stream",
       "stream": "stdout",
       "text": [
        "\n",
        "searching https://firstlook.org/theintercept/document/2014/12/13/gchq-belgacom-connections ..."
       ]
      },
      {
       "output_type": "stream",
       "stream": "stdout",
       "text": [
        "\n",
        "searching https://firstlook.org/theintercept/document/2014/12/04/auroragold-project-overview ..."
       ]
      },
      {
       "output_type": "stream",
       "stream": "stdout",
       "text": [
        "\n",
        "searching https://firstlook.org/theintercept/document/2014/12/04/auroragold-working-group/ ..."
       ]
      },
      {
       "output_type": "stream",
       "stream": "stdout",
       "text": [
        "\n",
        "searching https://firstlook.org/theintercept/document/2014/12/04/ir-21-technology-warning-mechanism ..."
       ]
      },
      {
       "output_type": "stream",
       "stream": "stdout",
       "text": [
        "\n",
        "searching https://firstlook.org/theintercept/document/2014/12/04/auroragold-target-technology-trends-center-support-wpmo ..."
       ]
      },
      {
       "output_type": "stream",
       "stream": "stdout",
       "text": [
        "\n",
        "searching https://firstlook.org/theintercept/document/2014/12/04/first-ever-collect-high-interest-4g-cellular-signal ..."
       ]
      },
      {
       "output_type": "stream",
       "stream": "stdout",
       "text": [
        "\n",
        "searching https://firstlook.org/theintercept/document/2014/12/04/auroragold-working-aid ..."
       ]
      },
      {
       "output_type": "stream",
       "stream": "stdout",
       "text": [
        "\n",
        "searching https://firstlook.org/theintercept/document/2014/12/04/wolframite-encryption-attack ..."
       ]
      },
      {
       "output_type": "stream",
       "stream": "stdout",
       "text": [
        "\n",
        "searching https://firstlook.org/theintercept/document/2014/12/04/opulent-pup-encryption-attack ..."
       ]
      },
      {
       "output_type": "stream",
       "stream": "stdout",
       "text": [
        "\n",
        "searching https://firstlook.org/theintercept/document/2014/12/04/nsa-gchq-csec-network-tradecraft-advancement-team ..."
       ]
      },
      {
       "output_type": "stream",
       "stream": "stdout",
       "text": [
        "\n",
        "searching https://firstlook.org/theintercept/2014/12/04/nsa-auroragold-hack-cellphones/ ..."
       ]
      },
      {
       "output_type": "stream",
       "stream": "stdout",
       "text": [
        "\n",
        "an intercept document! https://firstlook.org/theintercept/document/2014/12/04/auroragold-working-group/\n",
        "an intercept document! https://firstlook.org/theintercept/document/2014/12/04/auroragold-working-aid\n",
        "an intercept document! https://firstlook.org/theintercept/document/2014/12/04/ir-21-technology-warning-mechanism\n",
        "an intercept document! https://firstlook.org/theintercept/document/2014/12/04/auroragold-working-aid\n",
        "an intercept document! https://firstlook.org/theintercept/document/2014/12/04/opulent-pup-encryption-attack\n",
        "an intercept document! https://firstlook.org/theintercept/document/2014/12/04/wolframite-encryption-attack\n",
        "an intercept document! https://firstlook.org/theintercept/document/2014/12/04/first-ever-collect-high-interest-4g-cellular-signal\n",
        "http://www.whitehouse.gov/sites/default/files/docs/2013-12-12_rg_final_report.pdf is a PDF\n",
        "an intercept document! https://firstlook.org/theintercept/document/2014/12/04/auroragold-project-overview\n",
        "an intercept document! https://firstlook.org/theintercept/document/2014/12/04/auroragold-working-group/\n",
        "an intercept document! https://firstlook.org/theintercept/document/2014/12/04/ir-21-technology-warning-mechanism\n",
        "an intercept document! https://firstlook.org/theintercept/document/2014/12/04/auroragold-target-technology-trends-center-support-wpmo\n",
        "an intercept document! https://firstlook.org/theintercept/document/2014/12/04/first-ever-collect-high-interest-4g-cellular-signal\n",
        "an intercept document! https://firstlook.org/theintercept/document/2014/12/04/auroragold-working-aid\n",
        "an intercept document! https://firstlook.org/theintercept/document/2014/12/04/wolframite-encryption-attack\n",
        "an intercept document! https://firstlook.org/theintercept/document/2014/12/04/opulent-pup-encryption-attack\n",
        "an intercept document! https://firstlook.org/theintercept/document/2014/12/04/nsa-gchq-csec-network-tradecraft-advancement-team\n",
        "searching https://firstlook.org/theintercept/2014/11/20/vodafone-surveillance-gchq-snowden/ ..."
       ]
      },
      {
       "output_type": "stream",
       "stream": "stderr",
       "text": [
        "WARNING:root:Some characters could not be decoded, and were replaced with REPLACEMENT CHARACTER.\n"
       ]
      },
      {
       "output_type": "stream",
       "stream": "stdout",
       "text": [
        "\n",
        "searching https://netzpolitik.org/wp-upload/2014-11-Snowden-Gerontic/25_apr_2013_sso_weekly_brief.pdf ..."
       ]
      },
      {
       "output_type": "stream",
       "stream": "stderr",
       "text": [
        "WARNING:root:Some characters could not be decoded, and were replaced with REPLACEMENT CHARACTER.\n"
       ]
      },
      {
       "output_type": "stream",
       "stream": "stdout",
       "text": [
        "\n",
        "searching https://netzpolitik.org/wp-upload/2014-11-Snowden-Gerontic/27_June_08_redacted.pdf ..."
       ]
      },
      {
       "output_type": "stream",
       "stream": "stderr",
       "text": [
        "WARNING:root:Some characters could not be decoded, and were replaced with REPLACEMENT CHARACTER.\n"
       ]
      },
      {
       "output_type": "stream",
       "stream": "stdout",
       "text": [
        "\n",
        "searching https://netzpolitik.org/wp-upload/2014-11-Snowden-Gerontic/28_November_08_redacted.pdf ..."
       ]
      },
      {
       "output_type": "stream",
       "stream": "stderr",
       "text": [
        "WARNING:root:Some characters could not be decoded, and were replaced with REPLACEMENT CHARACTER.\n"
       ]
      },
      {
       "output_type": "stream",
       "stream": "stdout",
       "text": [
        "\n",
        "searching https://netzpolitik.org/wp-upload/2014-11-Snowden-Gerontic/6_February_09_redacted.pdf ..."
       ]
      },
      {
       "output_type": "stream",
       "stream": "stderr",
       "text": [
        "WARNING:root:Some characters could not be decoded, and were replaced with REPLACEMENT CHARACTER.\n"
       ]
      },
      {
       "output_type": "stream",
       "stream": "stdout",
       "text": [
        "\n",
        "searching https://netzpolitik.org/wp-upload/2014-11-Snowden-Gerontic/CNE_PFENNING_ALPHA_redacted.pdf ..."
       ]
      },
      {
       "output_type": "stream",
       "stream": "stderr",
       "text": [
        "WARNING:root:Some characters could not be decoded, and were replaced with REPLACEMENT CHARACTER.\n"
       ]
      },
      {
       "output_type": "stream",
       "stream": "stdout",
       "text": [
        "\n",
        "searching https://netzpolitik.org/wp-upload/2014-11-Snowden-Gerontic/FEA_cable_list.pdf ..."
       ]
      },
      {
       "output_type": "stream",
       "stream": "stderr",
       "text": [
        "WARNING:root:Some characters could not be decoded, and were replaced with REPLACEMENT CHARACTER.\n"
       ]
      },
      {
       "output_type": "stream",
       "stream": "stdout",
       "text": [
        "\n",
        "searching https://netzpolitik.org/wp-upload/2014-11-Snowden-Gerontic/PTC_Glossary_redacted.pdf ..."
       ]
      },
      {
       "output_type": "stream",
       "stream": "stderr",
       "text": [
        "WARNING:root:Some characters could not be decoded, and were replaced with REPLACEMENT CHARACTER.\n"
       ]
      },
      {
       "output_type": "stream",
       "stream": "stdout",
       "text": [
        "\n",
        "searching https://netzpolitik.org/wp-upload/2014-11-Snowden-Cable-Master-List/access_breakdown.pdf ..."
       ]
      },
      {
       "output_type": "stream",
       "stream": "stderr",
       "text": [
        "WARNING:root:Some characters could not be decoded, and were replaced with REPLACEMENT CHARACTER.\n"
       ]
      },
      {
       "output_type": "stream",
       "stream": "stdout",
       "text": [
        "\n",
        "searching https://netzpolitik.org/wp-upload/2014-11-Snowden-Cable-Master-List/data.pdf ..."
       ]
      },
      {
       "output_type": "stream",
       "stream": "stderr",
       "text": [
        "WARNING:root:Some characters could not be decoded, and were replaced with REPLACEMENT CHARACTER.\n"
       ]
      },
      {
       "output_type": "stream",
       "stream": "stdout",
       "text": [
        "\n",
        "searching https://netzpolitik.org/wp-upload/2014-11-Snowden-Cable-Master-List/no_current_access.pdf ..."
       ]
      },
      {
       "output_type": "stream",
       "stream": "stderr",
       "text": [
        "WARNING:root:Some characters could not be decoded, and were replaced with REPLACEMENT CHARACTER.\n"
       ]
      },
      {
       "output_type": "stream",
       "stream": "stdout",
       "text": [
        "\n",
        "searching https://netzpolitik.org/wp-upload/2014-11-Snowden-Cable-Master-List/partner_cables.pdf ..."
       ]
      },
      {
       "output_type": "stream",
       "stream": "stderr",
       "text": [
        "WARNING:root:Some characters could not be decoded, and were replaced with REPLACEMENT CHARACTER.\n"
       ]
      },
      {
       "output_type": "stream",
       "stream": "stdout",
       "text": [
        "\n",
        "searching https://netzpolitik.org/wp-upload/2014-11-Snowden-Cable-Master-List/regions.pdf ..."
       ]
      },
      {
       "output_type": "stream",
       "stream": "stderr",
       "text": [
        "WARNING:root:Some characters could not be decoded, and were replaced with REPLACEMENT CHARACTER.\n"
       ]
      },
      {
       "output_type": "stream",
       "stream": "stdout",
       "text": [
        "\n",
        "searching https://netzpolitik.org/wp-upload/2014-11-Snowden-Cable-Master-List/WHERE_WE_ARE.pdf ..."
       ]
      },
      {
       "output_type": "stream",
       "stream": "stderr",
       "text": [
        "WARNING:root:Some characters could not be decoded, and were replaced with REPLACEMENT CHARACTER.\n"
       ]
      },
      {
       "output_type": "stream",
       "stream": "stdout",
       "text": [
        "\n",
        "searching https://netzpolitik.org/wp-upload/2014-11-Snowden-Cable-Master-List/WHERE_WE_WANT_TO_BE.pdf ..."
       ]
      },
      {
       "output_type": "stream",
       "stream": "stdout",
       "text": [
        "\n",
        "searching http://international.sueddeutsche.de/post/103543418200/snowden-leaks-how-vodafone-subsidiary-cable ..."
       ]
      },
      {
       "output_type": "stream",
       "stream": "stdout",
       "text": [
        "\n",
        "searching https://firstlook.org/theintercept/2014/10/10/core-secrets/ ..."
       ]
      },
      {
       "output_type": "stream",
       "stream": "stdout",
       "text": [
        "\n",
        "an intercept document! https://firstlook.org/theintercept/?p=6634\n",
        "an intercept document! https://firstlook.org/theintercept/?p=6635\n",
        "an intercept document! https://firstlook.org/theintercept/?p=6661\n",
        "an intercept document! https://firstlook.org/theintercept/?p=6634\n",
        "an intercept document! https://firstlook.org/theintercept/?p=6635\n",
        "an intercept document! https://firstlook.org/theintercept/?p=6633\n",
        "an intercept document! https://firstlook.org/theintercept/?p=6639\n",
        "an intercept document! https://firstlook.org/theintercept/?p=6631\n",
        "an intercept document! https://firstlook.org/theintercept/?p=6630\n",
        "an intercept document! https://firstlook.org/theintercept/?p=6627\n",
        "an intercept document! https://firstlook.org/theintercept/?p=6641\n",
        "an intercept document! https://firstlook.org/theintercept/?p=6661\n",
        "an intercept document! https://firstlook.org/theintercept/?p=6629\n",
        "searching https://firstlook.org/theintercept/document/2014/10/10/national-initiative-protection-program-sentry-eagle/ ..."
       ]
      },
      {
       "output_type": "stream",
       "stream": "stdout",
       "text": [
        "\n",
        "searching https://firstlook.org/theintercept/document/2014/10/10/target-exploitation-classification-guide/ ..."
       ]
      },
      {
       "output_type": "stream",
       "stream": "stdout",
       "text": [
        "\n",
        "searching https://firstlook.org/theintercept/document/2014/10/10/nsa-exceptionally-controlled-information-listing-12-september-2003/ ..."
       ]
      },
      {
       "output_type": "stream",
       "stream": "stdout",
       "text": [
        "\n",
        "searching https://firstlook.org/theintercept/document/2014/10/10/eci-whipgenie-classification-guide/ ..."
       ]
      },
      {
       "output_type": "stream",
       "stream": "stdout",
       "text": [
        "\n",
        "searching https://firstlook.org/theintercept/document/2014/10/10/nsa-classification-guide-eci-pawleys/ ..."
       ]
      },
      {
       "output_type": "stream",
       "stream": "stdout",
       "text": [
        "\n",
        "searching https://firstlook.org/theintercept/document/2014/10/10/eci-control-authorities/ ..."
       ]
      },
      {
       "output_type": "stream",
       "stream": "stdout",
       "text": [
        "\n",
        "searching https://firstlook.org/theintercept/document/2014/10/10/cno-core-secrets/ ..."
       ]
      },
      {
       "output_type": "stream",
       "stream": "stdout",
       "text": [
        "\n",
        "searching https://firstlook.org/theintercept/document/2014/10/10/cno-core-secrets-security-structure/ ..."
       ]
      },
      {
       "output_type": "stream",
       "stream": "stdout",
       "text": [
        "\n",
        "searching https://firstlook.org/theintercept/document/2014/10/10/computer-network-exploitation-classification-guide/ ..."
       ]
      },
      {
       "output_type": "stream",
       "stream": "stdout",
       "text": [
        "\n",
        "searching https://firstlook.org/theintercept/document/2014/10/10/cno-core-secrets-2/ ..."
       ]
      },
      {
       "output_type": "stream",
       "stream": "stdout",
       "text": [
        "\n",
        "searching https://firstlook.org/theintercept/2014/09/15/new-zealand-gcsb-speargun-mass-surveillance/ ..."
       ]
      },
      {
       "output_type": "stream",
       "stream": "stdout",
       "text": [
        "\n",
        "https://prod01-cdn02.cdn.firstlook.org/wp-uploads/sites/1/2014/09/NSA-Doc-1.pdf is a PDF\n",
        "an intercept document! https://firstlook.org/theintercept/?p=4885\n",
        "searching https://firstlook.org/theintercept/2014/09/15/new-zealand-gcsb-speargun-mass-surveillance/ ..."
       ]
      },
      {
       "output_type": "stream",
       "stream": "stdout",
       "text": [
        "\n",
        "https://prod01-cdn02.cdn.firstlook.org/wp-uploads/sites/1/2014/09/NSA-Doc-1.pdf is a PDF\n",
        "an intercept document! https://firstlook.org/theintercept/?p=4885\n",
        "searching https://firstlook.org/theintercept/2014/09/15/new-zealand-gcsb-speargun-mass-surveillance/ ..."
       ]
      },
      {
       "output_type": "stream",
       "stream": "stdout",
       "text": [
        "\n",
        "https://prod01-cdn02.cdn.firstlook.org/wp-uploads/sites/1/2014/09/NSA-Doc-1.pdf is a PDF\n",
        "an intercept document! https://firstlook.org/theintercept/?p=4885\n",
        "searching https://firstlook.org/theintercept/2014/09/15/new-zealand-gcsb-speargun-mass-surveillance/ ..."
       ]
      },
      {
       "output_type": "stream",
       "stream": "stdout",
       "text": [
        "\n",
        "https://prod01-cdn02.cdn.firstlook.org/wp-uploads/sites/1/2014/09/NSA-Doc-1.pdf is a PDF\n",
        "an intercept document! https://firstlook.org/theintercept/?p=4885\n",
        "searching http://www.spiegel.de/international/world/snowden-documents-indicate-nsa-has-breached-deutsche-telekom-a-991503.html ..."
       ]
      },
      {
       "output_type": "stream",
       "stream": "stdout",
       "text": [
        "\n",
        "/media/media-34756.pdf is a PDF"
       ]
      },
      {
       "output_type": "stream",
       "stream": "stdout",
       "text": [
        "\n",
        "/media/media-34757.pdf is a PDF\n",
        "/media/media-34758.pdf is a PDF\n",
        "/media/media-34756.pdf is a PDF\n",
        "/media/media-34757.pdf is a PDF\n",
        "/media/media-34758.pdf is a PDF\n",
        "searching http://www.spiegel.de/international/world/snowden-documents-indicate-nsa-has-breached-deutsche-telekom-a-991503.html ..."
       ]
      },
      {
       "output_type": "stream",
       "stream": "stdout",
       "text": [
        "\n",
        "/media/media-34756.pdf is a PDF\n",
        "/media/media-34757.pdf is a PDF\n",
        "/media/media-34758.pdf is a PDF\n",
        "/media/media-34756.pdf is a PDF\n",
        "/media/media-34757.pdf is a PDF\n",
        "/media/media-34758.pdf is a PDF\n",
        "searching http://www.spiegel.de/international/world/snowden-documents-indicate-nsa-has-breached-deutsche-telekom-a-991503.html ..."
       ]
      },
      {
       "output_type": "stream",
       "stream": "stderr",
       "text": [
        "WARNING:root:Some characters could not be decoded, and were replaced with REPLACEMENT CHARACTER.\n"
       ]
      },
      {
       "output_type": "stream",
       "stream": "stdout",
       "text": [
        "\n",
        "/media/media-34756.pdf is a PDF\n",
        "/media/media-34757.pdf is a PDF\n",
        "/media/media-34758.pdf is a PDF\n",
        "/media/media-34756.pdf is a PDF\n",
        "/media/media-34757.pdf is a PDF\n",
        "/media/media-34758.pdf is a PDF\n",
        "searching http://www.spiegel.de/media/media-34650.pdf ..."
       ]
      },
      {
       "output_type": "stream",
       "stream": "stderr",
       "text": [
        "WARNING:root:Some characters could not be decoded, and were replaced with REPLACEMENT CHARACTER.\n"
       ]
      },
      {
       "output_type": "stream",
       "stream": "stdout",
       "text": [
        "\n",
        "searching http://www.spiegel.de/media/media-34651.pdf ..."
       ]
      },
      {
       "output_type": "stream",
       "stream": "stderr",
       "text": [
        "WARNING:root:Some characters could not be decoded, and were replaced with REPLACEMENT CHARACTER.\n"
       ]
      },
      {
       "output_type": "stream",
       "stream": "stdout",
       "text": [
        "\n",
        "searching http://www.spiegel.de/media/media-34652.pdf ..."
       ]
      },
      {
       "output_type": "stream",
       "stream": "stderr",
       "text": [
        "WARNING:root:Some characters could not be decoded, and were replaced with REPLACEMENT CHARACTER.\n"
       ]
      },
      {
       "output_type": "stream",
       "stream": "stdout",
       "text": [
        "\n",
        "searching http://www.spiegel.de/media/media-34653.pdf ..."
       ]
      },
      {
       "output_type": "stream",
       "stream": "stderr",
       "text": [
        "WARNING:root:Some characters could not be decoded, and were replaced with REPLACEMENT CHARACTER.\n"
       ]
      },
      {
       "output_type": "stream",
       "stream": "stdout",
       "text": [
        "\n",
        "searching http://www.spiegel.de/media/media-34654.pdf ..."
       ]
      },
      {
       "output_type": "stream",
       "stream": "stderr",
       "text": [
        "WARNING:root:Some characters could not be decoded, and were replaced with REPLACEMENT CHARACTER.\n"
       ]
      },
      {
       "output_type": "stream",
       "stream": "stdout",
       "text": [
        "\n",
        "searching http://www.spiegel.de/media/media-34655.pdf ..."
       ]
      },
      {
       "output_type": "stream",
       "stream": "stderr",
       "text": [
        "WARNING:root:Some characters could not be decoded, and were replaced with REPLACEMENT CHARACTER.\n"
       ]
      },
      {
       "output_type": "stream",
       "stream": "stdout",
       "text": [
        "\n",
        "searching http://www.spiegel.de/media/media-34656.pdf ..."
       ]
      },
      {
       "output_type": "stream",
       "stream": "stderr",
       "text": [
        "WARNING:root:Some characters could not be decoded, and were replaced with REPLACEMENT CHARACTER.\n"
       ]
      },
      {
       "output_type": "stream",
       "stream": "stdout",
       "text": [
        "\n",
        "searching http://www.spiegel.de/media/media-34657.pdf ..."
       ]
      },
      {
       "output_type": "stream",
       "stream": "stderr",
       "text": [
        "WARNING:root:Some characters could not be decoded, and were replaced with REPLACEMENT CHARACTER.\n"
       ]
      },
      {
       "output_type": "stream",
       "stream": "stdout",
       "text": [
        "\n",
        "searching http://www.spiegel.de/media/media-34658.pdf ..."
       ]
      },
      {
       "output_type": "stream",
       "stream": "stderr",
       "text": [
        "WARNING:root:Some characters could not be decoded, and were replaced with REPLACEMENT CHARACTER.\n"
       ]
      },
      {
       "output_type": "stream",
       "stream": "stdout",
       "text": [
        "\n",
        "searching http://www.spiegel.de/media/media-34659.pdf ..."
       ]
      },
      {
       "output_type": "stream",
       "stream": "stderr",
       "text": [
        "WARNING:root:Some characters could not be decoded, and were replaced with REPLACEMENT CHARACTER.\n"
       ]
      },
      {
       "output_type": "stream",
       "stream": "stdout",
       "text": [
        "\n",
        "searching http://www.spiegel.de/media/media-34660.pdf ..."
       ]
      },
      {
       "output_type": "stream",
       "stream": "stderr",
       "text": [
        "WARNING:root:Some characters could not be decoded, and were replaced with REPLACEMENT CHARACTER.\n"
       ]
      },
      {
       "output_type": "stream",
       "stream": "stdout",
       "text": [
        "\n",
        "searching http://www.spiegel.de/media/media-34661.pdf ..."
       ]
      },
      {
       "output_type": "stream",
       "stream": "stderr",
       "text": [
        "WARNING:root:Some characters could not be decoded, and were replaced with REPLACEMENT CHARACTER.\n"
       ]
      },
      {
       "output_type": "stream",
       "stream": "stdout",
       "text": [
        "\n",
        "searching http://www.spiegel.de/media/media-34662.pdf ..."
       ]
      },
      {
       "output_type": "stream",
       "stream": "stderr",
       "text": [
        "WARNING:root:Some characters could not be decoded, and were replaced with REPLACEMENT CHARACTER.\n"
       ]
      },
      {
       "output_type": "stream",
       "stream": "stdout",
       "text": [
        "\n",
        "searching http://www.spiegel.de/media/media-34649.pdf ..."
       ]
      },
      {
       "output_type": "stream",
       "stream": "stdout",
       "text": [
        "\n",
        "searching http://www.spiegel.de/international/world/documents-show-nsa-and-gchq-spied-on-partner-turkey-a-989011.html ..."
       ]
      },
      {
       "output_type": "stream",
       "stream": "stdout",
       "text": [
        "\n",
        "/media/media-34655.pdf is a PDF"
       ]
      },
      {
       "output_type": "stream",
       "stream": "stdout",
       "text": [
        "\n",
        "/media/media-34651.pdf is a PDF\n",
        "/media/media-34654.pdf is a PDF\n",
        "/media/media-34661.pdf is a PDF\n",
        "/media/media-34660.pdf is a PDF\n",
        "/media/media-34650.pdf is a PDF\n",
        "/media/media-34651.pdf is a PDF\n",
        "/media/media-34652.pdf is a PDF\n",
        "/media/media-34653.pdf is a PDF\n",
        "/media/media-34654.pdf is a PDF\n",
        "/media/media-34655.pdf is a PDF\n",
        "/media/media-34656.pdf is a PDF\n",
        "/media/media-34657.pdf is a PDF\n",
        "/media/media-34658.pdf is a PDF\n",
        "/media/media-34659.pdf is a PDF\n",
        "/media/media-34660.pdf is a PDF\n",
        "/media/media-34661.pdf is a PDF\n",
        "/media/media-34662.pdf is a PDF\n",
        "/media/media-34649.pdf is a PDF\n",
        "/media/media-34650.pdf is a PDF\n",
        "/media/media-34651.pdf is a PDF\n",
        "/media/media-34652.pdf is a PDF\n",
        "/media/media-34653.pdf is a PDF\n",
        "/media/media-34654.pdf is a PDF\n",
        "/media/media-34655.pdf is a PDF\n",
        "/media/media-34656.pdf is a PDF\n",
        "/media/media-34657.pdf is a PDF\n",
        "/media/media-34658.pdf is a PDF\n",
        "/media/media-34659.pdf is a PDF\n",
        "/media/media-34660.pdf is a PDF\n",
        "/media/media-34661.pdf is a PDF\n",
        "/media/media-34662.pdf is a PDF\n",
        "/media/media-34649.pdf is a PDF\n",
        "/media/media-34654.pdf is a PDF\n",
        "/media/media-34651.pdf is a PDF\n",
        "/media/media-34655.pdf is a PDF\n",
        "/media/media-34661.pdf is a PDF\n",
        "/media/media-34660.pdf is a PDF\n",
        "searching https://firstlook.org/theintercept/document/2014/08/25/cia-colleagues-enthusiastically-welcome-nsa-training ..."
       ]
      },
      {
       "output_type": "stream",
       "stream": "stdout",
       "text": [
        "\n",
        "searching https://firstlook.org/theintercept/document/2014/08/25/sharing-communications-metadata-across-u-s-intelligence-community ..."
       ]
      },
      {
       "output_type": "stream",
       "stream": "stdout",
       "text": [
        "\n",
        "searching https://firstlook.org/theintercept/document/2014/08/25/crisscross-proton-point-paper ..."
       ]
      },
      {
       "output_type": "stream",
       "stream": "stdout",
       "text": [
        "\n",
        "searching https://firstlook.org/theintercept/document/2014/08/25/decision-memorandum-dni-icreach ..."
       ]
      },
      {
       "output_type": "stream",
       "stream": "stdout",
       "text": [
        "\n",
        "searching https://firstlook.org/theintercept/document/2014/08/25/metadata-sharing-memorandum-2005 ..."
       ]
      },
      {
       "output_type": "stream",
       "stream": "stdout",
       "text": [
        "\n",
        "searching https://firstlook.org/theintercept/document/2014/08/25/sharing-sigint-metadata-icreach ..."
       ]
      },
      {
       "output_type": "stream",
       "stream": "stdout",
       "text": [
        "\n",
        "searching https://firstlook.org/theintercept/document/2014/08/25/metadata-policy-conference ..."
       ]
      },
      {
       "output_type": "stream",
       "stream": "stdout",
       "text": [
        "\n",
        "searching https://firstlook.org/theintercept/document/2014/08/25/icreach-wholesale-sharing-2007 ..."
       ]
      },
      {
       "output_type": "stream",
       "stream": "stdout",
       "text": [
        "\n",
        "searching https://firstlook.org/theintercept/document/2014/08/25/black-budget-extracts ..."
       ]
      },
      {
       "output_type": "stream",
       "stream": "stdout",
       "text": [
        "\n",
        "searching https://firstlook.org/theintercept/article/2014/08/25/icreach-nsa-cia-secret-google-crisscross-proton ..."
       ]
      },
      {
       "output_type": "stream",
       "stream": "stdout",
       "text": [
        "\n",
        "an intercept document! https://firstlook.org/theintercept/document/2014/08/25/cia-colleagues-enthusiastically-welcome-nsa-training\n",
        "an intercept document! https://firstlook.org/theintercept/document/2014/08/25/sharing-communications-metadata-across-u-s-intelligence-community\n",
        "an intercept document! https://firstlook.org/theintercept/document/2014/08/25/icreach-wholesale-sharing-2007\n",
        "an intercept document! https://firstlook.org/theintercept/document/2014/08/25/cia-colleagues-enthusiastically-welcome-nsa-training\n",
        "an intercept document! https://firstlook.org/theintercept/document/2014/08/25/decision-memorandum-dni-icreach\n",
        "an intercept document! https://firstlook.org/theintercept/document/2014/08/25/sharing-communications-metadata-across-u-s-intelligence-community\n",
        "an intercept document! https://firstlook.org/theintercept/document/2014/08/25/metadata-sharing-memorandum-2005\n",
        "an intercept document! https://firstlook.org/theintercept/document/2014/08/25/crisscross-proton-point-paper\n",
        "an intercept document! https://firstlook.org/theintercept/document/2014/08/25/metadata-sharing-memorandum-2005\n",
        "an intercept document! https://firstlook.org/theintercept/document/2014/08/25/decision-memorandum-dni-icreach\n",
        "an intercept document! https://firstlook.org/theintercept/document/2014/08/25/sharing-communications-metadata-across-u-s-intelligence-community\n",
        "http://fas.org/sgp/othergov/intel/clear-2013.pdf is a PDF\n",
        "an intercept document! https://firstlook.org/theintercept/document/2014/08/25/cia-colleagues-enthusiastically-welcome-nsa-training\n",
        "an intercept document! https://firstlook.org/theintercept/document/2014/08/25/black-budget-extracts\n",
        "http://www.whitehouse.gov/sites/default/files/docs/2013-12-12_rg_final_report.pdf is a PDF\n",
        "an intercept document! https://firstlook.org/theintercept/document/2014/08/25/cia-colleagues-enthusiastically-welcome-nsa-training\n",
        "an intercept document! https://firstlook.org/theintercept/document/2014/08/25/sharing-communications-metadata-across-u-s-intelligence-community\n",
        "an intercept document! https://firstlook.org/theintercept/document/2014/08/25/crisscross-proton-point-paper\n",
        "an intercept document! https://firstlook.org/theintercept/document/2014/08/25/decision-memorandum-dni-icreach\n",
        "an intercept document! https://firstlook.org/theintercept/document/2014/08/25/metadata-sharing-memorandum-2005\n",
        "an intercept document! https://firstlook.org/theintercept/document/2014/08/25/sharing-sigint-metadata-icreach\n",
        "an intercept document! https://firstlook.org/theintercept/document/2014/08/25/metadata-policy-conference\n",
        "an intercept document! https://firstlook.org/theintercept/document/2014/08/25/icreach-wholesale-sharing-2007\n",
        "an intercept document! https://firstlook.org/theintercept/document/2014/08/25/black-budget-extracts\n",
        "searching http://www.heise.de/ct/artikel/NSA-GCHQ-The-HACIENDA-Program-for-Internet-Colonization-2292681.html ..."
       ]
      },
      {
       "output_type": "stream",
       "stream": "stdout",
       "text": [
        "\n",
        "searching https://firstlook.org/theintercept/2014/08/12/nprs-dina-temple-raston-passed-cia-funded-nsa-contractor-independent-fear-monger-snowden-reporting/ ..."
       ]
      },
      {
       "output_type": "stream",
       "stream": "stdout",
       "text": [
        "\n",
        "an intercept document! https://firstlook.org/theintercept/document/2014/08/12/gchq-covert-mobile-phones-policy/\n",
        "searching https://firstlook.org/theintercept/article/2014/08/05/watch-commander/ ..."
       ]
      },
      {
       "output_type": "stream",
       "stream": "stdout",
       "text": [
        "\n",
        "an intercept document! https://firstlook.org/theintercept/document/2014/08/05/directorate-terrorist-identities-dti-strategic-accomplishments-2013/\n",
        "searching https://firstlook.org/theintercept/2014/08/04/cash-weapons-surveillance/ ..."
       ]
      },
      {
       "output_type": "stream",
       "stream": "stdout",
       "text": [
        "\n",
        "http://www.amnesty.org/ar/library/asset/MDE15/015/2009/en/8f299083-9a74-4853-860f-0563725e633a/mde150152009en.pdf is a PDF\n",
        "an intercept document! https://firstlook.org/theintercept/document/2014/08/03/nsa-intelligence-relationship-israel\n",
        "an intercept document! https://firstlook.org/theintercept/document/2014/08/03/israel-us-1999-agreement/\n",
        "searching https://firstlook.org/theintercept/2014/08/04/cash-weapons-surveillance/ ..."
       ]
      },
      {
       "output_type": "stream",
       "stream": "stdout",
       "text": [
        "\n",
        "http://www.amnesty.org/ar/library/asset/MDE15/015/2009/en/8f299083-9a74-4853-860f-0563725e633a/mde150152009en.pdf is a PDF\n",
        "an intercept document! https://firstlook.org/theintercept/document/2014/08/03/nsa-intelligence-relationship-israel\n",
        "an intercept document! https://firstlook.org/theintercept/document/2014/08/03/israel-us-1999-agreement/\n",
        "searching https://firstlook.org/theintercept/2014/07/25/nsas-new-partner-spying-saudi-arabias-brutal-state-police/ ..."
       ]
      },
      {
       "output_type": "stream",
       "stream": "stdout",
       "text": [
        "\n",
        "an intercept document! https://firstlook.org/theintercept/document/2014/07/25/saudi-arabia-information-paper/\n",
        "searching http://www.washingtonpost.com/blogs/the-switch/wp/2014/07/23/privacy-watchdogs-next-target-the-least-known-but-biggest-aspect-of-nsa-surveillance/ ..."
       ]
      },
      {
       "output_type": "stream",
       "stream": "stdout",
       "text": [
        "\n",
        "searching https://firstlook.org/theintercept/2014/07/14/manipulating-online-polls-ways-british-spies-seek-control-internet/ ..."
       ]
      },
      {
       "output_type": "stream",
       "stream": "stdout",
       "text": [
        "\n",
        "an intercept document! https://firstlook.org/theintercept/document/2014/07/14/jtrig-tools-techniques/\n",
        "searching https://firstlook.org/theintercept/article/2014/07/09/under-surveillance/ ..."
       ]
      },
      {
       "output_type": "stream",
       "stream": "stdout",
       "text": [
        "\n",
        "an intercept document! https://firstlook.org/theintercept/document/2014/07/08/fisa-dataflow/\n",
        "searching http://apps.washingtonpost.com/g/page/world/nsa-document-on-targeting-five-eyes-countries-and-territories/1142/ ..."
       ]
      },
      {
       "output_type": "stream",
       "stream": "stdout",
       "text": [
        "\n",
        "https://www.documentcloud.org/documents/1211050/targeting-2nd-party-countries.pdf is a PDF\n",
        "searching http://apps.washingtonpost.com/g/page/world/dni-attorney-general-certify-surveillance-targets-will-be-reasonably-believed-to-be-outside-united-states/1134/ ..."
       ]
      },
      {
       "output_type": "stream",
       "stream": "stdout",
       "text": [
        "\n",
        "https://www.documentcloud.org/documents/1211012/faa-fg-cert-2010-a-dni-ag-certification.pdf is a PDF\n",
        "searching http://apps.washingtonpost.com/g/page/world/fisa-amendments-act-of-2008-section-702-summary-document/1141/ ..."
       ]
      },
      {
       "output_type": "stream",
       "stream": "stdout",
       "text": [
        "\n",
        "https://www.documentcloud.org/documents/1211014/faa-lesson-1c-faa-section-702-summary-by-ogc.pdf is a PDF\n",
        "searching http://apps.washingtonpost.com/g/page/world/nsa-directors-affidavit-on-foreign-surveillance/1135/ ..."
       ]
      },
      {
       "output_type": "stream",
       "stream": "stdout",
       "text": [
        "\n",
        "https://www.documentcloud.org/documents/1211013/faa-fg-cert-2010-a-nsa-dirnsa-affidavit-training.pdf is a PDF\n",
        "searching http://apps.washingtonpost.com/g/page/world/fisa-judges-order-authorizing-surveillance-of-foreign-governments-and-organizations/1132/ ..."
       ]
      },
      {
       "output_type": "stream",
       "stream": "stdout",
       "text": [
        "\n",
        "https://www.documentcloud.org/documents/1211016/faa-fg-cert-2010-a-court-order-plbunts-shared.pdf is a PDF\n",
        "searching http://www.washingtonpost.com/world/national-security/court-gave-nsa-broad-leeway-in-surveillance-documents-show/2014/06/30/32b872ec-fae4-11e3-8176-f2c941cf35f1_story.html?hpid=z5 ..."
       ]
      },
      {
       "output_type": "stream",
       "stream": "stdout",
       "text": [
        "\n",
        "a post document! http://apps.washingtonpost.com/g/page/world/nsa-document-on-targeting-five-eyes-countries-and-territories/1142/"
       ]
      },
      {
       "output_type": "stream",
       "stream": "stdout",
       "text": [
        "\n",
        "a post document! http://apps.washingtonpost.com/g/page/world/fisa-judges-order-authorizing-surveillance-of-foreign-governments-and-organizations/1132/\n",
        "a post document! http://apps.washingtonpost.com/g/page/world/list-of-foreign-governments-and-organizations-authorized-for-surveillance/1133/\n",
        "a post document! http://apps.washingtonpost.com/g/page/world/dni-attorney-general-certify-surveillance-targets-will-be-reasonably-believed-to-be-outside-united-states/1134/\n",
        "a post document! http://apps.washingtonpost.com/g/page/world/fisa-amendments-act-of-2008-section-702-summary-document/1141/\n",
        "a post document! http://apps.washingtonpost.com/g/page/world/nsa-directors-affidavit-on-foreign-surveillance/1135/\n",
        "a post document! http://apps.washingtonpost.com/g/page/world/fisa-judges-order-authorizing-surveillance-of-foreign-governments-and-organizations/1132/\n",
        "searching http://www.washingtonpost.com/world/national-security/court-gave-nsa-broad-leeway-in-surveillance-documents-show/2014/06/30/32b872ec-fae4-11e3-8176-f2c941cf35f1_story.html?hpid=z5 ..."
       ]
      },
      {
       "output_type": "stream",
       "stream": "stdout",
       "text": [
        "\n",
        "a post document! http://apps.washingtonpost.com/g/page/world/nsa-document-on-targeting-five-eyes-countries-and-territories/1142/\n",
        "a post document! http://apps.washingtonpost.com/g/page/world/fisa-judges-order-authorizing-surveillance-of-foreign-governments-and-organizations/1132/\n",
        "a post document! http://apps.washingtonpost.com/g/page/world/list-of-foreign-governments-and-organizations-authorized-for-surveillance/1133/\n",
        "a post document! http://apps.washingtonpost.com/g/page/world/dni-attorney-general-certify-surveillance-targets-will-be-reasonably-believed-to-be-outside-united-states/1134/\n",
        "a post document! http://apps.washingtonpost.com/g/page/world/fisa-amendments-act-of-2008-section-702-summary-document/1141/\n",
        "a post document! http://apps.washingtonpost.com/g/page/world/nsa-directors-affidavit-on-foreign-surveillance/1135/\n",
        "a post document! http://apps.washingtonpost.com/g/page/world/fisa-judges-order-authorizing-surveillance-of-foreign-governments-and-organizations/1132/\n",
        "searching http://www.washingtonpost.com/world/national-security/court-gave-nsa-broad-leeway-in-surveillance-documents-show/2014/06/30/32b872ec-fae4-11e3-8176-f2c941cf35f1_story.html ..."
       ]
      },
      {
       "output_type": "stream",
       "stream": "stderr",
       "text": [
        "WARNING:root:Some characters could not be decoded, and were replaced with REPLACEMENT CHARACTER.\n"
       ]
      },
      {
       "output_type": "stream",
       "stream": "stdout",
       "text": [
        "\n",
        "a post document! http://apps.washingtonpost.com/g/page/world/nsa-document-on-targeting-five-eyes-countries-and-territories/1142/\n",
        "a post document! http://apps.washingtonpost.com/g/page/world/fisa-judges-order-authorizing-surveillance-of-foreign-governments-and-organizations/1132/\n",
        "a post document! http://apps.washingtonpost.com/g/page/world/list-of-foreign-governments-and-organizations-authorized-for-surveillance/1133/\n",
        "a post document! http://apps.washingtonpost.com/g/page/world/dni-attorney-general-certify-surveillance-targets-will-be-reasonably-believed-to-be-outside-united-states/1134/\n",
        "a post document! http://apps.washingtonpost.com/g/page/world/fisa-amendments-act-of-2008-section-702-summary-document/1141/\n",
        "a post document! http://apps.washingtonpost.com/g/page/world/nsa-directors-affidavit-on-foreign-surveillance/1135/\n",
        "a post document! http://apps.washingtonpost.com/g/page/world/fisa-judges-order-authorizing-surveillance-of-foreign-governments-and-organizations/1132/\n",
        "searching http://www.spiegel.de/media/media-34044.pdf ..."
       ]
      },
      {
       "output_type": "stream",
       "stream": "stderr",
       "text": [
        "WARNING:root:Some characters could not be decoded, and were replaced with REPLACEMENT CHARACTER.\n"
       ]
      },
      {
       "output_type": "stream",
       "stream": "stdout",
       "text": [
        "\n",
        "searching http://www.spiegel.de/media/media-34045.pdf ..."
       ]
      },
      {
       "output_type": "stream",
       "stream": "stderr",
       "text": [
        "WARNING:root:Some characters could not be decoded, and were replaced with REPLACEMENT CHARACTER.\n"
       ]
      },
      {
       "output_type": "stream",
       "stream": "stdout",
       "text": [
        "\n",
        "searching http://www.spiegel.de/media/media-34046.pdf ..."
       ]
      },
      {
       "output_type": "stream",
       "stream": "stderr",
       "text": [
        "WARNING:root:Some characters could not be decoded, and were replaced with REPLACEMENT CHARACTER.\n"
       ]
      },
      {
       "output_type": "stream",
       "stream": "stdout",
       "text": [
        "\n",
        "searching http://www.spiegel.de/media/media-34116.pdf ..."
       ]
      },
      {
       "output_type": "stream",
       "stream": "stderr",
       "text": [
        "WARNING:root:Some characters could not be decoded, and were replaced with REPLACEMENT CHARACTER.\n"
       ]
      },
      {
       "output_type": "stream",
       "stream": "stdout",
       "text": [
        "\n",
        "searching http://www.spiegel.de/media/media-34117.pdf ..."
       ]
      },
      {
       "output_type": "stream",
       "stream": "stderr",
       "text": [
        "WARNING:root:Some characters could not be decoded, and were replaced with REPLACEMENT CHARACTER.\n"
       ]
      },
      {
       "output_type": "stream",
       "stream": "stdout",
       "text": [
        "\n",
        "searching http://www.spiegel.de/media/media-34118.pdf ..."
       ]
      },
      {
       "output_type": "stream",
       "stream": "stderr",
       "text": [
        "WARNING:root:Some characters could not be decoded, and were replaced with REPLACEMENT CHARACTER.\n"
       ]
      },
      {
       "output_type": "stream",
       "stream": "stdout",
       "text": [
        "\n",
        "searching http://www.spiegel.de/media/media-34050.pdf ..."
       ]
      },
      {
       "output_type": "stream",
       "stream": "stderr",
       "text": [
        "WARNING:root:Some characters could not be decoded, and were replaced with REPLACEMENT CHARACTER.\n"
       ]
      },
      {
       "output_type": "stream",
       "stream": "stdout",
       "text": [
        "\n",
        "searching http://www.spiegel.de/media/media-34051.pdf ..."
       ]
      },
      {
       "output_type": "stream",
       "stream": "stderr",
       "text": [
        "WARNING:root:Some characters could not be decoded, and were replaced with REPLACEMENT CHARACTER.\n"
       ]
      },
      {
       "output_type": "stream",
       "stream": "stdout",
       "text": [
        "\n",
        "searching http://www.spiegel.de/media/media-34119.pdf ..."
       ]
      },
      {
       "output_type": "stream",
       "stream": "stderr",
       "text": [
        "WARNING:root:Some characters could not be decoded, and were replaced with REPLACEMENT CHARACTER.\n"
       ]
      },
      {
       "output_type": "stream",
       "stream": "stdout",
       "text": [
        "\n",
        "searching http://www.spiegel.de/media/media-34053.pdf ..."
       ]
      },
      {
       "output_type": "stream",
       "stream": "stderr",
       "text": [
        "WARNING:root:Some characters could not be decoded, and were replaced with REPLACEMENT CHARACTER.\n"
       ]
      },
      {
       "output_type": "stream",
       "stream": "stdout",
       "text": [
        "\n",
        "searching http://www.spiegel.de/media/media-34054.pdf ..."
       ]
      },
      {
       "output_type": "stream",
       "stream": "stderr",
       "text": [
        "WARNING:root:Some characters could not be decoded, and were replaced with REPLACEMENT CHARACTER.\n"
       ]
      },
      {
       "output_type": "stream",
       "stream": "stdout",
       "text": [
        "\n",
        "searching http://www.spiegel.de/media/media-34055.pdf ..."
       ]
      },
      {
       "output_type": "stream",
       "stream": "stderr",
       "text": [
        "WARNING:root:Some characters could not be decoded, and were replaced with REPLACEMENT CHARACTER.\n"
       ]
      },
      {
       "output_type": "stream",
       "stream": "stdout",
       "text": [
        "\n",
        "searching http://www.spiegel.de/media/media-34058.pdf ..."
       ]
      },
      {
       "output_type": "stream",
       "stream": "stderr",
       "text": [
        "WARNING:root:Some characters could not be decoded, and were replaced with REPLACEMENT CHARACTER.\n"
       ]
      },
      {
       "output_type": "stream",
       "stream": "stdout",
       "text": [
        "\n",
        "searching http://www.spiegel.de/media/media-34059.pdf ..."
       ]
      },
      {
       "output_type": "stream",
       "stream": "stderr",
       "text": [
        "WARNING:root:Some characters could not be decoded, and were replaced with REPLACEMENT CHARACTER.\n"
       ]
      },
      {
       "output_type": "stream",
       "stream": "stdout",
       "text": [
        "\n",
        "searching http://www.spiegel.de/media/media-34060.pdf ..."
       ]
      },
      {
       "output_type": "stream",
       "stream": "stderr",
       "text": [
        "WARNING:root:Some characters could not be decoded, and were replaced with REPLACEMENT CHARACTER.\n"
       ]
      },
      {
       "output_type": "stream",
       "stream": "stdout",
       "text": [
        "\n",
        "searching http://www.spiegel.de/media/media-34061.pdf ..."
       ]
      },
      {
       "output_type": "stream",
       "stream": "stderr",
       "text": [
        "WARNING:root:Some characters could not be decoded, and were replaced with REPLACEMENT CHARACTER.\n"
       ]
      },
      {
       "output_type": "stream",
       "stream": "stdout",
       "text": [
        "\n",
        "searching http://www.spiegel.de/media/media-34062.pdf ..."
       ]
      },
      {
       "output_type": "stream",
       "stream": "stderr",
       "text": [
        "WARNING:root:Some characters could not be decoded, and were replaced with REPLACEMENT CHARACTER.\n"
       ]
      },
      {
       "output_type": "stream",
       "stream": "stdout",
       "text": [
        "\n",
        "searching http://www.spiegel.de/media/media-34064.pdf ..."
       ]
      },
      {
       "output_type": "stream",
       "stream": "stderr",
       "text": [
        "WARNING:root:Some characters could not be decoded, and were replaced with REPLACEMENT CHARACTER.\n"
       ]
      },
      {
       "output_type": "stream",
       "stream": "stdout",
       "text": [
        "\n",
        "searching http://www.spiegel.de/media/media-34067.pdf ..."
       ]
      },
      {
       "output_type": "stream",
       "stream": "stderr",
       "text": [
        "WARNING:root:Some characters could not be decoded, and were replaced with REPLACEMENT CHARACTER.\n"
       ]
      },
      {
       "output_type": "stream",
       "stream": "stdout",
       "text": [
        "\n",
        "searching http://www.spiegel.de/media/media-34070.pdf ..."
       ]
      },
      {
       "output_type": "stream",
       "stream": "stderr",
       "text": [
        "WARNING:root:Some characters could not be decoded, and were replaced with REPLACEMENT CHARACTER.\n"
       ]
      },
      {
       "output_type": "stream",
       "stream": "stdout",
       "text": [
        "\n",
        "searching http://www.spiegel.de/media/media-34072.pdf ..."
       ]
      },
      {
       "output_type": "stream",
       "stream": "stderr",
       "text": [
        "WARNING:root:Some characters could not be decoded, and were replaced with REPLACEMENT CHARACTER.\n"
       ]
      },
      {
       "output_type": "stream",
       "stream": "stdout",
       "text": [
        "\n",
        "searching http://www.spiegel.de/media/media-34074.pdf ..."
       ]
      },
      {
       "output_type": "stream",
       "stream": "stderr",
       "text": [
        "WARNING:root:Some characters could not be decoded, and were replaced with REPLACEMENT CHARACTER.\n"
       ]
      },
      {
       "output_type": "stream",
       "stream": "stdout",
       "text": [
        "\n",
        "searching http://www.spiegel.de/media/media-34076.pdf ..."
       ]
      },
      {
       "output_type": "stream",
       "stream": "stderr",
       "text": [
        "WARNING:root:Some characters could not be decoded, and were replaced with REPLACEMENT CHARACTER.\n"
       ]
      },
      {
       "output_type": "stream",
       "stream": "stdout",
       "text": [
        "\n",
        "searching http://www.spiegel.de/media/media-34077.pdf ..."
       ]
      },
      {
       "output_type": "stream",
       "stream": "stderr",
       "text": [
        "WARNING:root:Some characters could not be decoded, and were replaced with REPLACEMENT CHARACTER.\n"
       ]
      },
      {
       "output_type": "stream",
       "stream": "stdout",
       "text": [
        "\n",
        "searching http://www.spiegel.de/media/media-34078.pdf ..."
       ]
      },
      {
       "output_type": "stream",
       "stream": "stderr",
       "text": [
        "WARNING:root:Some characters could not be decoded, and were replaced with REPLACEMENT CHARACTER.\n"
       ]
      },
      {
       "output_type": "stream",
       "stream": "stdout",
       "text": [
        "\n",
        "searching http://www.spiegel.de/media/media-34079.pdf ..."
       ]
      },
      {
       "output_type": "stream",
       "stream": "stderr",
       "text": [
        "WARNING:root:Some characters could not be decoded, and were replaced with REPLACEMENT CHARACTER.\n"
       ]
      },
      {
       "output_type": "stream",
       "stream": "stdout",
       "text": [
        "\n",
        "searching http://www.spiegel.de/media/media-34081.pdf ..."
       ]
      },
      {
       "output_type": "stream",
       "stream": "stderr",
       "text": [
        "WARNING:root:Some characters could not be decoded, and were replaced with REPLACEMENT CHARACTER.\n"
       ]
      },
      {
       "output_type": "stream",
       "stream": "stdout",
       "text": [
        "\n",
        "searching http://www.spiegel.de/media/media-34082.pdf ..."
       ]
      },
      {
       "output_type": "stream",
       "stream": "stderr",
       "text": [
        "WARNING:root:Some characters could not be decoded, and were replaced with REPLACEMENT CHARACTER.\n"
       ]
      },
      {
       "output_type": "stream",
       "stream": "stdout",
       "text": [
        "\n",
        "searching http://www.spiegel.de/media/media-34083.pdf ..."
       ]
      },
      {
       "output_type": "stream",
       "stream": "stderr",
       "text": [
        "WARNING:root:Some characters could not be decoded, and were replaced with REPLACEMENT CHARACTER.\n"
       ]
      },
      {
       "output_type": "stream",
       "stream": "stdout",
       "text": [
        "\n",
        "searching http://www.spiegel.de/media/media-34084.pdf ..."
       ]
      },
      {
       "output_type": "stream",
       "stream": "stderr",
       "text": [
        "WARNING:root:Some characters could not be decoded, and were replaced with REPLACEMENT CHARACTER.\n"
       ]
      },
      {
       "output_type": "stream",
       "stream": "stdout",
       "text": [
        "\n",
        "searching http://www.spiegel.de/media/media-34085.pdf ..."
       ]
      },
      {
       "output_type": "stream",
       "stream": "stderr",
       "text": [
        "WARNING:root:Some characters could not be decoded, and were replaced with REPLACEMENT CHARACTER.\n"
       ]
      },
      {
       "output_type": "stream",
       "stream": "stdout",
       "text": [
        "\n",
        "searching http://www.spiegel.de/media/media-34086.pdf ..."
       ]
      },
      {
       "output_type": "stream",
       "stream": "stderr",
       "text": [
        "WARNING:root:Some characters could not be decoded, and were replaced with REPLACEMENT CHARACTER.\n"
       ]
      },
      {
       "output_type": "stream",
       "stream": "stdout",
       "text": [
        "\n",
        "searching http://www.spiegel.de/media/media-34087.pdf ..."
       ]
      },
      {
       "output_type": "stream",
       "stream": "stderr",
       "text": [
        "WARNING:root:Some characters could not be decoded, and were replaced with REPLACEMENT CHARACTER.\n"
       ]
      },
      {
       "output_type": "stream",
       "stream": "stdout",
       "text": [
        "\n",
        "searching http://www.spiegel.de/media/media-34089.pdf ..."
       ]
      },
      {
       "output_type": "stream",
       "stream": "stderr",
       "text": [
        "WARNING:root:Some characters could not be decoded, and were replaced with REPLACEMENT CHARACTER.\n"
       ]
      },
      {
       "output_type": "stream",
       "stream": "stdout",
       "text": [
        "\n",
        "searching http://www.spiegel.de/media/media-34090.pdf ..."
       ]
      },
      {
       "output_type": "stream",
       "stream": "stderr",
       "text": [
        "WARNING:root:Some characters could not be decoded, and were replaced with REPLACEMENT CHARACTER.\n"
       ]
      },
      {
       "output_type": "stream",
       "stream": "stdout",
       "text": [
        "\n",
        "searching http://www.spiegel.de/media/media-34091.pdf ..."
       ]
      },
      {
       "output_type": "stream",
       "stream": "stderr",
       "text": [
        "WARNING:root:Some characters could not be decoded, and were replaced with REPLACEMENT CHARACTER.\n"
       ]
      },
      {
       "output_type": "stream",
       "stream": "stdout",
       "text": [
        "\n",
        "searching http://www.spiegel.de/media/media-34093.pdf ..."
       ]
      },
      {
       "output_type": "stream",
       "stream": "stderr",
       "text": [
        "WARNING:root:Some characters could not be decoded, and were replaced with REPLACEMENT CHARACTER.\n"
       ]
      },
      {
       "output_type": "stream",
       "stream": "stdout",
       "text": [
        "\n",
        "searching http://www.spiegel.de/media/media-34094.pdf ..."
       ]
      },
      {
       "output_type": "stream",
       "stream": "stderr",
       "text": [
        "WARNING:root:Some characters could not be decoded, and were replaced with REPLACEMENT CHARACTER.\n"
       ]
      },
      {
       "output_type": "stream",
       "stream": "stdout",
       "text": [
        "\n",
        "searching http://www.spiegel.de/media/media-34095.pdf ..."
       ]
      },
      {
       "output_type": "stream",
       "stream": "stderr",
       "text": [
        "WARNING:root:Some characters could not be decoded, and were replaced with REPLACEMENT CHARACTER.\n"
       ]
      },
      {
       "output_type": "stream",
       "stream": "stdout",
       "text": [
        "\n",
        "searching http://www.spiegel.de/media/media-34096.pdf ..."
       ]
      },
      {
       "output_type": "stream",
       "stream": "stderr",
       "text": [
        "WARNING:root:Some characters could not be decoded, and were replaced with REPLACEMENT CHARACTER.\n"
       ]
      },
      {
       "output_type": "stream",
       "stream": "stdout",
       "text": [
        "\n",
        "searching http://www.spiegel.de/media/media-34088.pdf ..."
       ]
      },
      {
       "output_type": "stream",
       "stream": "stderr",
       "text": [
        "WARNING:root:Some characters could not be decoded, and were replaced with REPLACEMENT CHARACTER.\n"
       ]
      },
      {
       "output_type": "stream",
       "stream": "stdout",
       "text": [
        "\n",
        "searching http://www.spiegel.de/media/media-34097.pdf ..."
       ]
      },
      {
       "output_type": "stream",
       "stream": "stderr",
       "text": [
        "WARNING:root:Some characters could not be decoded, and were replaced with REPLACEMENT CHARACTER.\n"
       ]
      },
      {
       "output_type": "stream",
       "stream": "stdout",
       "text": [
        "\n",
        "searching http://www.spiegel.de/media/media-34098.pdf ..."
       ]
      },
      {
       "output_type": "stream",
       "stream": "stderr",
       "text": [
        "WARNING:root:Some characters could not be decoded, and were replaced with REPLACEMENT CHARACTER.\n"
       ]
      },
      {
       "output_type": "stream",
       "stream": "stdout",
       "text": [
        "\n",
        "searching http://www.spiegel.de/media/media-34099.pdf ..."
       ]
      },
      {
       "output_type": "stream",
       "stream": "stderr",
       "text": [
        "WARNING:root:Some characters could not be decoded, and were replaced with REPLACEMENT CHARACTER.\n"
       ]
      },
      {
       "output_type": "stream",
       "stream": "stdout",
       "text": [
        "\n",
        "searching http://www.spiegel.de/media/media-34100.pdf ..."
       ]
      },
      {
       "output_type": "stream",
       "stream": "stderr",
       "text": [
        "WARNING:root:Some characters could not be decoded, and were replaced with REPLACEMENT CHARACTER.\n"
       ]
      },
      {
       "output_type": "stream",
       "stream": "stdout",
       "text": [
        "\n",
        "searching http://www.spiegel.de/media/media-34101.pdf ..."
       ]
      },
      {
       "output_type": "stream",
       "stream": "stderr",
       "text": [
        "WARNING:root:Some characters could not be decoded, and were replaced with REPLACEMENT CHARACTER.\n"
       ]
      },
      {
       "output_type": "stream",
       "stream": "stdout",
       "text": [
        "\n",
        "searching http://www.spiegel.de/media/media-34102.pdf ..."
       ]
      },
      {
       "output_type": "stream",
       "stream": "stderr",
       "text": [
        "WARNING:root:Some characters could not be decoded, and were replaced with REPLACEMENT CHARACTER.\n"
       ]
      },
      {
       "output_type": "stream",
       "stream": "stdout",
       "text": [
        "\n",
        "searching http://www.spiegel.de/media/media-34103.pdf ..."
       ]
      },
      {
       "output_type": "stream",
       "stream": "stderr",
       "text": [
        "WARNING:root:Some characters could not be decoded, and were replaced with REPLACEMENT CHARACTER.\n"
       ]
      },
      {
       "output_type": "stream",
       "stream": "stdout",
       "text": [
        "\n",
        "searching http://www.spiegel.de/media/media-34104.pdf ..."
       ]
      },
      {
       "output_type": "stream",
       "stream": "stderr",
       "text": [
        "WARNING:root:Some characters could not be decoded, and were replaced with REPLACEMENT CHARACTER.\n"
       ]
      },
      {
       "output_type": "stream",
       "stream": "stdout",
       "text": [
        "\n",
        "searching http://www.spiegel.de/media/media-34105.pdf ..."
       ]
      },
      {
       "output_type": "stream",
       "stream": "stderr",
       "text": [
        "WARNING:root:Some characters could not be decoded, and were replaced with REPLACEMENT CHARACTER.\n"
       ]
      },
      {
       "output_type": "stream",
       "stream": "stdout",
       "text": [
        "\n",
        "searching http://www.spiegel.de/media/media-34056.pdf ..."
       ]
      },
      {
       "output_type": "stream",
       "stream": "stderr",
       "text": [
        "WARNING:root:Some characters could not be decoded, and were replaced with REPLACEMENT CHARACTER.\n"
       ]
      },
      {
       "output_type": "stream",
       "stream": "stdout",
       "text": [
        "\n",
        "searching http://www.spiegel.de/media/media-34080.pdf ..."
       ]
      },
      {
       "output_type": "stream",
       "stream": "stderr",
       "text": [
        "WARNING:root:Some characters could not be decoded, and were replaced with REPLACEMENT CHARACTER.\n"
       ]
      },
      {
       "output_type": "stream",
       "stream": "stdout",
       "text": [
        "\n",
        "searching http://www.spiegel.de/media/media-34092.pdf ..."
       ]
      },
      {
       "output_type": "stream",
       "stream": "stdout",
       "text": [
        "\n",
        "searching http://www.spiegel.de/international/the-germany-file-of-edward-snowden-documents-available-for-download-a-975917.html ..."
       ]
      },
      {
       "output_type": "stream",
       "stream": "stdout",
       "text": [
        "\n",
        "/media/media-34044.pdf is a PDF\n",
        "/media/media-34045.pdf is a PDF\n",
        "/media/media-34046.pdf is a PDF\n",
        "/media/media-34116.pdf is a PDF\n",
        "/media/media-34117.pdf is a PDF\n",
        "/media/media-34118.pdf is a PDF\n",
        "/media/media-34050.pdf is a PDF\n",
        "/media/media-34051.pdf is a PDF\n",
        "/media/media-34119.pdf is a PDF\n",
        "/media/media-34053.pdf is a PDF\n",
        "/media/media-34054.pdf is a PDF\n",
        "/media/media-34055.pdf is a PDF\n",
        "/media/media-34058.pdf is a PDF\n",
        "/media/media-34059.pdf is a PDF\n",
        "/media/media-34060.pdf is a PDF\n",
        "/media/media-34061.pdf is a PDF\n",
        "/media/media-34062.pdf is a PDF\n",
        "/media/media-34064.pdf is a PDF\n",
        "/media/media-34067.pdf is a PDF\n",
        "/media/media-34070.pdf is a PDF\n",
        "/media/media-34072.pdf is a PDF\n",
        "/media/media-34074.pdf is a PDF\n",
        "/media/media-34076.pdf is a PDF\n",
        "/media/media-34077.pdf is a PDF\n",
        "/media/media-34078.pdf is a PDF\n",
        "/media/media-34079.pdf is a PDF\n",
        "/media/media-34081.pdf is a PDF\n",
        "/media/media-34082.pdf is a PDF\n",
        "/media/media-34083.pdf is a PDF\n",
        "/media/media-34084.pdf is a PDF\n",
        "/media/media-34085.pdf is a PDF\n",
        "/media/media-34086.pdf is a PDF\n",
        "/media/media-34087.pdf is a PDF\n",
        "/media/media-34089.pdf is a PDF\n",
        "/media/media-34090.pdf is a PDF\n",
        "/media/media-34091.pdf is a PDF\n",
        "/media/media-34093.pdf is a PDF\n",
        "/media/media-34094.pdf is a PDF\n",
        "/media/media-34095.pdf is a PDF\n",
        "/media/media-34096.pdf is a PDF\n",
        "/media/media-34088.pdf is a PDF\n",
        "/media/media-34097.pdf is a PDF\n",
        "/media/media-34098.pdf is a PDF\n",
        "/media/media-34099.pdf is a PDF\n",
        "/media/media-34100.pdf is a PDF\n",
        "/media/media-34101.pdf is a PDF\n",
        "/media/media-34102.pdf is a PDF\n",
        "/media/media-34103.pdf is a PDF\n",
        "/media/media-34104.pdf is a PDF\n",
        "/media/media-34105.pdf is a PDF\n",
        "/media/media-34056.pdf is a PDF\n",
        "/media/media-34080.pdf is a PDF\n",
        "/media/media-34092.pdf is a PDF\n",
        "searching http://www.information.dk/databloggen/501278 ..."
       ]
      },
      {
       "output_type": "stream",
       "stream": "stdout",
       "text": [
        "\n",
        "https://s3.amazonaws.com/s3.documentcloud.org/documents/1200859/diropeningremarksguidancefordp1-v1-1-v1-0.pdf is a PDF\n",
        "https://s3.amazonaws.com/s3.documentcloud.org/documents/1200866/foreignpartneraccessbudgetfy2013-redacted.pdf is a PDF\n",
        "https://s3.amazonaws.com/s3.documentcloud.org/documents/1200864/tssinframpartaoverview-v1-0-redacted-information.pdf is a PDF\n",
        "searching http://www.information.dk/databloggen/501278 ..."
       ]
      },
      {
       "output_type": "stream",
       "stream": "stdout",
       "text": [
        "\n",
        "https://s3.amazonaws.com/s3.documentcloud.org/documents/1200859/diropeningremarksguidancefordp1-v1-1-v1-0.pdf is a PDF\n",
        "https://s3.amazonaws.com/s3.documentcloud.org/documents/1200866/foreignpartneraccessbudgetfy2013-redacted.pdf is a PDF\n",
        "https://s3.amazonaws.com/s3.documentcloud.org/documents/1200864/tssinframpartaoverview-v1-0-redacted-information.pdf is a PDF\n",
        "searching http://www.information.dk/databloggen/501278 ..."
       ]
      },
      {
       "output_type": "stream",
       "stream": "stdout",
       "text": [
        "\n",
        "https://s3.amazonaws.com/s3.documentcloud.org/documents/1200859/diropeningremarksguidancefordp1-v1-1-v1-0.pdf is a PDF\n",
        "https://s3.amazonaws.com/s3.documentcloud.org/documents/1200866/foreignpartneraccessbudgetfy2013-redacted.pdf is a PDF\n",
        "https://s3.amazonaws.com/s3.documentcloud.org/documents/1200864/tssinframpartaoverview-v1-0-redacted-information.pdf is a PDF\n",
        "searching http://www.information.dk/databloggen/501278 ..."
       ]
      },
      {
       "output_type": "stream",
       "stream": "stdout",
       "text": [
        "\n",
        "https://s3.amazonaws.com/s3.documentcloud.org/documents/1200859/diropeningremarksguidancefordp1-v1-1-v1-0.pdf is a PDF\n",
        "https://s3.amazonaws.com/s3.documentcloud.org/documents/1200866/foreignpartneraccessbudgetfy2013-redacted.pdf is a PDF\n",
        "https://s3.amazonaws.com/s3.documentcloud.org/documents/1200864/tssinframpartaoverview-v1-0-redacted-information.pdf is a PDF\n",
        "searching http://www.information.dk/databloggen/501278 ..."
       ]
      },
      {
       "output_type": "stream",
       "stream": "stdout",
       "text": [
        "\n",
        "https://s3.amazonaws.com/s3.documentcloud.org/documents/1200859/diropeningremarksguidancefordp1-v1-1-v1-0.pdf is a PDF\n",
        "https://s3.amazonaws.com/s3.documentcloud.org/documents/1200866/foreignpartneraccessbudgetfy2013-redacted.pdf is a PDF\n",
        "https://s3.amazonaws.com/s3.documentcloud.org/documents/1200864/tssinframpartaoverview-v1-0-redacted-information.pdf is a PDF\n",
        "searching http://www.spiegel.de/fotostrecke/photo-gallery-the-nsa-s-german-presence-fotostrecke-115738-4.html ..."
       ]
      },
      {
       "output_type": "stream",
       "stream": "stdout",
       "text": [
        "\n",
        "searching http://www.spiegel.de/fotostrecke/photo-gallery-the-nsa-s-german-presence-fotostrecke-115738-2.html ..."
       ]
      },
      {
       "output_type": "stream",
       "stream": "stderr",
       "text": [
        "WARNING:root:Some characters could not be decoded, and were replaced with REPLACEMENT CHARACTER.\n"
       ]
      },
      {
       "output_type": "stream",
       "stream": "stdout",
       "text": [
        "\n",
        "searching https://www.eff.org/files/2014/06/10/dea-nsa-sandkey.pdf ..."
       ]
      },
      {
       "output_type": "stream",
       "stream": "stdout",
       "text": [
        "\n",
        "searching https://firstlook.org/theintercept/document/2014/05/19/somalget-memo/ ..."
       ]
      },
      {
       "output_type": "stream",
       "stream": "stdout",
       "text": [
        "\n",
        "searching https://firstlook.org/theintercept/document/2014/05/19/sidtoday-dea-warfighter/ ..."
       ]
      },
      {
       "output_type": "stream",
       "stream": "stdout",
       "text": [
        "\n",
        "searching https://firstlook.org/theintercept/document/2014/05/19/sso-dictionary-excerpt/ ..."
       ]
      },
      {
       "output_type": "stream",
       "stream": "stdout",
       "text": [
        "\n",
        "searching https://firstlook.org/theintercept/document/2014/05/19/mystic/ ..."
       ]
      },
      {
       "output_type": "stream",
       "stream": "stdout",
       "text": [
        "\n",
        "searching https://firstlook.org/theintercept/document/2014/05/19/sso-march-14-2013/ ..."
       ]
      },
      {
       "output_type": "stream",
       "stream": "stdout",
       "text": [
        "\n",
        "searching https://firstlook.org/theintercept/document/2014/05/19/sso-april-18-2013-whats-new/ ..."
       ]
      },
      {
       "output_type": "stream",
       "stream": "stdout",
       "text": [
        "\n",
        "searching https://firstlook.org/theintercept/document/2014/05/19/sso-may-2-2013/ ..."
       ]
      },
      {
       "output_type": "stream",
       "stream": "stdout",
       "text": [
        "\n",
        "searching https://firstlook.org/theintercept/document/2014/05/19/sso-may-3-2013-mystic/ ..."
       ]
      },
      {
       "output_type": "stream",
       "stream": "stdout",
       "text": [
        "\n",
        "searching https://firstlook.org/theintercept/document/2014/05/19/sso-may-3-2012/ ..."
       ]
      },
      {
       "output_type": "stream",
       "stream": "stdout",
       "text": [
        "\n",
        "searching https://firstlook.org/theintercept/document/2014/05/19/black-budget/ ..."
       ]
      },
      {
       "output_type": "stream",
       "stream": "stdout",
       "text": [
        "\n",
        "searching https://firstlook.org/theintercept/article/2014/05/19/data-pirates-caribbean-nsa-recording-every-cell-phone-call-bahamas/ ..."
       ]
      },
      {
       "output_type": "stream",
       "stream": "stdout",
       "text": [
        "\n",
        "http://www.unodc.org/pdf/lap_mlaeg_report_final.pdf is a PDF\n",
        "http://www.vertic.org/media/National%20Legislation/Bahamas/BS_Listening_Devices_Act_1972.pdf is a PDF\n",
        "http://www.lexbahamas.com/Data%20Protection%202003.pdf is a PDF\n",
        "an intercept document! https://firstlook.org/theintercept/document/2014/05/19/somalget-memo/\n",
        "an intercept document! https://firstlook.org/theintercept/document/2014/05/19/sidtoday-dea-warfighter/\n",
        "an intercept document! https://firstlook.org/theintercept/document/2014/05/19/sso-dictionary-excerpt/\n",
        "an intercept document! https://firstlook.org/theintercept/document/2014/05/19/mystic/\n",
        "an intercept document! https://firstlook.org/theintercept/document/2014/05/19/sso-march-14-2013/\n",
        "an intercept document! https://firstlook.org/theintercept/document/2014/05/19/sso-april-18-2013-whats-new/\n",
        "an intercept document! https://firstlook.org/theintercept/document/2014/05/19/sso-may-2-2013/\n",
        "an intercept document! https://firstlook.org/theintercept/document/2014/05/19/sso-may-3-2013-mystic/\n",
        "an intercept document! https://firstlook.org/theintercept/document/2014/05/19/sso-may-3-2012/\n",
        "an intercept document! https://firstlook.org/theintercept/document/2014/05/19/black-budget/\n",
        "searching http://glenngreenwald.net/#BookDocuments ..."
       ]
      },
      {
       "output_type": "stream",
       "stream": "stdout",
       "text": [
        "\n",
        "http://hbpub.vo.llnwd.net/o16/video/olmk/holt/greenwald/NoPlaceToHide-Excerpt.pdf is a PDF"
       ]
      },
      {
       "output_type": "stream",
       "stream": "stdout",
       "text": [
        "\n",
        "http://hbpub.vo.llnwd.net/o16/video/olmk/holt/greenwald/NoPlaceToHide-Documents-Compressed.pdf is a PDF\n",
        "http://hbpub.vo.llnwd.net/o16/video/olmk/holt/greenwald/NoPlaceToHide-Notes.pdf is a PDF\n",
        "http://hbpub.vo.llnwd.net/o16/video/olmk/holt/greenwald/NoPlaceToHide-Index.pdf is a PDF\n",
        "http://hbpub.vo.llnwd.net/o16/video/olmk/holt/greenwald/NoPlaceToHide-Excerpt.pdf is a PDF\n",
        "http://hbpub.vo.llnwd.net/o16/video/olmk/holt/greenwald/NoPlaceToHide-Excerpt.pdf is a PDF\n",
        "http://hbpub.vo.llnwd.net/o16/video/olmk/holt/greenwald/NoPlaceToHide-Documents-Compressed.pdf is a PDF\n",
        "http://hbpub.vo.llnwd.net/o16/video/olmk/holt/greenwald/NoPlaceToHide-Documents-Compressed.pdf is a PDF\n",
        "http://hbpub.vo.llnwd.net/o16/video/olmk/holt/greenwald/NoPlaceToHide-Documents-Uncompressed.pdf is a PDF\n",
        "http://hbpub.vo.llnwd.net/o16/video/olmk/holt/greenwald/NoPlaceToHide-Documents-Uncompressed.pdf is a PDF\n",
        "http://hbpub.vo.llnwd.net/o16/video/olmk/holt/greenwald/NoPlaceToHide-Notes.pdf is a PDF\n",
        "http://hbpub.vo.llnwd.net/o16/video/olmk/holt/greenwald/NoPlaceToHide-Notes.pdf is a PDF\n",
        "https://www.aclu.org/files/pdfs/natsec/clapper/2013.08.26%20ACLU%20PI%20Brief%20-%20Declaration%20-%20Felten.pdf is a PDF\n",
        "http://hbpub.vo.llnwd.net/o16/video/olmk/holt/greenwald/NoPlaceToHide-Index.pdf is a PDF\n",
        "http://hbpub.vo.llnwd.net/o16/video/olmk/holt/greenwald/NoPlaceToHide-Index.pdf is a PDF\n",
        "searching https://firstlook.org/theintercept/article/2014/04/30/gchq-prism-nsa-fisa-unsupervised-access-snowden/ ..."
       ]
      },
      {
       "output_type": "stream",
       "stream": "stdout",
       "text": [
        "\n",
        "an intercept document! https://firstlook.org/theintercept/document/2014/04/30/lobban-nsa-visit-precis/\n",
        "https://www.gov.uk/government/uploads/system/uploads/attachment_data/file/225459/ISC-Statement-on-GCHQ.pdf is a PDF\n",
        "an intercept document! https://firstlook.org/theintercept/document/2014/04/30/lobban-nsa-visit-precis/\n",
        "an intercept document! https://firstlook.org/theintercept/document/2014/04/30/prism-olympic-option/\n",
        "an intercept document! https://firstlook.org/theintercept/document/2014/04/30/ghostmachine-identifier-lead-triage-echobase\n",
        "http://www.iocco-uk.info/docs/2013%20Annual%20Report%20of%20the%20IOCC%20Accessible%20Version.pdf is a PDF\n",
        "an intercept document! https://firstlook.org/theintercept/document/2014/04/30/lobban-nsa-visit-precis/\n",
        "an intercept document! https://firstlook.org/theintercept/document/2014/04/30/ghostmachine-identifier-lead-triage-echobase\n",
        "an intercept document! https://firstlook.org/theintercept/document/2014/04/30/prism-olympic-option/\n",
        "searching https://firstlook.org/theintercept/article/2014/04/30/gchq-prism-nsa-fisa-unsupervised-access-snowden/ ..."
       ]
      },
      {
       "output_type": "stream",
       "stream": "stdout",
       "text": [
        "\n",
        "an intercept document! https://firstlook.org/theintercept/document/2014/04/30/lobban-nsa-visit-precis/\n",
        "https://www.gov.uk/government/uploads/system/uploads/attachment_data/file/225459/ISC-Statement-on-GCHQ.pdf is a PDF\n",
        "an intercept document! https://firstlook.org/theintercept/document/2014/04/30/lobban-nsa-visit-precis/\n",
        "an intercept document! https://firstlook.org/theintercept/document/2014/04/30/prism-olympic-option/\n",
        "an intercept document! https://firstlook.org/theintercept/document/2014/04/30/ghostmachine-identifier-lead-triage-echobase\n",
        "http://www.iocco-uk.info/docs/2013%20Annual%20Report%20of%20the%20IOCC%20Accessible%20Version.pdf is a PDF\n",
        "an intercept document! https://firstlook.org/theintercept/document/2014/04/30/lobban-nsa-visit-precis/\n",
        "an intercept document! https://firstlook.org/theintercept/document/2014/04/30/ghostmachine-identifier-lead-triage-echobase\n",
        "an intercept document! https://firstlook.org/theintercept/document/2014/04/30/prism-olympic-option/\n",
        "searching https://firstlook.org/theintercept/article/2014/04/30/gchq-prism-nsa-fisa-unsupervised-access-snowden/ ..."
       ]
      },
      {
       "output_type": "stream",
       "stream": "stdout",
       "text": [
        "\n",
        "an intercept document! https://firstlook.org/theintercept/document/2014/04/30/lobban-nsa-visit-precis/\n",
        "https://www.gov.uk/government/uploads/system/uploads/attachment_data/file/225459/ISC-Statement-on-GCHQ.pdf is a PDF\n",
        "an intercept document! https://firstlook.org/theintercept/document/2014/04/30/lobban-nsa-visit-precis/\n",
        "an intercept document! https://firstlook.org/theintercept/document/2014/04/30/prism-olympic-option/\n",
        "an intercept document! https://firstlook.org/theintercept/document/2014/04/30/ghostmachine-identifier-lead-triage-echobase\n",
        "http://www.iocco-uk.info/docs/2013%20Annual%20Report%20of%20the%20IOCC%20Accessible%20Version.pdf is a PDF\n",
        "an intercept document! https://firstlook.org/theintercept/document/2014/04/30/lobban-nsa-visit-precis/\n",
        "an intercept document! https://firstlook.org/theintercept/document/2014/04/30/ghostmachine-identifier-lead-triage-echobase\n",
        "an intercept document! https://firstlook.org/theintercept/document/2014/04/30/prism-olympic-option/\n",
        "searching https://firstlook.org/theintercept/2014/04/04/cuban-twitter-scam-social-media-tool-disseminating-government-propaganda/ ..."
       ]
      },
      {
       "output_type": "stream",
       "stream": "stdout",
       "text": [
        "\n",
        "an intercept document! https://firstlook.org/theintercept/document/2014/04/04/full-spectrum-cyber-effects/\n",
        "an intercept document! https://firstlook.org/theintercept/document/2014/04/04/2009-sigdev-conference/\n",
        "an intercept document! https://firstlook.org/theintercept/document/2014/04/04/full-spectrum-cyber-effects/\n",
        "an intercept document! https://firstlook.org/theintercept/document/2014/04/04/full-spectrum-cyber-effects/\n",
        "an intercept document! https://firstlook.org/theintercept/document/2014/04/04/2009-sigdev-conference/\n",
        "searching https://firstlook.org/theintercept/2014/04/04/cuban-twitter-scam-social-media-tool-disseminating-government-propaganda/ ..."
       ]
      },
      {
       "output_type": "stream",
       "stream": "stdout",
       "text": [
        "\n",
        "an intercept document! https://firstlook.org/theintercept/document/2014/04/04/full-spectrum-cyber-effects/\n",
        "an intercept document! https://firstlook.org/theintercept/document/2014/04/04/2009-sigdev-conference/\n",
        "an intercept document! https://firstlook.org/theintercept/document/2014/04/04/full-spectrum-cyber-effects/\n",
        "an intercept document! https://firstlook.org/theintercept/document/2014/04/04/full-spectrum-cyber-effects/\n",
        "an intercept document! https://firstlook.org/theintercept/document/2014/04/04/2009-sigdev-conference/\n",
        "searching http://www.spiegel.de/international/germany/gchq-and-nsa-targeted-private-german-companies-a-961444.html ..."
       ]
      },
      {
       "output_type": "stream",
       "stream": "stdout",
       "text": [
        "\n",
        "searching http://www.nytimes.com/2014/03/23/world/asia/nsa-breached-chinese-servers-seen-as-spy-peril.html ..."
       ]
      },
      {
       "output_type": "stream",
       "stream": "stdout",
       "text": [
        "\n",
        "searching http://www.lemonde.fr/international/article/2014/03/21/la-france-suspectee-de-cyberattaque_4387232_3210.html ..."
       ]
      },
      {
       "output_type": "stream",
       "stream": "stdout",
       "text": [
        "\n",
        "http://s3.documentcloud.org/documents/1094526/babarfull.pdf is a PDF\n",
        "searching https://firstlook.org/theintercept/article/2014/03/20/inside-nsa-secret-efforts-hunt-hack-system-administrators/ ..."
       ]
      },
      {
       "output_type": "stream",
       "stream": "stdout",
       "text": [
        "\n",
        "an intercept document! https://firstlook.org/theintercept/document/2014/03/20/hunt-sys-admins/\n",
        "an intercept document! https://firstlook.org/theintercept/document/2014/03/12/one-way-quantum/\n",
        "an intercept document! https://firstlook.org/theintercept/document/2014/03/17/nsa-secretly-masqueraded-facebook-hack-computers-surveillance/\n",
        "an intercept document! https://firstlook.org/theintercept/document/2014/03/20/hunt-sys-admins/\n",
        "searching http://www.washingtonpost.com/world/national-security/nsa-surveillance-program-reaches-into-the-past-to-retrieve-replay-phone-calls/2014/03/18/226d2646-ade9-11e3-a49e-76adc9210f19_story.html ..."
       ]
      },
      {
       "output_type": "stream",
       "stream": "stdout",
       "text": [
        "\n",
        "a post document! http://apps.washingtonpost.com/g/page/world/nsa-symbolizes-data-collection-program-with-wizard/880/"
       ]
      },
      {
       "output_type": "stream",
       "stream": "stdout",
       "text": [
        "\n",
        "a post document! http://apps.washingtonpost.com/g/page/world/description-of-data-collection-by-nsa-under-mystic/879/\n",
        "a post document! http://apps.washingtonpost.com/g/page/world/adding-a-country-to-mystic-efforts-mentioned/881/\n",
        "a post document! http://apps.washingtonpost.com/g/page/world/nsa-review-boards-report/674/\n",
        "a post document! http://apps.washingtonpost.com/g/page/world/nsa-review-boards-report/674/\n",
        "a post document! http://apps.washingtonpost.com/g/page/world/adding-a-country-to-mystic-efforts-mentioned/881/\n",
        "http://www.whitehouse.gov/sites/default/files/docs/2014sigint_mem_ppd_rel.pdf is a PDF\n",
        "a post document! http://apps.washingtonpost.com/g/page/world/nsa-symbolizes-data-collection-program-with-wizard/880/\n",
        "http://www.dni.gov/files/documents/1118/CLEANEDFinal%20USSID%20SP0018.pdf is a PDF\n",
        "searching http://www.washingtonpost.com/world/national-security/nsa-surveillance-program-reaches-into-the-past-to-retrieve-replay-phone-calls/2014/03/18/226d2646-ade9-11e3-a49e-76adc9210f19_story.html ..."
       ]
      },
      {
       "output_type": "stream",
       "stream": "stdout",
       "text": [
        "\n",
        "a post document! http://apps.washingtonpost.com/g/page/world/nsa-symbolizes-data-collection-program-with-wizard/880/\n",
        "a post document! http://apps.washingtonpost.com/g/page/world/description-of-data-collection-by-nsa-under-mystic/879/\n",
        "a post document! http://apps.washingtonpost.com/g/page/world/adding-a-country-to-mystic-efforts-mentioned/881/\n",
        "a post document! http://apps.washingtonpost.com/g/page/world/nsa-review-boards-report/674/\n",
        "a post document! http://apps.washingtonpost.com/g/page/world/nsa-review-boards-report/674/\n",
        "a post document! http://apps.washingtonpost.com/g/page/world/adding-a-country-to-mystic-efforts-mentioned/881/\n",
        "http://www.whitehouse.gov/sites/default/files/docs/2014sigint_mem_ppd_rel.pdf is a PDF\n",
        "a post document! http://apps.washingtonpost.com/g/page/world/nsa-symbolizes-data-collection-program-with-wizard/880/\n",
        "http://www.dni.gov/files/documents/1118/CLEANEDFinal%20USSID%20SP0018.pdf is a PDF\n",
        "searching http://www.washingtonpost.com/world/national-security/nsa-surveillance-program-reaches-into-the-past-to-retrieve-replay-phone-calls/2014/03/18/226d2646-ade9-11e3-a49e-76adc9210f19_story.html ..."
       ]
      },
      {
       "output_type": "stream",
       "stream": "stdout",
       "text": [
        "\n",
        "a post document! http://apps.washingtonpost.com/g/page/world/nsa-symbolizes-data-collection-program-with-wizard/880/"
       ]
      },
      {
       "output_type": "stream",
       "stream": "stdout",
       "text": [
        "\n",
        "a post document! http://apps.washingtonpost.com/g/page/world/description-of-data-collection-by-nsa-under-mystic/879/\n",
        "a post document! http://apps.washingtonpost.com/g/page/world/adding-a-country-to-mystic-efforts-mentioned/881/\n",
        "a post document! http://apps.washingtonpost.com/g/page/world/nsa-review-boards-report/674/\n",
        "a post document! http://apps.washingtonpost.com/g/page/world/nsa-review-boards-report/674/\n",
        "a post document! http://apps.washingtonpost.com/g/page/world/adding-a-country-to-mystic-efforts-mentioned/881/\n",
        "http://www.whitehouse.gov/sites/default/files/docs/2014sigint_mem_ppd_rel.pdf is a PDF\n",
        "a post document! http://apps.washingtonpost.com/g/page/world/nsa-symbolizes-data-collection-program-with-wizard/880/\n",
        "http://www.dni.gov/files/documents/1118/CLEANEDFinal%20USSID%20SP0018.pdf is a PDF\n",
        "searching https://firstlook.org/theintercept/document/2014/03/17/nsa-secretly-masqueraded-facebook-hack-computers-surveillance/ ..."
       ]
      },
      {
       "output_type": "stream",
       "stream": "stdout",
       "text": [
        "\n",
        "searching https://firstlook.org/theintercept/2014/03/15/nsa-facebook-malware-turbine-non-denial-denial/ ..."
       ]
      },
      {
       "output_type": "stream",
       "stream": "stdout",
       "text": [
        "\n",
        "an intercept document! https://firstlook.org/theintercept/document/2014/03/12/one-way-quantum/\n",
        "searching https://firstlook.org/theintercept/article/2014/03/13/nsa-elected-officials-foreign-countries-unaware-countries-cooperation-us/ ..."
       ]
      },
      {
       "output_type": "stream",
       "stream": "stdout",
       "text": [
        "\n",
        "an intercept document! https://firstlook.org/theintercept/document/2014/03/13/third-party-relationships/ ?Edi\n",
        "an intercept document! https://firstlook.org/theintercept/document/2014/03/13/third-party-relationships/ ?Edi\n",
        "searching https://firstlook.org/theintercept/article/2014/03/12/nsa-plans-infect-millions-computers-malware/ ..."
       ]
      },
      {
       "output_type": "stream",
       "stream": "stdout",
       "text": [
        "\n",
        "an intercept document! https://firstlook.org/theintercept/document/2014/03/12/thousands-implants/\n",
        "an intercept document! https://firstlook.org/theintercept/document/2014/03/12/industrial-scale-exploitation/\n",
        "an intercept document! https://firstlook.org/theintercept/document/2014/03/12/nsa-technology-directorate-analysis-converged-data/\n",
        "an intercept document! https://firstlook.org/theintercept/document/2014/03/12/one-way-quantum/\n",
        "an intercept document! https://firstlook.org/theintercept/document/2014/03/12/nsa-phishing-tactics-man-middle-attacks/\n",
        "an intercept document! https://firstlook.org/theintercept/document/2014/03/12/quantum-insert-diagrams/\n",
        "an intercept document! https://firstlook.org/theintercept/document/2014/03/12/turbine-turmoil/\n",
        "an intercept document! https://firstlook.org/theintercept/document/2014/03/12/turbine-turmoil/\n",
        "an intercept document! https://firstlook.org/theintercept/document/2014/03/12/menwith-hill-station-leverages-xkeyscore-quantum-yahoo-hotmail/\n",
        "an intercept document! https://firstlook.org/theintercept/document/2014/03/12/nsa-gchqs-quantumtheory-hacking-tactics/\n",
        "an intercept document! https://firstlook.org/theintercept/document/2014/03/12/five-eyes-hacking-large-routers/\n",
        "an intercept document! https://firstlook.org/theintercept/document/2014/03/12/menwith-hill-station-leverages-xkeyscore-quantum-yahoo-hotmail/\n",
        "an intercept document! https://firstlook.org/theintercept/document/2014/03/12/five-eyes-hacking-large-routers/\n",
        "an intercept document! https://firstlook.org/theintercept/document/2014/03/12/nsa-technology-directorate-analysis-converged-data/\n",
        "an intercept document! https://firstlook.org/theintercept/document/2014/03/12/selector-types/\n",
        "an intercept document! https://firstlook.org/theintercept/document/2014/03/12/one-way-quantum/\n",
        "an intercept document! https://firstlook.org/theintercept/document/2014/03/12/nsa-phishing-tactics-man-middle-attacks/\n",
        "an intercept document! https://firstlook.org/theintercept/document/2014/03/12/quantum-insert-diagrams/\n",
        "an intercept document! https://firstlook.org/theintercept/document/2014/03/12/nsa-gchqs-quantumtheory-hacking-tactics/\n",
        "an intercept document! https://firstlook.org/theintercept/document/2014/03/12/turbine-turmoil/\n",
        "an intercept document! https://firstlook.org/theintercept/document/2014/03/12/vpn-voip-exploitation-hammerchant-hammerstein/\n",
        "an intercept document! https://firstlook.org/theintercept/document/2014/03/12/industrial-scale-exploitation/\n",
        "an intercept document! https://firstlook.org/theintercept/document/2014/03/12/thousands-implants/\n",
        "searching https://firstlook.org/theintercept/article/2014/03/12/nsa-plans-infect-millions-computers-malware/ ..."
       ]
      },
      {
       "output_type": "stream",
       "stream": "stdout",
       "text": [
        "\n",
        "an intercept document! https://firstlook.org/theintercept/document/2014/03/12/thousands-implants/\n",
        "an intercept document! https://firstlook.org/theintercept/document/2014/03/12/industrial-scale-exploitation/\n",
        "an intercept document! https://firstlook.org/theintercept/document/2014/03/12/nsa-technology-directorate-analysis-converged-data/\n",
        "an intercept document! https://firstlook.org/theintercept/document/2014/03/12/one-way-quantum/\n",
        "an intercept document! https://firstlook.org/theintercept/document/2014/03/12/nsa-phishing-tactics-man-middle-attacks/\n",
        "an intercept document! https://firstlook.org/theintercept/document/2014/03/12/quantum-insert-diagrams/\n",
        "an intercept document! https://firstlook.org/theintercept/document/2014/03/12/turbine-turmoil/\n",
        "an intercept document! https://firstlook.org/theintercept/document/2014/03/12/turbine-turmoil/\n",
        "an intercept document! https://firstlook.org/theintercept/document/2014/03/12/menwith-hill-station-leverages-xkeyscore-quantum-yahoo-hotmail/\n",
        "an intercept document! https://firstlook.org/theintercept/document/2014/03/12/nsa-gchqs-quantumtheory-hacking-tactics/\n",
        "an intercept document! https://firstlook.org/theintercept/document/2014/03/12/five-eyes-hacking-large-routers/\n",
        "an intercept document! https://firstlook.org/theintercept/document/2014/03/12/menwith-hill-station-leverages-xkeyscore-quantum-yahoo-hotmail/\n",
        "an intercept document! https://firstlook.org/theintercept/document/2014/03/12/five-eyes-hacking-large-routers/\n",
        "an intercept document! https://firstlook.org/theintercept/document/2014/03/12/nsa-technology-directorate-analysis-converged-data/\n",
        "an intercept document! https://firstlook.org/theintercept/document/2014/03/12/selector-types/\n",
        "an intercept document! https://firstlook.org/theintercept/document/2014/03/12/one-way-quantum/\n",
        "an intercept document! https://firstlook.org/theintercept/document/2014/03/12/nsa-phishing-tactics-man-middle-attacks/\n",
        "an intercept document! https://firstlook.org/theintercept/document/2014/03/12/quantum-insert-diagrams/\n",
        "an intercept document! https://firstlook.org/theintercept/document/2014/03/12/nsa-gchqs-quantumtheory-hacking-tactics/\n",
        "an intercept document! https://firstlook.org/theintercept/document/2014/03/12/turbine-turmoil/\n",
        "an intercept document! https://firstlook.org/theintercept/document/2014/03/12/vpn-voip-exploitation-hammerchant-hammerstein/\n",
        "an intercept document! https://firstlook.org/theintercept/document/2014/03/12/industrial-scale-exploitation/\n",
        "an intercept document! https://firstlook.org/theintercept/document/2014/03/12/thousands-implants/\n",
        "searching https://firstlook.org/theintercept/article/2014/03/12/nsa-plans-infect-millions-computers-malware/ ..."
       ]
      },
      {
       "output_type": "stream",
       "stream": "stdout",
       "text": [
        "\n",
        "an intercept document! https://firstlook.org/theintercept/document/2014/03/12/thousands-implants/\n",
        "an intercept document! https://firstlook.org/theintercept/document/2014/03/12/industrial-scale-exploitation/\n",
        "an intercept document! https://firstlook.org/theintercept/document/2014/03/12/nsa-technology-directorate-analysis-converged-data/\n",
        "an intercept document! https://firstlook.org/theintercept/document/2014/03/12/one-way-quantum/\n",
        "an intercept document! https://firstlook.org/theintercept/document/2014/03/12/nsa-phishing-tactics-man-middle-attacks/\n",
        "an intercept document! https://firstlook.org/theintercept/document/2014/03/12/quantum-insert-diagrams/\n",
        "an intercept document! https://firstlook.org/theintercept/document/2014/03/12/turbine-turmoil/\n",
        "an intercept document! https://firstlook.org/theintercept/document/2014/03/12/turbine-turmoil/\n",
        "an intercept document! https://firstlook.org/theintercept/document/2014/03/12/menwith-hill-station-leverages-xkeyscore-quantum-yahoo-hotmail/\n",
        "an intercept document! https://firstlook.org/theintercept/document/2014/03/12/nsa-gchqs-quantumtheory-hacking-tactics/\n",
        "an intercept document! https://firstlook.org/theintercept/document/2014/03/12/five-eyes-hacking-large-routers/\n",
        "an intercept document! https://firstlook.org/theintercept/document/2014/03/12/menwith-hill-station-leverages-xkeyscore-quantum-yahoo-hotmail/\n",
        "an intercept document! https://firstlook.org/theintercept/document/2014/03/12/five-eyes-hacking-large-routers/\n",
        "an intercept document! https://firstlook.org/theintercept/document/2014/03/12/nsa-technology-directorate-analysis-converged-data/\n",
        "an intercept document! https://firstlook.org/theintercept/document/2014/03/12/selector-types/\n",
        "an intercept document! https://firstlook.org/theintercept/document/2014/03/12/one-way-quantum/\n",
        "an intercept document! https://firstlook.org/theintercept/document/2014/03/12/nsa-phishing-tactics-man-middle-attacks/\n",
        "an intercept document! https://firstlook.org/theintercept/document/2014/03/12/quantum-insert-diagrams/\n",
        "an intercept document! https://firstlook.org/theintercept/document/2014/03/12/nsa-gchqs-quantumtheory-hacking-tactics/\n",
        "an intercept document! https://firstlook.org/theintercept/document/2014/03/12/turbine-turmoil/\n",
        "an intercept document! https://firstlook.org/theintercept/document/2014/03/12/vpn-voip-exploitation-hammerchant-hammerstein/\n",
        "an intercept document! https://firstlook.org/theintercept/document/2014/03/12/industrial-scale-exploitation/\n",
        "an intercept document! https://firstlook.org/theintercept/document/2014/03/12/thousands-implants/\n",
        "searching https://firstlook.org/theintercept/article/2014/03/12/nsa-plans-infect-millions-computers-malware/ ..."
       ]
      },
      {
       "output_type": "stream",
       "stream": "stdout",
       "text": [
        "\n",
        "an intercept document! https://firstlook.org/theintercept/document/2014/03/12/thousands-implants/\n",
        "an intercept document! https://firstlook.org/theintercept/document/2014/03/12/industrial-scale-exploitation/\n",
        "an intercept document! https://firstlook.org/theintercept/document/2014/03/12/nsa-technology-directorate-analysis-converged-data/\n",
        "an intercept document! https://firstlook.org/theintercept/document/2014/03/12/one-way-quantum/\n",
        "an intercept document! https://firstlook.org/theintercept/document/2014/03/12/nsa-phishing-tactics-man-middle-attacks/\n",
        "an intercept document! https://firstlook.org/theintercept/document/2014/03/12/quantum-insert-diagrams/\n",
        "an intercept document! https://firstlook.org/theintercept/document/2014/03/12/turbine-turmoil/\n",
        "an intercept document! https://firstlook.org/theintercept/document/2014/03/12/turbine-turmoil/\n",
        "an intercept document! https://firstlook.org/theintercept/document/2014/03/12/menwith-hill-station-leverages-xkeyscore-quantum-yahoo-hotmail/\n",
        "an intercept document! https://firstlook.org/theintercept/document/2014/03/12/nsa-gchqs-quantumtheory-hacking-tactics/\n",
        "an intercept document! https://firstlook.org/theintercept/document/2014/03/12/five-eyes-hacking-large-routers/\n",
        "an intercept document! https://firstlook.org/theintercept/document/2014/03/12/menwith-hill-station-leverages-xkeyscore-quantum-yahoo-hotmail/\n",
        "an intercept document! https://firstlook.org/theintercept/document/2014/03/12/five-eyes-hacking-large-routers/\n",
        "an intercept document! https://firstlook.org/theintercept/document/2014/03/12/nsa-technology-directorate-analysis-converged-data/\n",
        "an intercept document! https://firstlook.org/theintercept/document/2014/03/12/selector-types/\n",
        "an intercept document! https://firstlook.org/theintercept/document/2014/03/12/one-way-quantum/\n",
        "an intercept document! https://firstlook.org/theintercept/document/2014/03/12/nsa-phishing-tactics-man-middle-attacks/\n",
        "an intercept document! https://firstlook.org/theintercept/document/2014/03/12/quantum-insert-diagrams/\n",
        "an intercept document! https://firstlook.org/theintercept/document/2014/03/12/nsa-gchqs-quantumtheory-hacking-tactics/\n",
        "an intercept document! https://firstlook.org/theintercept/document/2014/03/12/turbine-turmoil/\n",
        "an intercept document! https://firstlook.org/theintercept/document/2014/03/12/vpn-voip-exploitation-hammerchant-hammerstein/\n",
        "an intercept document! https://firstlook.org/theintercept/document/2014/03/12/industrial-scale-exploitation/\n",
        "an intercept document! https://firstlook.org/theintercept/document/2014/03/12/thousands-implants/\n",
        "searching https://firstlook.org/theintercept/article/2014/03/12/nsa-plans-infect-millions-computers-malware/ ..."
       ]
      },
      {
       "output_type": "stream",
       "stream": "stdout",
       "text": [
        "\n",
        "an intercept document! https://firstlook.org/theintercept/document/2014/03/12/thousands-implants/\n",
        "an intercept document! https://firstlook.org/theintercept/document/2014/03/12/industrial-scale-exploitation/\n",
        "an intercept document! https://firstlook.org/theintercept/document/2014/03/12/nsa-technology-directorate-analysis-converged-data/\n",
        "an intercept document! https://firstlook.org/theintercept/document/2014/03/12/one-way-quantum/\n",
        "an intercept document! https://firstlook.org/theintercept/document/2014/03/12/nsa-phishing-tactics-man-middle-attacks/\n",
        "an intercept document! https://firstlook.org/theintercept/document/2014/03/12/quantum-insert-diagrams/\n",
        "an intercept document! https://firstlook.org/theintercept/document/2014/03/12/turbine-turmoil/\n",
        "an intercept document! https://firstlook.org/theintercept/document/2014/03/12/turbine-turmoil/\n",
        "an intercept document! https://firstlook.org/theintercept/document/2014/03/12/menwith-hill-station-leverages-xkeyscore-quantum-yahoo-hotmail/\n",
        "an intercept document! https://firstlook.org/theintercept/document/2014/03/12/nsa-gchqs-quantumtheory-hacking-tactics/\n",
        "an intercept document! https://firstlook.org/theintercept/document/2014/03/12/five-eyes-hacking-large-routers/\n",
        "an intercept document! https://firstlook.org/theintercept/document/2014/03/12/menwith-hill-station-leverages-xkeyscore-quantum-yahoo-hotmail/\n",
        "an intercept document! https://firstlook.org/theintercept/document/2014/03/12/five-eyes-hacking-large-routers/\n",
        "an intercept document! https://firstlook.org/theintercept/document/2014/03/12/nsa-technology-directorate-analysis-converged-data/\n",
        "an intercept document! https://firstlook.org/theintercept/document/2014/03/12/selector-types/\n",
        "an intercept document! https://firstlook.org/theintercept/document/2014/03/12/one-way-quantum/\n",
        "an intercept document! https://firstlook.org/theintercept/document/2014/03/12/nsa-phishing-tactics-man-middle-attacks/\n",
        "an intercept document! https://firstlook.org/theintercept/document/2014/03/12/quantum-insert-diagrams/\n",
        "an intercept document! https://firstlook.org/theintercept/document/2014/03/12/nsa-gchqs-quantumtheory-hacking-tactics/\n",
        "an intercept document! https://firstlook.org/theintercept/document/2014/03/12/turbine-turmoil/\n",
        "an intercept document! https://firstlook.org/theintercept/document/2014/03/12/vpn-voip-exploitation-hammerchant-hammerstein/\n",
        "an intercept document! https://firstlook.org/theintercept/document/2014/03/12/industrial-scale-exploitation/\n",
        "an intercept document! https://firstlook.org/theintercept/document/2014/03/12/thousands-implants/\n",
        "searching https://firstlook.org/theintercept/article/2014/03/12/nsa-plans-infect-millions-computers-malware/ ..."
       ]
      },
      {
       "output_type": "stream",
       "stream": "stdout",
       "text": [
        "\n",
        "an intercept document! https://firstlook.org/theintercept/document/2014/03/12/thousands-implants/\n",
        "an intercept document! https://firstlook.org/theintercept/document/2014/03/12/industrial-scale-exploitation/\n",
        "an intercept document! https://firstlook.org/theintercept/document/2014/03/12/nsa-technology-directorate-analysis-converged-data/\n",
        "an intercept document! https://firstlook.org/theintercept/document/2014/03/12/one-way-quantum/\n",
        "an intercept document! https://firstlook.org/theintercept/document/2014/03/12/nsa-phishing-tactics-man-middle-attacks/\n",
        "an intercept document! https://firstlook.org/theintercept/document/2014/03/12/quantum-insert-diagrams/\n",
        "an intercept document! https://firstlook.org/theintercept/document/2014/03/12/turbine-turmoil/\n",
        "an intercept document! https://firstlook.org/theintercept/document/2014/03/12/turbine-turmoil/\n",
        "an intercept document! https://firstlook.org/theintercept/document/2014/03/12/menwith-hill-station-leverages-xkeyscore-quantum-yahoo-hotmail/\n",
        "an intercept document! https://firstlook.org/theintercept/document/2014/03/12/nsa-gchqs-quantumtheory-hacking-tactics/\n",
        "an intercept document! https://firstlook.org/theintercept/document/2014/03/12/five-eyes-hacking-large-routers/\n",
        "an intercept document! https://firstlook.org/theintercept/document/2014/03/12/menwith-hill-station-leverages-xkeyscore-quantum-yahoo-hotmail/\n",
        "an intercept document! https://firstlook.org/theintercept/document/2014/03/12/five-eyes-hacking-large-routers/\n",
        "an intercept document! https://firstlook.org/theintercept/document/2014/03/12/nsa-technology-directorate-analysis-converged-data/\n",
        "an intercept document! https://firstlook.org/theintercept/document/2014/03/12/selector-types/\n",
        "an intercept document! https://firstlook.org/theintercept/document/2014/03/12/one-way-quantum/\n",
        "an intercept document! https://firstlook.org/theintercept/document/2014/03/12/nsa-phishing-tactics-man-middle-attacks/\n",
        "an intercept document! https://firstlook.org/theintercept/document/2014/03/12/quantum-insert-diagrams/\n",
        "an intercept document! https://firstlook.org/theintercept/document/2014/03/12/nsa-gchqs-quantumtheory-hacking-tactics/\n",
        "an intercept document! https://firstlook.org/theintercept/document/2014/03/12/turbine-turmoil/\n",
        "an intercept document! https://firstlook.org/theintercept/document/2014/03/12/vpn-voip-exploitation-hammerchant-hammerstein/\n",
        "an intercept document! https://firstlook.org/theintercept/document/2014/03/12/industrial-scale-exploitation/\n",
        "an intercept document! https://firstlook.org/theintercept/document/2014/03/12/thousands-implants/\n",
        "searching https://firstlook.org/theintercept/article/2014/03/12/nsa-plans-infect-millions-computers-malware/ ..."
       ]
      },
      {
       "output_type": "stream",
       "stream": "stdout",
       "text": [
        "\n",
        "an intercept document! https://firstlook.org/theintercept/document/2014/03/12/thousands-implants/\n",
        "an intercept document! https://firstlook.org/theintercept/document/2014/03/12/industrial-scale-exploitation/\n",
        "an intercept document! https://firstlook.org/theintercept/document/2014/03/12/nsa-technology-directorate-analysis-converged-data/\n",
        "an intercept document! https://firstlook.org/theintercept/document/2014/03/12/one-way-quantum/\n",
        "an intercept document! https://firstlook.org/theintercept/document/2014/03/12/nsa-phishing-tactics-man-middle-attacks/\n",
        "an intercept document! https://firstlook.org/theintercept/document/2014/03/12/quantum-insert-diagrams/\n",
        "an intercept document! https://firstlook.org/theintercept/document/2014/03/12/turbine-turmoil/\n",
        "an intercept document! https://firstlook.org/theintercept/document/2014/03/12/turbine-turmoil/\n",
        "an intercept document! https://firstlook.org/theintercept/document/2014/03/12/menwith-hill-station-leverages-xkeyscore-quantum-yahoo-hotmail/\n",
        "an intercept document! https://firstlook.org/theintercept/document/2014/03/12/nsa-gchqs-quantumtheory-hacking-tactics/\n",
        "an intercept document! https://firstlook.org/theintercept/document/2014/03/12/five-eyes-hacking-large-routers/\n",
        "an intercept document! https://firstlook.org/theintercept/document/2014/03/12/menwith-hill-station-leverages-xkeyscore-quantum-yahoo-hotmail/\n",
        "an intercept document! https://firstlook.org/theintercept/document/2014/03/12/five-eyes-hacking-large-routers/\n",
        "an intercept document! https://firstlook.org/theintercept/document/2014/03/12/nsa-technology-directorate-analysis-converged-data/\n",
        "an intercept document! https://firstlook.org/theintercept/document/2014/03/12/selector-types/\n",
        "an intercept document! https://firstlook.org/theintercept/document/2014/03/12/one-way-quantum/\n",
        "an intercept document! https://firstlook.org/theintercept/document/2014/03/12/nsa-phishing-tactics-man-middle-attacks/\n",
        "an intercept document! https://firstlook.org/theintercept/document/2014/03/12/quantum-insert-diagrams/\n",
        "an intercept document! https://firstlook.org/theintercept/document/2014/03/12/nsa-gchqs-quantumtheory-hacking-tactics/\n",
        "an intercept document! https://firstlook.org/theintercept/document/2014/03/12/turbine-turmoil/\n",
        "an intercept document! https://firstlook.org/theintercept/document/2014/03/12/vpn-voip-exploitation-hammerchant-hammerstein/\n",
        "an intercept document! https://firstlook.org/theintercept/document/2014/03/12/industrial-scale-exploitation/\n",
        "an intercept document! https://firstlook.org/theintercept/document/2014/03/12/thousands-implants/\n",
        "searching https://firstlook.org/theintercept/article/2014/03/12/nsa-plans-infect-millions-computers-malware/ ..."
       ]
      },
      {
       "output_type": "stream",
       "stream": "stdout",
       "text": [
        "\n",
        "an intercept document! https://firstlook.org/theintercept/document/2014/03/12/thousands-implants/\n",
        "an intercept document! https://firstlook.org/theintercept/document/2014/03/12/industrial-scale-exploitation/\n",
        "an intercept document! https://firstlook.org/theintercept/document/2014/03/12/nsa-technology-directorate-analysis-converged-data/\n",
        "an intercept document! https://firstlook.org/theintercept/document/2014/03/12/one-way-quantum/\n",
        "an intercept document! https://firstlook.org/theintercept/document/2014/03/12/nsa-phishing-tactics-man-middle-attacks/\n",
        "an intercept document! https://firstlook.org/theintercept/document/2014/03/12/quantum-insert-diagrams/\n",
        "an intercept document! https://firstlook.org/theintercept/document/2014/03/12/turbine-turmoil/\n",
        "an intercept document! https://firstlook.org/theintercept/document/2014/03/12/turbine-turmoil/\n",
        "an intercept document! https://firstlook.org/theintercept/document/2014/03/12/menwith-hill-station-leverages-xkeyscore-quantum-yahoo-hotmail/\n",
        "an intercept document! https://firstlook.org/theintercept/document/2014/03/12/nsa-gchqs-quantumtheory-hacking-tactics/\n",
        "an intercept document! https://firstlook.org/theintercept/document/2014/03/12/five-eyes-hacking-large-routers/\n",
        "an intercept document! https://firstlook.org/theintercept/document/2014/03/12/menwith-hill-station-leverages-xkeyscore-quantum-yahoo-hotmail/\n",
        "an intercept document! https://firstlook.org/theintercept/document/2014/03/12/five-eyes-hacking-large-routers/\n",
        "an intercept document! https://firstlook.org/theintercept/document/2014/03/12/nsa-technology-directorate-analysis-converged-data/\n",
        "an intercept document! https://firstlook.org/theintercept/document/2014/03/12/selector-types/\n",
        "an intercept document! https://firstlook.org/theintercept/document/2014/03/12/one-way-quantum/\n",
        "an intercept document! https://firstlook.org/theintercept/document/2014/03/12/nsa-phishing-tactics-man-middle-attacks/\n",
        "an intercept document! https://firstlook.org/theintercept/document/2014/03/12/quantum-insert-diagrams/\n",
        "an intercept document! https://firstlook.org/theintercept/document/2014/03/12/nsa-gchqs-quantumtheory-hacking-tactics/\n",
        "an intercept document! https://firstlook.org/theintercept/document/2014/03/12/turbine-turmoil/\n",
        "an intercept document! https://firstlook.org/theintercept/document/2014/03/12/vpn-voip-exploitation-hammerchant-hammerstein/\n",
        "an intercept document! https://firstlook.org/theintercept/document/2014/03/12/industrial-scale-exploitation/\n",
        "an intercept document! https://firstlook.org/theintercept/document/2014/03/12/thousands-implants/\n",
        "searching https://firstlook.org/theintercept/article/2014/03/12/nsa-plans-infect-millions-computers-malware/ ..."
       ]
      },
      {
       "output_type": "stream",
       "stream": "stdout",
       "text": [
        "\n",
        "an intercept document! https://firstlook.org/theintercept/document/2014/03/12/thousands-implants/\n",
        "an intercept document! https://firstlook.org/theintercept/document/2014/03/12/industrial-scale-exploitation/\n",
        "an intercept document! https://firstlook.org/theintercept/document/2014/03/12/nsa-technology-directorate-analysis-converged-data/\n",
        "an intercept document! https://firstlook.org/theintercept/document/2014/03/12/one-way-quantum/\n",
        "an intercept document! https://firstlook.org/theintercept/document/2014/03/12/nsa-phishing-tactics-man-middle-attacks/\n",
        "an intercept document! https://firstlook.org/theintercept/document/2014/03/12/quantum-insert-diagrams/\n",
        "an intercept document! https://firstlook.org/theintercept/document/2014/03/12/turbine-turmoil/\n",
        "an intercept document! https://firstlook.org/theintercept/document/2014/03/12/turbine-turmoil/\n",
        "an intercept document! https://firstlook.org/theintercept/document/2014/03/12/menwith-hill-station-leverages-xkeyscore-quantum-yahoo-hotmail/\n",
        "an intercept document! https://firstlook.org/theintercept/document/2014/03/12/nsa-gchqs-quantumtheory-hacking-tactics/\n",
        "an intercept document! https://firstlook.org/theintercept/document/2014/03/12/five-eyes-hacking-large-routers/\n",
        "an intercept document! https://firstlook.org/theintercept/document/2014/03/12/menwith-hill-station-leverages-xkeyscore-quantum-yahoo-hotmail/\n",
        "an intercept document! https://firstlook.org/theintercept/document/2014/03/12/five-eyes-hacking-large-routers/\n",
        "an intercept document! https://firstlook.org/theintercept/document/2014/03/12/nsa-technology-directorate-analysis-converged-data/\n",
        "an intercept document! https://firstlook.org/theintercept/document/2014/03/12/selector-types/\n",
        "an intercept document! https://firstlook.org/theintercept/document/2014/03/12/one-way-quantum/\n",
        "an intercept document! https://firstlook.org/theintercept/document/2014/03/12/nsa-phishing-tactics-man-middle-attacks/\n",
        "an intercept document! https://firstlook.org/theintercept/document/2014/03/12/quantum-insert-diagrams/\n",
        "an intercept document! https://firstlook.org/theintercept/document/2014/03/12/nsa-gchqs-quantumtheory-hacking-tactics/\n",
        "an intercept document! https://firstlook.org/theintercept/document/2014/03/12/turbine-turmoil/\n",
        "an intercept document! https://firstlook.org/theintercept/document/2014/03/12/vpn-voip-exploitation-hammerchant-hammerstein/\n",
        "an intercept document! https://firstlook.org/theintercept/document/2014/03/12/industrial-scale-exploitation/\n",
        "an intercept document! https://firstlook.org/theintercept/document/2014/03/12/thousands-implants/\n",
        "searching https://firstlook.org/theintercept/article/2014/03/12/nsa-plans-infect-millions-computers-malware/ ..."
       ]
      },
      {
       "output_type": "stream",
       "stream": "stdout",
       "text": [
        "\n",
        "an intercept document! https://firstlook.org/theintercept/document/2014/03/12/thousands-implants/\n",
        "an intercept document! https://firstlook.org/theintercept/document/2014/03/12/industrial-scale-exploitation/\n",
        "an intercept document! https://firstlook.org/theintercept/document/2014/03/12/nsa-technology-directorate-analysis-converged-data/\n",
        "an intercept document! https://firstlook.org/theintercept/document/2014/03/12/one-way-quantum/\n",
        "an intercept document! https://firstlook.org/theintercept/document/2014/03/12/nsa-phishing-tactics-man-middle-attacks/\n",
        "an intercept document! https://firstlook.org/theintercept/document/2014/03/12/quantum-insert-diagrams/\n",
        "an intercept document! https://firstlook.org/theintercept/document/2014/03/12/turbine-turmoil/\n",
        "an intercept document! https://firstlook.org/theintercept/document/2014/03/12/turbine-turmoil/\n",
        "an intercept document! https://firstlook.org/theintercept/document/2014/03/12/menwith-hill-station-leverages-xkeyscore-quantum-yahoo-hotmail/\n",
        "an intercept document! https://firstlook.org/theintercept/document/2014/03/12/nsa-gchqs-quantumtheory-hacking-tactics/\n",
        "an intercept document! https://firstlook.org/theintercept/document/2014/03/12/five-eyes-hacking-large-routers/\n",
        "an intercept document! https://firstlook.org/theintercept/document/2014/03/12/menwith-hill-station-leverages-xkeyscore-quantum-yahoo-hotmail/\n",
        "an intercept document! https://firstlook.org/theintercept/document/2014/03/12/five-eyes-hacking-large-routers/\n",
        "an intercept document! https://firstlook.org/theintercept/document/2014/03/12/nsa-technology-directorate-analysis-converged-data/\n",
        "an intercept document! https://firstlook.org/theintercept/document/2014/03/12/selector-types/\n",
        "an intercept document! https://firstlook.org/theintercept/document/2014/03/12/one-way-quantum/\n",
        "an intercept document! https://firstlook.org/theintercept/document/2014/03/12/nsa-phishing-tactics-man-middle-attacks/\n",
        "an intercept document! https://firstlook.org/theintercept/document/2014/03/12/quantum-insert-diagrams/\n",
        "an intercept document! https://firstlook.org/theintercept/document/2014/03/12/nsa-gchqs-quantumtheory-hacking-tactics/\n",
        "an intercept document! https://firstlook.org/theintercept/document/2014/03/12/turbine-turmoil/\n",
        "an intercept document! https://firstlook.org/theintercept/document/2014/03/12/vpn-voip-exploitation-hammerchant-hammerstein/\n",
        "an intercept document! https://firstlook.org/theintercept/document/2014/03/12/industrial-scale-exploitation/\n",
        "an intercept document! https://firstlook.org/theintercept/document/2014/03/12/thousands-implants/\n",
        "searching https://firstlook.org/theintercept/article/2014/03/12/nsa-plans-infect-millions-computers-malware/ ..."
       ]
      },
      {
       "output_type": "stream",
       "stream": "stdout",
       "text": [
        "\n",
        "an intercept document! https://firstlook.org/theintercept/document/2014/03/12/thousands-implants/\n",
        "an intercept document! https://firstlook.org/theintercept/document/2014/03/12/industrial-scale-exploitation/\n",
        "an intercept document! https://firstlook.org/theintercept/document/2014/03/12/nsa-technology-directorate-analysis-converged-data/\n",
        "an intercept document! https://firstlook.org/theintercept/document/2014/03/12/one-way-quantum/\n",
        "an intercept document! https://firstlook.org/theintercept/document/2014/03/12/nsa-phishing-tactics-man-middle-attacks/\n",
        "an intercept document! https://firstlook.org/theintercept/document/2014/03/12/quantum-insert-diagrams/\n",
        "an intercept document! https://firstlook.org/theintercept/document/2014/03/12/turbine-turmoil/\n",
        "an intercept document! https://firstlook.org/theintercept/document/2014/03/12/turbine-turmoil/\n",
        "an intercept document! https://firstlook.org/theintercept/document/2014/03/12/menwith-hill-station-leverages-xkeyscore-quantum-yahoo-hotmail/\n",
        "an intercept document! https://firstlook.org/theintercept/document/2014/03/12/nsa-gchqs-quantumtheory-hacking-tactics/\n",
        "an intercept document! https://firstlook.org/theintercept/document/2014/03/12/five-eyes-hacking-large-routers/\n",
        "an intercept document! https://firstlook.org/theintercept/document/2014/03/12/menwith-hill-station-leverages-xkeyscore-quantum-yahoo-hotmail/\n",
        "an intercept document! https://firstlook.org/theintercept/document/2014/03/12/five-eyes-hacking-large-routers/\n",
        "an intercept document! https://firstlook.org/theintercept/document/2014/03/12/nsa-technology-directorate-analysis-converged-data/\n",
        "an intercept document! https://firstlook.org/theintercept/document/2014/03/12/selector-types/\n",
        "an intercept document! https://firstlook.org/theintercept/document/2014/03/12/one-way-quantum/\n",
        "an intercept document! https://firstlook.org/theintercept/document/2014/03/12/nsa-phishing-tactics-man-middle-attacks/\n",
        "an intercept document! https://firstlook.org/theintercept/document/2014/03/12/quantum-insert-diagrams/\n",
        "an intercept document! https://firstlook.org/theintercept/document/2014/03/12/nsa-gchqs-quantumtheory-hacking-tactics/\n",
        "an intercept document! https://firstlook.org/theintercept/document/2014/03/12/turbine-turmoil/\n",
        "an intercept document! https://firstlook.org/theintercept/document/2014/03/12/vpn-voip-exploitation-hammerchant-hammerstein/\n",
        "an intercept document! https://firstlook.org/theintercept/document/2014/03/12/industrial-scale-exploitation/\n",
        "an intercept document! https://firstlook.org/theintercept/document/2014/03/12/thousands-implants/\n",
        "searching https://firstlook.org/theintercept/article/2014/03/12/nsa-plans-infect-millions-computers-malware/ ..."
       ]
      },
      {
       "output_type": "stream",
       "stream": "stdout",
       "text": [
        "\n",
        "an intercept document! https://firstlook.org/theintercept/document/2014/03/12/thousands-implants/\n",
        "an intercept document! https://firstlook.org/theintercept/document/2014/03/12/industrial-scale-exploitation/\n",
        "an intercept document! https://firstlook.org/theintercept/document/2014/03/12/nsa-technology-directorate-analysis-converged-data/\n",
        "an intercept document! https://firstlook.org/theintercept/document/2014/03/12/one-way-quantum/\n",
        "an intercept document! https://firstlook.org/theintercept/document/2014/03/12/nsa-phishing-tactics-man-middle-attacks/\n",
        "an intercept document! https://firstlook.org/theintercept/document/2014/03/12/quantum-insert-diagrams/\n",
        "an intercept document! https://firstlook.org/theintercept/document/2014/03/12/turbine-turmoil/\n",
        "an intercept document! https://firstlook.org/theintercept/document/2014/03/12/turbine-turmoil/\n",
        "an intercept document! https://firstlook.org/theintercept/document/2014/03/12/menwith-hill-station-leverages-xkeyscore-quantum-yahoo-hotmail/\n",
        "an intercept document! https://firstlook.org/theintercept/document/2014/03/12/nsa-gchqs-quantumtheory-hacking-tactics/\n",
        "an intercept document! https://firstlook.org/theintercept/document/2014/03/12/five-eyes-hacking-large-routers/\n",
        "an intercept document! https://firstlook.org/theintercept/document/2014/03/12/menwith-hill-station-leverages-xkeyscore-quantum-yahoo-hotmail/\n",
        "an intercept document! https://firstlook.org/theintercept/document/2014/03/12/five-eyes-hacking-large-routers/\n",
        "an intercept document! https://firstlook.org/theintercept/document/2014/03/12/nsa-technology-directorate-analysis-converged-data/\n",
        "an intercept document! https://firstlook.org/theintercept/document/2014/03/12/selector-types/\n",
        "an intercept document! https://firstlook.org/theintercept/document/2014/03/12/one-way-quantum/\n",
        "an intercept document! https://firstlook.org/theintercept/document/2014/03/12/nsa-phishing-tactics-man-middle-attacks/\n",
        "an intercept document! https://firstlook.org/theintercept/document/2014/03/12/quantum-insert-diagrams/\n",
        "an intercept document! https://firstlook.org/theintercept/document/2014/03/12/nsa-gchqs-quantumtheory-hacking-tactics/\n",
        "an intercept document! https://firstlook.org/theintercept/document/2014/03/12/turbine-turmoil/\n",
        "an intercept document! https://firstlook.org/theintercept/document/2014/03/12/vpn-voip-exploitation-hammerchant-hammerstein/\n",
        "an intercept document! https://firstlook.org/theintercept/document/2014/03/12/industrial-scale-exploitation/\n",
        "an intercept document! https://firstlook.org/theintercept/document/2014/03/12/thousands-implants/\n",
        "searching http://www.nytimes.com/2014/03/12/us/how-a-courts-secret-evolution-extended-spies-reach.html?_r=0 ..."
       ]
      },
      {
       "output_type": "stream",
       "stream": "stdout",
       "text": [
        "\n",
        "searching http://www.nytimes.com/2014/03/12/us/how-a-courts-secret-evolution-extended-spies-reach.html?_r=0 ..."
       ]
      },
      {
       "output_type": "stream",
       "stream": "stdout",
       "text": [
        "\n",
        "searching http://www.nytimes.com/2014/03/12/us/how-a-courts-secret-evolution-extended-spies-reach.html?_r=0 ..."
       ]
      },
      {
       "output_type": "stream",
       "stream": "stdout",
       "text": [
        "\n",
        "searching http://www.nytimes.com/2014/03/12/us/how-a-courts-secret-evolution-extended-spies-reach.html?_r=0 ..."
       ]
      },
      {
       "output_type": "stream",
       "stream": "stdout",
       "text": [
        "\n",
        "searching http://www.nytimes.com/2014/03/12/us/how-a-courts-secret-evolution-extended-spies-reach.html?_r=0 ..."
       ]
      },
      {
       "output_type": "stream",
       "stream": "stdout",
       "text": [
        "\n",
        "searching https://firstlook.org/theintercept/document/2014/03/07/guilty-proven-innocent/ ..."
       ]
      },
      {
       "output_type": "stream",
       "stream": "stdout",
       "text": [
        "\n",
        "searching https://firstlook.org/theintercept/document/2014/03/07/an-interview-with-zelda/ ..."
       ]
      },
      {
       "output_type": "stream",
       "stream": "stdout",
       "text": [
        "\n",
        "searching https://firstlook.org/theintercept/document/2014/03/07/bain-de-soleil-bane-nsa/ ..."
       ]
      },
      {
       "output_type": "stream",
       "stream": "stdout",
       "text": [
        "\n",
        "searching https://firstlook.org/theintercept/document/2014/03/07/silenced-sid/ ..."
       ]
      },
      {
       "output_type": "stream",
       "stream": "stdout",
       "text": [
        "\n",
        "searching https://firstlook.org/theintercept/article/2014/03/07/nsa-advice-columnist-seriously/ ..."
       ]
      },
      {
       "output_type": "stream",
       "stream": "stdout",
       "text": [
        "\n",
        "an intercept document! https://firstlook.org/theintercept/document/2014/03/07/silenced-sid/\n",
        "an intercept document! https://firstlook.org/theintercept/document/2014/03/07/an-interview-with-zelda/\n",
        "an intercept document! https://firstlook.org/theintercept/document/2014/03/07/bain-de-soleil-bane-nsa/\n",
        "an intercept document! https://firstlook.org/theintercept/document/2014/03/07/an-interview-with-zelda/\n",
        "an intercept document! https://firstlook.org/theintercept/document/2014/03/07/bain-de-soleil-bane-nsa/\n",
        "an intercept document! https://firstlook.org/theintercept/document/2014/03/07/guilty-proven-innocent/\n",
        "an intercept document! https://firstlook.org/theintercept/document/2014/03/07/silenced-sid/\n",
        "an intercept document! https://firstlook.org/theintercept/document/2014/03/07/an-interview-with-zelda/\n",
        "an intercept document! https://firstlook.org/theintercept/document/2014/03/07/bain-de-soleil-bane-nsa/\n",
        "an intercept document! https://firstlook.org/theintercept/document/2014/03/07/guilty-proven-innocent/\n",
        "searching http://www.nrc.nl/nieuws/2014/03/05/the-secret-role-of-the-dutch-in-the-american-war-on-terror/ ..."
       ]
      },
      {
       "output_type": "stream",
       "stream": "stdout",
       "text": [
        "\n",
        "searching http://epic.org/2014/03/in-foia-lawsuit-epic-obtains-s.html ..."
       ]
      },
      {
       "output_type": "stream",
       "stream": "stdout",
       "text": [
        "\n",
        "/foia/doj/pen-reg-trap-trace/AG-FISA-Pen-Register-Reports.pdf is a PDF\n",
        "searching http://www.theguardian.com/world/2014/feb/27/gchq-nsa-webcam-images-internet-yahoo ..."
       ]
      },
      {
       "output_type": "stream",
       "stream": "stdout",
       "text": [
        "\n",
        "http://www.theguardian.com/uk-news/interactive/2014/mar/04/nick-clegg-internet-security-speech-pdf is a PDF\n",
        "http://www.theguardian.com/uk-news/interactive/2014/mar/04/nick-clegg-internet-security-speech-pdf is a PDF\n",
        "searching https://firstlook.org/theintercept/2014/02/24/jtrig-manipulation/ ..."
       ]
      },
      {
       "output_type": "stream",
       "stream": "stdout",
       "text": [
        "\n",
        "http://msnbcmedia.msn.com/i/msnbc/Sections/NEWS/snowden_youtube_nbc_document.pdf is a PDF\n",
        "http://msnbcmedia.msn.com/i/msnbc/sections/news/snowden_anonymous_nbc_document.pdf is a PDF\n",
        "http://msnbcmedia.msn.com/i/msnbc/sections/news/snowden_cyber_offensive2_nbc_document.pdf is a PDF\n",
        "http://msnbcmedia.msn.com/i/msnbc/sections/news/snowden_cyber_offensive1_nbc_document.pdf is a PDF\n",
        "an intercept document! https://firstlook.org/theintercept/document/2014/02/24/art-deception-training-new-generation-online-covert-operations/\n",
        "an intercept document! https://firstlook.org/theintercept/document/2014/02/24/art-deception-training-new-generation-online-covert-operations/\n",
        "searching https://firstlook.org/theintercept/article/2014/02/18/snowden-docs-reveal-covert-surveillance-and-pressure-tactics-aimed-at-wikileaks-and-its-supporters/ ..."
       ]
      },
      {
       "output_type": "stream",
       "stream": "stdout",
       "text": [
        "\n",
        "an intercept document! https://firstlook.org/theintercept/document/2014/02/18/psychology-new-kind-sigdev/\n",
        "an intercept document! https://firstlook.org/theintercept/document/2014/02/18/discovery-sigint-targeting-scenarios-compliance/\n",
        "an intercept document! https://firstlook.org/theintercept/document/2014/02/18/psychology-new-kind-sigdev/\n",
        "an intercept document! https://firstlook.org/theintercept/document/2014/02/18/discovery-sigint-targeting-scenarios-compliance/\n",
        "an intercept document! https://firstlook.org/theintercept/document/2014/02/18/psychology-new-kind-sigdev/\n",
        "an intercept document! https://firstlook.org/theintercept/document/2014/02/18/discovery-sigint-targeting-scenarios-compliance/\n",
        "searching https://firstlook.org/theintercept/article/2014/02/18/snowden-docs-reveal-covert-surveillance-and-pressure-tactics-aimed-at-wikileaks-and-its-supporters/ ..."
       ]
      },
      {
       "output_type": "stream",
       "stream": "stdout",
       "text": [
        "\n",
        "an intercept document! https://firstlook.org/theintercept/document/2014/02/18/psychology-new-kind-sigdev/\n",
        "an intercept document! https://firstlook.org/theintercept/document/2014/02/18/discovery-sigint-targeting-scenarios-compliance/\n",
        "an intercept document! https://firstlook.org/theintercept/document/2014/02/18/psychology-new-kind-sigdev/\n",
        "an intercept document! https://firstlook.org/theintercept/document/2014/02/18/discovery-sigint-targeting-scenarios-compliance/\n",
        "an intercept document! https://firstlook.org/theintercept/document/2014/02/18/psychology-new-kind-sigdev/\n",
        "an intercept document! https://firstlook.org/theintercept/document/2014/02/18/discovery-sigint-targeting-scenarios-compliance/\n",
        "searching http://www.nytimes.com/2014/02/16/us/document-describes-eavesdropping-on-american-law-firm.html ..."
       ]
      },
      {
       "output_type": "stream",
       "stream": "stdout",
       "text": [
        "\n",
        "searching https://firstlook.org/theintercept/article/2014/02/10/the-nsas-secret-role/ ..."
       ]
      },
      {
       "output_type": "stream",
       "stream": "stdout",
       "text": [
        "\n",
        "searching http://electrospaces.blogspot.com/2014/02/boundlessinformant-metadata-collection.html ..."
       ]
      },
      {
       "output_type": "stream",
       "stream": "stdout",
       "text": [
        "\n",
        "http://content1d.omroep.nl/urishieldv2/l27m518f610a1106491b0052f97e78000000.796527e4c561fae80a6786b50e37be51/nos/docs/050214_brief_afluisteren.pdf is a PDF"
       ]
      },
      {
       "output_type": "stream",
       "stream": "stdout",
       "text": [
        "\n",
        "searching http://www.nbcnews.com/news/investigations/snowden-docs-british-spies-used-sex-dirty-tricks-n23091 ..."
       ]
      },
      {
       "output_type": "stream",
       "stream": "stdout",
       "text": [
        "\n",
        "http://msnbcmedia.msn.com/i/msnbc/sections/news/snowden_cyber_offensive1_nbc_document.pdf is a PDF\n",
        "http://msnbcmedia.msn.com/i/msnbc/sections/news/snowden_cyber_offensive2_nbc_document.pdf is a PDF\n",
        "searching http://www.nbcnews.com/news/investigations/snowden-docs-british-spies-used-sex-dirty-tricks-n23091 ..."
       ]
      },
      {
       "output_type": "stream",
       "stream": "stdout",
       "text": [
        "\n",
        "http://msnbcmedia.msn.com/i/msnbc/sections/news/snowden_cyber_offensive1_nbc_document.pdf is a PDF\n",
        "http://msnbcmedia.msn.com/i/msnbc/sections/news/snowden_cyber_offensive2_nbc_document.pdf is a PDF\n",
        "searching http://www.nbcnews.com/news/investigations/war-anonymous-british-spies-attacked-hackers-snowden-docs-show-n21361 ..."
       ]
      },
      {
       "output_type": "stream",
       "stream": "stdout",
       "text": [
        "\n",
        "http://msnbcmedia.msn.com/i/msnbc/sections/news/snowden_anonymous_nbc_document.pdf is a PDF\n",
        "searching http://www.cbc.ca/news/politics/csec-used-airport-wi-fi-to-track-canadian-travellers-edward-snowden-documents-1.2517881 ..."
       ]
      },
      {
       "output_type": "stream",
       "stream": "stdout",
       "text": [
        "\n",
        "http://www.cbc.ca/news2/pdf/airports_redacted.pdf is a PDF\n",
        "http://www.cbc.ca/news2/pdf/airports_redacted.pdf is a PDF\n",
        "http://www.cbc.ca/news2/pdf/airports_redacted.pdf is a PDF\n",
        "searching http://www.information.dk/486360 ..."
       ]
      },
      {
       "output_type": "stream",
       "stream": "stdout",
       "text": [
        "\n",
        "searching http://www.information.dk/486360 ..."
       ]
      },
      {
       "output_type": "stream",
       "stream": "stdout",
       "text": [
        "\n",
        "searching http://www.theguardian.com/world/2014/jan/27/nsa-gchq-smartphone-app-angry-birds-personal-data ..."
       ]
      },
      {
       "output_type": "stream",
       "stream": "stdout",
       "text": [
        "\n",
        "searching http://investigations.nbcnews.com/_news/2014/01/27/22469304-snowden-docs-reveal-british-spies-snooped-on-youtube-and-facebook ..."
       ]
      },
      {
       "output_type": "stream",
       "stream": "stdout",
       "text": [
        "\n",
        "http://media1.s-nbcnews.com/i/msnbc/Sections/NEWS/snowden_youtube_nbc_document.pdf is a PDF\n",
        "http://msnbcmedia.msn.com/i/msnbc/Sections/NEWS/snowden_youtube_nbc_document.pdf is a PDF\n",
        "searching http://www.nytimes.com/2014/01/28/world/spy-agencies-scour-phone-apps-for-personal-data.html ..."
       ]
      },
      {
       "output_type": "stream",
       "stream": "stdout",
       "text": [
        "\n",
        "searching http://www.nytimes.com/2014/01/28/world/spy-agencies-scour-phone-apps-for-personal-data.html ..."
       ]
      },
      {
       "output_type": "stream",
       "stream": "stdout",
       "text": [
        "\n",
        "searching http://www.theguardian.com/world/2014/jan/16/nsa-collects-millions-text-messages-daily-untargeted-global-sweep ..."
       ]
      },
      {
       "output_type": "stream",
       "stream": "stdout",
       "text": [
        "\n",
        "searching http://www.washingtonpost.com/world/national-security/nsa-seeks-to-build-quantum-computer-that-could-crack-most-types-of-encryption/2014/01/02/8fff297e-7195-11e3-8def-a33011492df2_story.html ..."
       ]
      },
      {
       "output_type": "stream",
       "stream": "stdout",
       "text": [
        "\n",
        "a post document! http://apps.washingtonpost.com/g/page/world/a-description-of-the-penetrating-hard-targets-project/691/\n",
        "a post document! http://apps.washingtonpost.com/g/page/world/a-description-of-the-penetrating-hard-targets-project/691/\n",
        "a post document! http://apps.washingtonpost.com/g/page/world/a-description-of-the-penetrating-hard-targets-project/691/\n",
        "a post document! http://apps.washingtonpost.com/g/page/world/a-description-of-the-penetrating-hard-targets-project/691/\n",
        "a post document! http://apps.washingtonpost.com/g/page/world/classifying-nsa-quantum-computing-efforts/692/\n",
        "a post document! http://apps.washingtonpost.com/g/page/world/classifying-nsa-quantum-computing-efforts/692/\n",
        "a post document! http://apps.washingtonpost.com/g/page/world/classifying-nsa-quantum-computing-efforts/692/\n",
        "http://eprint.iacr.org/2010/006.pdf is a PDF\n",
        "searching http://www.washingtonpost.com/world/national-security/nsa-seeks-to-build-quantum-computer-that-could-crack-most-types-of-encryption/2014/01/02/8fff297e-7195-11e3-8def-a33011492df2_story.html ..."
       ]
      },
      {
       "output_type": "stream",
       "stream": "stdout",
       "text": [
        "\n",
        "a post document! http://apps.washingtonpost.com/g/page/world/a-description-of-the-penetrating-hard-targets-project/691/"
       ]
      },
      {
       "output_type": "stream",
       "stream": "stdout",
       "text": [
        "\n",
        "a post document! http://apps.washingtonpost.com/g/page/world/a-description-of-the-penetrating-hard-targets-project/691/\n",
        "a post document! http://apps.washingtonpost.com/g/page/world/a-description-of-the-penetrating-hard-targets-project/691/\n",
        "a post document! http://apps.washingtonpost.com/g/page/world/a-description-of-the-penetrating-hard-targets-project/691/\n",
        "a post document! http://apps.washingtonpost.com/g/page/world/classifying-nsa-quantum-computing-efforts/692/\n",
        "a post document! http://apps.washingtonpost.com/g/page/world/classifying-nsa-quantum-computing-efforts/692/\n",
        "a post document! http://apps.washingtonpost.com/g/page/world/classifying-nsa-quantum-computing-efforts/692/\n",
        "http://eprint.iacr.org/2010/006.pdf is a PDF\n",
        "searching http://www.spiegel.de/international/world/nsa-secret-toolbox-ant-unit-offers-spy-gadgets-for-every-need-a-941006.html ..."
       ]
      },
      {
       "output_type": "stream",
       "stream": "stdout",
       "text": [
        "\n",
        "searching http://www.spiegel.de/international/world/nsa-secret-toolbox-ant-unit-offers-spy-gadgets-for-every-need-a-941006.html ..."
       ]
      },
      {
       "output_type": "stream",
       "stream": "stderr",
       "text": [
        "WARNING:root:Some characters could not be decoded, and were replaced with REPLACEMENT CHARACTER.\n"
       ]
      },
      {
       "output_type": "stream",
       "stream": "stdout",
       "text": [
        "\n",
        "searching http://cryptome.org/2013/12/nsa-catalog.zip ..."
       ]
      },
      {
       "output_type": "stream",
       "stream": "stdout",
       "text": [
        "\n",
        "searching http://www.spiegel.de/politik/deutschland/nsa-fdp-politiker-baum-fuer-eingreifen-des-generalbundesanwalts-a-941418.html ..."
       ]
      },
      {
       "output_type": "stream",
       "stream": "stdout",
       "text": [
        "\n",
        "searching http://www.spiegel.de/netzwelt/netzpolitik/quantumtheory-wie-die-nsa-weltweit-rechner-hackt-a-941149.html ..."
       ]
      },
      {
       "output_type": "stream",
       "stream": "stdout",
       "text": [
        "\n",
        "searching http://www.spiegel.de/international/world/the-nsa-uses-powerful-toolbox-in-effort-to-spy-on-global-networks-a-940969.html ..."
       ]
      },
      {
       "output_type": "stream",
       "stream": "stderr",
       "text": [
        "WARNING:root:Some characters could not be decoded, and were replaced with REPLACEMENT CHARACTER.\n"
       ]
      },
      {
       "output_type": "stream",
       "stream": "stdout",
       "text": [
        "\n",
        "searching http://cryptome.org/2013/12/nsa-tao-ant-pdf.pdf ..."
       ]
      },
      {
       "output_type": "stream",
       "stream": "stdout",
       "text": [
        "\n",
        "searching http://www.washingtonpost.com/world/national%20-security/edward-snowden-after-months-of-nsa-revelations-says-his-missions-accomplished/2013/12/23/49fc36de-6c1c-11e3-a523-fe73f0ff6b8d_story.html ..."
       ]
      },
      {
       "output_type": "stream",
       "stream": "stdout",
       "text": [
        "\n",
        "a post document! http://apps.washingtonpost.com/g/page/world/nsa-revelations-in-documents/734/"
       ]
      },
      {
       "output_type": "stream",
       "stream": "stdout",
       "text": [
        "\n",
        "a post document! http://apps.washingtonpost.com/g/page/world/nsa-revelations-in-documents/734/\n",
        "searching http://www.svt.se/ug/read-the-snowden-documents-from-the-nsa ..."
       ]
      },
      {
       "output_type": "stream",
       "stream": "stdout",
       "text": [
        "\n",
        "searching http://www.svt.se/ug/read-the-snowden-documents-from-the-nsa ..."
       ]
      },
      {
       "output_type": "stream",
       "stream": "stdout",
       "text": [
        "\n",
        "searching http://www.svt.se/ug/read-the-snowden-documents-from-the-nsa ..."
       ]
      },
      {
       "output_type": "stream",
       "stream": "stdout",
       "text": [
        "\n",
        "searching http://www.svt.se/ug/read-the-snowden-documents-from-the-nsa ..."
       ]
      },
      {
       "output_type": "stream",
       "stream": "stdout",
       "text": [
        "\n",
        "searching http://www.svt.se/ug/read-the-snowden-documents-from-the-nsa ..."
       ]
      },
      {
       "output_type": "stream",
       "stream": "stdout",
       "text": [
        "\n",
        "searching http://www.svt.se/ug/read-the-snowden-documents-from-the-nsa ..."
       ]
      },
      {
       "output_type": "stream",
       "stream": "stdout",
       "text": [
        "\n",
        "searching http://www.svt.se/ug/read-the-snowden-documents-from-the-nsa ..."
       ]
      },
      {
       "output_type": "stream",
       "stream": "stdout",
       "text": [
        "\n",
        "searching http://www.svt.se/ug/read-the-snowden-documents-from-the-nsa ..."
       ]
      },
      {
       "output_type": "stream",
       "stream": "stdout",
       "text": [
        "\n",
        "searching http://www.svt.se/ug/read-the-snowden-documents-from-the-nsa ..."
       ]
      },
      {
       "output_type": "stream",
       "stream": "stdout",
       "text": [
        "\n",
        "searching http://www.svt.se/ug/read-the-snowden-documents-from-the-nsa ..."
       ]
      },
      {
       "output_type": "stream",
       "stream": "stdout",
       "text": [
        "\n",
        "searching http://www.svt.se/ug/read-the-snowden-documents-from-the-nsa ..."
       ]
      },
      {
       "output_type": "stream",
       "stream": "stdout",
       "text": [
        "\n",
        "searching http://www.washingtonpost.com/blogs/the-switch/wp/2013/12/10/new-documents-show-how-the-nsa-infers-relationships-based-on-mobile-location-data/ ..."
       ]
      },
      {
       "output_type": "stream",
       "stream": "stdout",
       "text": [
        "\n",
        "https://www.troopers.de/wp-content/uploads/2011/10/TR12_TelcoSecDay_Langlois_Attacking_GRX.pdf is a PDF\n",
        "a post document! http://apps.washingtonpost.com/g/page/world/what-is-fascia/637/\n",
        "a post document! http://apps.washingtonpost.com/g/page/world/how-to-tell-if-a-target-is-foreign/635/\n",
        "a post document! http://apps.washingtonpost.com/g/page/world/how-the-nsa-verifies-a-targets-location/639/\n",
        "a post document! http://apps.washingtonpost.com/g/page/world/how-the-nsa-pinpoints-a-mobile-device/645/\n",
        "a post document! http://apps.washingtonpost.com/g/page/world/nsa-signal-surveillance-success-stories/647/\n",
        "a post document! http://apps.washingtonpost.com/g/page/world/what-is-fascia/637/\n",
        "a post document! http://apps.washingtonpost.com/g/page/world/ghostmachine-the-nsas-cloud-analytics-platform/644/\n",
        "a post document! http://apps.washingtonpost.com/g/page/world/how-the-nsa-verifies-a-targets-location/639/\n",
        "a post document! http://apps.washingtonpost.com/g/page/world/how-to-tell-if-a-target-is-foreign/635/\n",
        "searching http://www.washingtonpost.com/blogs/the-switch/wp/2013/12/10/new-documents-show-how-the-nsa-infers-relationships-based-on-mobile-location-data/ ..."
       ]
      },
      {
       "output_type": "stream",
       "stream": "stdout",
       "text": [
        "\n",
        "https://www.troopers.de/wp-content/uploads/2011/10/TR12_TelcoSecDay_Langlois_Attacking_GRX.pdf is a PDF"
       ]
      },
      {
       "output_type": "stream",
       "stream": "stdout",
       "text": [
        "\n",
        "a post document! http://apps.washingtonpost.com/g/page/world/what-is-fascia/637/\n",
        "a post document! http://apps.washingtonpost.com/g/page/world/how-to-tell-if-a-target-is-foreign/635/\n",
        "a post document! http://apps.washingtonpost.com/g/page/world/how-the-nsa-verifies-a-targets-location/639/\n",
        "a post document! http://apps.washingtonpost.com/g/page/world/how-the-nsa-pinpoints-a-mobile-device/645/\n",
        "a post document! http://apps.washingtonpost.com/g/page/world/nsa-signal-surveillance-success-stories/647/\n",
        "a post document! http://apps.washingtonpost.com/g/page/world/what-is-fascia/637/\n",
        "a post document! http://apps.washingtonpost.com/g/page/world/ghostmachine-the-nsas-cloud-analytics-platform/644/\n",
        "a post document! http://apps.washingtonpost.com/g/page/world/how-the-nsa-verifies-a-targets-location/639/\n",
        "a post document! http://apps.washingtonpost.com/g/page/world/how-to-tell-if-a-target-is-foreign/635/\n",
        "searching http://www.cbc.ca/news/politics/snowden-document-shows-canada-set-up-spy-posts-for-nsa-1.2456886 ..."
       ]
      },
      {
       "output_type": "stream",
       "stream": "stdout",
       "text": [
        "\n",
        "http://www.cbc.ca/news2/pdf/nsa-canada-april32013.pdf is a PDF\n",
        "http://www.cbc.ca/news2/pdf/nsa-canada-april32013.pdf is a PDF\n",
        "searching http://www.washingtonpost.com/blogs/the-switch/wp/2013/12/10/nsa-uses-google-cookies-to-pinpoint-targets-for-hacking/ ..."
       ]
      },
      {
       "output_type": "stream",
       "stream": "stdout",
       "text": [
        "\n",
        "a post document! http://apps.washingtonpost.com/g/page/national/nsa-signal-surveillance-success-stories/647/\n",
        "a post document! http://apps.washingtonpost.com/g/page/national/nsa-signal-surveillance-success-stories/647/\n",
        "a post document! http://apps.washingtonpost.com/g/page/national/nsa-signal-surveillance-success-stories/647/\n",
        "a post document! http://apps.washingtonpost.com/g/page/national/nsa-signal-surveillance-success-stories/647/\n",
        "a post document! http://apps.washingtonpost.com/g/page/national/nsa-signal-surveillance-success-stories/647/\n",
        "a post document! http://apps.washingtonpost.com/g/page/national/nsa-signal-surveillance-success-stories/647/\n",
        "searching http://www.washingtonpost.com/blogs/the-switch/wp/2013/12/10/new-documents-show-how-the-nsa-infers-relationships-based-on-mobile-location-data/ ..."
       ]
      },
      {
       "output_type": "stream",
       "stream": "stdout",
       "text": [
        "\n",
        "https://www.troopers.de/wp-content/uploads/2011/10/TR12_TelcoSecDay_Langlois_Attacking_GRX.pdf is a PDF\n",
        "a post document! http://apps.washingtonpost.com/g/page/world/what-is-fascia/637/\n",
        "a post document! http://apps.washingtonpost.com/g/page/world/how-to-tell-if-a-target-is-foreign/635/\n",
        "a post document! http://apps.washingtonpost.com/g/page/world/how-the-nsa-verifies-a-targets-location/639/\n",
        "a post document! http://apps.washingtonpost.com/g/page/world/how-the-nsa-pinpoints-a-mobile-device/645/\n",
        "a post document! http://apps.washingtonpost.com/g/page/world/nsa-signal-surveillance-success-stories/647/\n",
        "a post document! http://apps.washingtonpost.com/g/page/world/what-is-fascia/637/\n",
        "a post document! http://apps.washingtonpost.com/g/page/world/ghostmachine-the-nsas-cloud-analytics-platform/644/\n",
        "a post document! http://apps.washingtonpost.com/g/page/world/how-the-nsa-verifies-a-targets-location/639/\n",
        "a post document! http://apps.washingtonpost.com/g/page/world/how-to-tell-if-a-target-is-foreign/635/\n",
        "searching http://www.washingtonpost.com/blogs/the-switch/wp/2013/12/10/new-documents-show-how-the-nsa-infers-relationships-based-on-mobile-location-data/ ..."
       ]
      },
      {
       "output_type": "stream",
       "stream": "stdout",
       "text": [
        "\n",
        "https://www.troopers.de/wp-content/uploads/2011/10/TR12_TelcoSecDay_Langlois_Attacking_GRX.pdf is a PDF\n",
        "a post document! http://apps.washingtonpost.com/g/page/world/what-is-fascia/637/\n",
        "a post document! http://apps.washingtonpost.com/g/page/world/how-to-tell-if-a-target-is-foreign/635/\n",
        "a post document! http://apps.washingtonpost.com/g/page/world/how-the-nsa-verifies-a-targets-location/639/\n",
        "a post document! http://apps.washingtonpost.com/g/page/world/how-the-nsa-pinpoints-a-mobile-device/645/\n",
        "a post document! http://apps.washingtonpost.com/g/page/world/nsa-signal-surveillance-success-stories/647/\n",
        "a post document! http://apps.washingtonpost.com/g/page/world/what-is-fascia/637/\n",
        "a post document! http://apps.washingtonpost.com/g/page/world/ghostmachine-the-nsas-cloud-analytics-platform/644/\n",
        "a post document! http://apps.washingtonpost.com/g/page/world/how-the-nsa-verifies-a-targets-location/639/\n",
        "a post document! http://apps.washingtonpost.com/g/page/world/how-to-tell-if-a-target-is-foreign/635/\n",
        "searching http://www.nytimes.com/2013/12/10/world/spies-dragnet-reaches-a-playing-field-of-elves-and-trolls.html ..."
       ]
      },
      {
       "output_type": "stream",
       "stream": "stdout",
       "text": [
        "\n",
        "searching http://nsa.gov1.info/dni/ ..."
       ]
      },
      {
       "output_type": "stream",
       "stream": "stdout",
       "text": [
        "\n",
        "searching http://espresso.repubblica.it/inchieste/2013/12/05/news/revealed-how-the-nsa-targets-italy-1.144428 ..."
       ]
      },
      {
       "output_type": "stream",
       "stream": "stdout",
       "text": [
        "\n",
        "searching http://www.washingtonpost.com/world/national-security/nsa-tracking-cellphone-locations-worldwide-snowden-documents-show/2013/12/04/5492873a-5cf2-11e3-bc56-c6ca94801fac_story.html ..."
       ]
      },
      {
       "output_type": "stream",
       "stream": "stdout",
       "text": [
        "\n",
        "a post document! http://apps.washingtonpost.com/g/page/world/what-is-fascia/637/\n",
        "a post document! http://apps.washingtonpost.com/g/page/world/what-is-fascia/637/\n",
        "a post document! http://apps.washingtonpost.com/g/page/national/how-the-nsa-is-tracking-people-right-now/634/\n",
        "a post document! http://apps.washingtonpost.com/g/page/national/how-the-nsa-is-tracking-people-right-now/634/\n",
        "a post document! http://apps.washingtonpost.com/g/page/national/how-the-nsa-is-tracking-people-right-now/634/\n",
        "a post document! http://apps.washingtonpost.com/g/page/world/how-to-tell-if-a-target-is-foreign/635/\n",
        "a post document! http://apps.washingtonpost.com/g/page/national/how-the-nsa-is-tracking-people-right-now/634/\n",
        "a post document! http://apps.washingtonpost.com/g/page/national/how-the-nsa-is-tracking-people-right-now/634/\n",
        "a post document! http://apps.washingtonpost.com/g/page/world/how-to-tell-if-a-target-is-foreign/635/\n",
        "a post document! http://apps.washingtonpost.com/g/page/national/how-the-nsa-is-tracking-people-right-now/634/\n",
        "a post document! http://apps.washingtonpost.com/g/page/world/what-is-fascia/637/\n",
        "searching http://www.washingtonpost.com/world/national-security/nsa-tracking-cellphone-locations-worldwide-snowden-documents-show/2013/12/04/5492873a-5cf2-11e3-bc56-c6ca94801fac_story.html ..."
       ]
      },
      {
       "output_type": "stream",
       "stream": "stdout",
       "text": [
        "\n",
        "a post document! http://apps.washingtonpost.com/g/page/world/what-is-fascia/637/\n",
        "a post document! http://apps.washingtonpost.com/g/page/world/what-is-fascia/637/\n",
        "a post document! http://apps.washingtonpost.com/g/page/national/how-the-nsa-is-tracking-people-right-now/634/\n",
        "a post document! http://apps.washingtonpost.com/g/page/national/how-the-nsa-is-tracking-people-right-now/634/\n",
        "a post document! http://apps.washingtonpost.com/g/page/national/how-the-nsa-is-tracking-people-right-now/634/\n",
        "a post document! http://apps.washingtonpost.com/g/page/world/how-to-tell-if-a-target-is-foreign/635/\n",
        "a post document! http://apps.washingtonpost.com/g/page/national/how-the-nsa-is-tracking-people-right-now/634/\n",
        "a post document! http://apps.washingtonpost.com/g/page/national/how-the-nsa-is-tracking-people-right-now/634/\n",
        "a post document! http://apps.washingtonpost.com/g/page/world/how-to-tell-if-a-target-is-foreign/635/\n",
        "a post document! http://apps.washingtonpost.com/g/page/national/how-the-nsa-is-tracking-people-right-now/634/\n",
        "a post document! http://apps.washingtonpost.com/g/page/world/what-is-fascia/637/\n",
        "searching http://www.cbc.ca/news/politics/new-snowden-docs-show-u-s-spied-during-g20-in-toronto-1.2442448 ..."
       ]
      },
      {
       "output_type": "stream",
       "stream": "stdout",
       "text": [
        "\n",
        "searching http://www.theguardian.com/world/2013/dec/02/revealed-australian-spy-agency-offered-to-share-data-about-ordinary-citizens ..."
       ]
      },
      {
       "output_type": "stream",
       "stream": "stdout",
       "text": [
        "\n",
        "searching http://www.scribd.com/doc/188094600/CSEC-Presentation ..."
       ]
      },
      {
       "output_type": "stream",
       "stream": "stdout",
       "text": [
        "\n",
        "searching http://issuu.com/pimvandendool/docs/document03?e=7781744/5822935 ..."
       ]
      },
      {
       "output_type": "stream",
       "stream": "stdout",
       "text": [
        "\n",
        "searching http://www.washingtonpost.com/business/technology/microsoft-suspecting-nsa-spying-to-ramp-up-efforts-to-encrypt-its-internet-traffic/2013/11/26/44236b48-56a9-11e3-8304-caf30787c0a9_story.html ..."
       ]
      },
      {
       "output_type": "stream",
       "stream": "stdout",
       "text": [
        "\n",
        "a post document! http://apps.washingtonpost.com/g/page/world/hints-of-microsofts-vulnerability/621/"
       ]
      },
      {
       "output_type": "stream",
       "stream": "stdout",
       "text": [
        "\n",
        "a post document! http://apps.washingtonpost.com/g/page/world/did-the-nsa-target-microsoft-too/620/\n",
        "a post document! http://apps.washingtonpost.com/g/page/national/the-nsa-is-hacking-private-networks/542/\n",
        "a post document! http://apps.washingtonpost.com/g/page/national/the-nsa-is-hacking-private-networks/542/\n",
        "a post document! http://apps.washingtonpost.com/g/page/world/did-the-nsa-target-microsoft-too/620/\n",
        "a post document! http://apps.washingtonpost.com/g/page/national/the-nsa-is-hacking-private-networks/542/\n",
        "a post document! http://apps.washingtonpost.com/g/page/world/did-the-nsa-target-microsoft-too/620/\n",
        "a post document! http://apps.washingtonpost.com/g/page/world/evidence-of-microsofts-vulnerability/621/\n",
        "searching http://www.washingtonpost.com/business/technology/microsoft-suspecting-nsa-spying-to-ramp-up-efforts-to-encrypt-its-internet-traffic/2013/11/26/44236b48-56a9-11e3-8304-caf30787c0a9_story.html ..."
       ]
      },
      {
       "output_type": "stream",
       "stream": "stdout",
       "text": [
        "\n",
        "a post document! http://apps.washingtonpost.com/g/page/world/hints-of-microsofts-vulnerability/621/"
       ]
      },
      {
       "output_type": "stream",
       "stream": "stdout",
       "text": [
        "\n",
        "a post document! http://apps.washingtonpost.com/g/page/world/did-the-nsa-target-microsoft-too/620/\n",
        "a post document! http://apps.washingtonpost.com/g/page/national/the-nsa-is-hacking-private-networks/542/\n",
        "a post document! http://apps.washingtonpost.com/g/page/national/the-nsa-is-hacking-private-networks/542/\n",
        "a post document! http://apps.washingtonpost.com/g/page/world/did-the-nsa-target-microsoft-too/620/\n",
        "a post document! http://apps.washingtonpost.com/g/page/national/the-nsa-is-hacking-private-networks/542/\n",
        "a post document! http://apps.washingtonpost.com/g/page/world/did-the-nsa-target-microsoft-too/620/\n",
        "a post document! http://apps.washingtonpost.com/g/page/world/evidence-of-microsofts-vulnerability/621/\n",
        "searching http://www.huffingtonpost.com/2013/11/26/nsa-porn-muslims_n_4346128.html?utm_hp_ref=tw#slide=3074349 ..."
       ]
      },
      {
       "output_type": "stream",
       "stream": "stdout",
       "text": [
        "\n",
        "searching http://www.nytimes.com/2013/11/23/us/politics/nsa-report-outlined-goals-for-more-power.html ..."
       ]
      },
      {
       "output_type": "stream",
       "stream": "stdout",
       "text": [
        "\n",
        "searching http://www.nrc.nl/nieuws/2013/11/23/nsa-infected-50000-computer-networks-with-malicious-software/ ..."
       ]
      },
      {
       "output_type": "stream",
       "stream": "stdout",
       "text": [
        "\n",
        "searching http://www.dagbladet.no/2013/11/22/nyheter/edward_snowden/utenriks/usa/nsa/30444117/ ..."
       ]
      },
      {
       "output_type": "stream",
       "stream": "stdout",
       "text": [
        "\n",
        "http://www.dagbladet.no/avishuset/pdf/aarsrapport2007.pdf is a PDF"
       ]
      },
      {
       "output_type": "stream",
       "stream": "stdout",
       "text": [
        "\n",
        "http://www.dagbladet.no/f/pdfombound.pdf is a PDF\n",
        "searching http://www.dagbladet.no/2013/11/22/nyheter/edward_snowden/utenriks/usa/nsa/30444117/ ..."
       ]
      },
      {
       "output_type": "stream",
       "stream": "stdout",
       "text": [
        "\n",
        "http://www.dagbladet.no/avishuset/pdf/aarsrapport2007.pdf is a PDF\n",
        "http://www.dagbladet.no/f/pdfombound.pdf is a PDF\n",
        "searching http://www.dagbladet.no/2013/11/22/nyheter/edward_snowden/utenriks/usa/nsa/30444117/ ..."
       ]
      },
      {
       "output_type": "stream",
       "stream": "stdout",
       "text": [
        "\n",
        "http://www.dagbladet.no/avishuset/pdf/aarsrapport2007.pdf is a PDF"
       ]
      },
      {
       "output_type": "stream",
       "stream": "stdout",
       "text": [
        "\n",
        "http://www.dagbladet.no/f/pdfombound.pdf is a PDF\n",
        "searching http://www.theguardian.com/world/2013/nov/20/us-uk-secret-deal-surveillance-personal-data ..."
       ]
      },
      {
       "output_type": "stream",
       "stream": "stdout",
       "text": [
        "\n",
        "searching http://icontherecord.tumblr.com/post/67419963949/dni-clapper-declassifies-additional-intelligence ..."
       ]
      },
      {
       "output_type": "stream",
       "stream": "stdout",
       "text": [
        "\n",
        "http://www.dni.gov/files/documents/1118/CLEANED085.%20Report%20to%20Congress%20April%2006.pdf is a PDF\n",
        "http://www.dni.gov/files/documents/1118/CLEANED086.%20Report%20to%20Congress%20April%2007.pdf is a PDF\n",
        "http://www.dni.gov/files/documents/1118/CLEANED087.%20Report%20to%20Congress%20April%2008.pdf is a PDF\n",
        "http://www.dni.gov/files/documents/1118/CLEANED088.%20Report%20to%20Congress%20Pursu...hority%20May%2009%29%20-%20Redacted.pdf is a PDF\n",
        "http://www.dni.gov/files/documents/1118/CLEANED089.%20Report%20to%20Congress%20April%2010.pdf is a PDF\n",
        "http://www.dni.gov/files/documents/1118/CLEANED090.%20Report%20to%20Congress%20Pursu...thority%20April%2011%20Redacted.pdf is a PDF\n",
        "http://www.dni.gov/files/documents/1118/CLEANED091.%20Report%20to%20Congress%20April%2012.pdf is a PDF\n",
        "http://www.dni.gov/files/documents/1118/CLEANED007.%20CongNotificationInfoMemoSSCI%2010%20Apr%2009-Sealedpdf.pdf is a PDF\n",
        "http://www.dni.gov/files/documents/1118/CLEANED004.%20Cover%20Memo-Sealed.pdf is a PDF\n",
        "http://www.dni.gov/files/documents/1118/CLEANED010.%20RFI%20Response_SSCI%20Gottte...es%201%20December%202010-Sealed.pdf is a PDF\n",
        "http://www.dni.gov/files/documents/1118/CLEANED016.%20REDACTED%20BR%2006-05%20Exhibits%20C%20%28Memo%20of%20Law%29%20and%20D-Sealed.pdf is a PDF\n",
        "http://www.dni.gov/files/documents/1118/CLEANED86M%20FBI%20and%20AG%20Testimony.pdf is a PDF\n",
        "http://www.dni.gov/files/documents/1118/CLEANEDPRTT%201.pdf is a PDF\n",
        "http://www.dni.gov/files/documents/1118/CLEANEDPRTT%202.pdf is a PDF\n",
        "http://www.dni.gov/files/documents/1118/CLEANED101.%20Order%20and%20Supplemental%20Order%20%286-22-09%29-sealed.pdf is a PDF\n",
        "http://www.dni.gov/files/documents/1118/CLEANED045.%20NSA%2045-Day%20Report.pdf is a PDF\n",
        "http://www.dni.gov/files/documents/1118/CLEANED031.%20August%202006%20Report.pdf is a PDF\n",
        "http://www.dni.gov/files/documents/1118/CLEANED042.%20%20FISC%20briefing%20on%20BR%20%281%20Sept%202009%29-Sealed.pdf is a PDF\n",
        "http://www.dni.gov/files/documents/1118/CLEANED95.pdf is a PDF\n",
        "http://www.dni.gov/files/documents/1118/CLEANED034.%20BR%2009-01%2010%28c%29%20Notice%20Filed%205-8-09%29-Sealed.pdf is a PDF\n",
        "http://www.dni.gov/files/documents/1118/CLEANED089.T.BR%2006-05%20Motions%20and%20Or...Unseal%2016AUGU-1-17-Sealed.pdf is a PDF\n",
        "http://www.dni.gov/files/documents/1118/CLEANEDFinal%20USSID%20SP0018%20Annex%20J.pdf is a PDF\n",
        "http://www.dni.gov/files/documents/1118/CLEANEDFinal%20USSID%20SP0018.pdf is a PDF\n",
        "http://www.dni.gov/files/documents/1118/CLEANED020.%20Verification%20Requirement.pdf is a PDF\n",
        "http://www.dni.gov/files/documents/1118/CLEANED096.%20NSA%20summary%20of%20BR%20requirements%20%28maybe%20Feb%202009%29-.pdf is a PDF\n",
        "http://www.dni.gov/files/documents/1118/CLEANED032.%20Basket%202%20-%20NSA%20training.log.pdf is a PDF\n",
        "http://www.dni.gov/files/documents/1118/CLEANED044.%20Interim%20Competency%20Test%20...s%20to%20BR%20FISA%20Data..pdf is a PDF\n",
        "http://www.dni.gov/files/documents/1118/CLEANED049.%20%20OVSC1204%20v1OGCAprl15.pdf is a PDF\n",
        "http://www.dni.gov/files/documents/1118/CLEANED021.extracts.%20Minimization%20Pr...cted%20from%20file%20021-Sealed.pdf is a PDF\n",
        "http://www.dni.gov/files/documents/1118/CLEANED019.%20NSA%20OGC%20Training%20Materia...d%20to%20OI%20on%202-20-09.pdf is a PDF\n",
        "http://www.dni.gov/files/documents/1118/CLEANED116%20AG%20Guidelines.pdf is a PDF\n",
        "http://www.dni.gov/files/documents/1118/CLEANED022.%20NSA%20Core%20Intelligence%20Oversight%20Training.pdf is a PDF\n",
        "http://www.dni.gov/files/documents/1118/CLEANEDOVSC1205_1206_L0_storyboard_v13_Final.pdf is a PDF\n",
        "http://www.dni.gov/files/documents/1118/CLEANEDOVSC1205_L1_storyboard_v17_Final.pdf is a PDF\n",
        "http://www.dni.gov/files/documents/1118/CLEANEDOVSC1205_L2_storyboard_v16_Final.pdf is a PDF\n",
        "http://www.dni.gov/files/documents/1118/CLEANEDOVSC1205_L3_storyboard_v22_Final.pdf is a PDF\n",
        "http://www.dni.gov/files/documents/1118/CLEANEDOVSC1205_L4_storyboard_v28_Final.pdf is a PDF\n",
        "http://www.dni.gov/files/documents/1118/CLEANEDOVSC1205_L5_storyboard_v24_Final.pdf is a PDF\n",
        "http://www.dni.gov/files/documents/1118/CLEANEDOVSC1205_L6A_storyboard_v18_Final-Sealed.pdf is a PDF\n",
        "http://www.dni.gov/files/documents/1118/CLEANEDOVSC1206_M6T_storyboard_v25_Final.pdf is a PDF\n",
        "searching http://icontherecord.tumblr.com/post/67419963949/dni-clapper-declassifies-additional-intelligence ..."
       ]
      },
      {
       "output_type": "stream",
       "stream": "stdout",
       "text": [
        "\n",
        "http://www.dni.gov/files/documents/1118/CLEANED085.%20Report%20to%20Congress%20April%2006.pdf is a PDF\n",
        "http://www.dni.gov/files/documents/1118/CLEANED086.%20Report%20to%20Congress%20April%2007.pdf is a PDF\n",
        "http://www.dni.gov/files/documents/1118/CLEANED087.%20Report%20to%20Congress%20April%2008.pdf is a PDF\n",
        "http://www.dni.gov/files/documents/1118/CLEANED088.%20Report%20to%20Congress%20Pursu...hority%20May%2009%29%20-%20Redacted.pdf is a PDF\n",
        "http://www.dni.gov/files/documents/1118/CLEANED089.%20Report%20to%20Congress%20April%2010.pdf is a PDF\n",
        "http://www.dni.gov/files/documents/1118/CLEANED090.%20Report%20to%20Congress%20Pursu...thority%20April%2011%20Redacted.pdf is a PDF\n",
        "http://www.dni.gov/files/documents/1118/CLEANED091.%20Report%20to%20Congress%20April%2012.pdf is a PDF\n",
        "http://www.dni.gov/files/documents/1118/CLEANED007.%20CongNotificationInfoMemoSSCI%2010%20Apr%2009-Sealedpdf.pdf is a PDF\n",
        "http://www.dni.gov/files/documents/1118/CLEANED004.%20Cover%20Memo-Sealed.pdf is a PDF\n",
        "http://www.dni.gov/files/documents/1118/CLEANED010.%20RFI%20Response_SSCI%20Gottte...es%201%20December%202010-Sealed.pdf is a PDF\n",
        "http://www.dni.gov/files/documents/1118/CLEANED016.%20REDACTED%20BR%2006-05%20Exhibits%20C%20%28Memo%20of%20Law%29%20and%20D-Sealed.pdf is a PDF\n",
        "http://www.dni.gov/files/documents/1118/CLEANED86M%20FBI%20and%20AG%20Testimony.pdf is a PDF\n",
        "http://www.dni.gov/files/documents/1118/CLEANEDPRTT%201.pdf is a PDF\n",
        "http://www.dni.gov/files/documents/1118/CLEANEDPRTT%202.pdf is a PDF\n",
        "http://www.dni.gov/files/documents/1118/CLEANED101.%20Order%20and%20Supplemental%20Order%20%286-22-09%29-sealed.pdf is a PDF\n",
        "http://www.dni.gov/files/documents/1118/CLEANED045.%20NSA%2045-Day%20Report.pdf is a PDF\n",
        "http://www.dni.gov/files/documents/1118/CLEANED031.%20August%202006%20Report.pdf is a PDF\n",
        "http://www.dni.gov/files/documents/1118/CLEANED042.%20%20FISC%20briefing%20on%20BR%20%281%20Sept%202009%29-Sealed.pdf is a PDF\n",
        "http://www.dni.gov/files/documents/1118/CLEANED95.pdf is a PDF\n",
        "http://www.dni.gov/files/documents/1118/CLEANED034.%20BR%2009-01%2010%28c%29%20Notice%20Filed%205-8-09%29-Sealed.pdf is a PDF\n",
        "http://www.dni.gov/files/documents/1118/CLEANED089.T.BR%2006-05%20Motions%20and%20Or...Unseal%2016AUGU-1-17-Sealed.pdf is a PDF\n",
        "http://www.dni.gov/files/documents/1118/CLEANEDFinal%20USSID%20SP0018%20Annex%20J.pdf is a PDF\n",
        "http://www.dni.gov/files/documents/1118/CLEANEDFinal%20USSID%20SP0018.pdf is a PDF\n",
        "http://www.dni.gov/files/documents/1118/CLEANED020.%20Verification%20Requirement.pdf is a PDF\n",
        "http://www.dni.gov/files/documents/1118/CLEANED096.%20NSA%20summary%20of%20BR%20requirements%20%28maybe%20Feb%202009%29-.pdf is a PDF\n",
        "http://www.dni.gov/files/documents/1118/CLEANED032.%20Basket%202%20-%20NSA%20training.log.pdf is a PDF\n",
        "http://www.dni.gov/files/documents/1118/CLEANED044.%20Interim%20Competency%20Test%20...s%20to%20BR%20FISA%20Data..pdf is a PDF\n",
        "http://www.dni.gov/files/documents/1118/CLEANED049.%20%20OVSC1204%20v1OGCAprl15.pdf is a PDF\n",
        "http://www.dni.gov/files/documents/1118/CLEANED021.extracts.%20Minimization%20Pr...cted%20from%20file%20021-Sealed.pdf is a PDF\n",
        "http://www.dni.gov/files/documents/1118/CLEANED019.%20NSA%20OGC%20Training%20Materia...d%20to%20OI%20on%202-20-09.pdf is a PDF\n",
        "http://www.dni.gov/files/documents/1118/CLEANED116%20AG%20Guidelines.pdf is a PDF\n",
        "http://www.dni.gov/files/documents/1118/CLEANED022.%20NSA%20Core%20Intelligence%20Oversight%20Training.pdf is a PDF\n",
        "http://www.dni.gov/files/documents/1118/CLEANEDOVSC1205_1206_L0_storyboard_v13_Final.pdf is a PDF\n",
        "http://www.dni.gov/files/documents/1118/CLEANEDOVSC1205_L1_storyboard_v17_Final.pdf is a PDF\n",
        "http://www.dni.gov/files/documents/1118/CLEANEDOVSC1205_L2_storyboard_v16_Final.pdf is a PDF\n",
        "http://www.dni.gov/files/documents/1118/CLEANEDOVSC1205_L3_storyboard_v22_Final.pdf is a PDF\n",
        "http://www.dni.gov/files/documents/1118/CLEANEDOVSC1205_L4_storyboard_v28_Final.pdf is a PDF\n",
        "http://www.dni.gov/files/documents/1118/CLEANEDOVSC1205_L5_storyboard_v24_Final.pdf is a PDF\n",
        "http://www.dni.gov/files/documents/1118/CLEANEDOVSC1205_L6A_storyboard_v18_Final-Sealed.pdf is a PDF\n",
        "http://www.dni.gov/files/documents/1118/CLEANEDOVSC1206_M6T_storyboard_v25_Final.pdf is a PDF\n",
        "searching http://icontherecord.tumblr.com/post/67419963949/dni-clapper-declassifies-additional-intelligence ..."
       ]
      },
      {
       "output_type": "stream",
       "stream": "stdout",
       "text": [
        "\n",
        "http://www.dni.gov/files/documents/1118/CLEANED085.%20Report%20to%20Congress%20April%2006.pdf is a PDF\n",
        "http://www.dni.gov/files/documents/1118/CLEANED086.%20Report%20to%20Congress%20April%2007.pdf is a PDF\n",
        "http://www.dni.gov/files/documents/1118/CLEANED087.%20Report%20to%20Congress%20April%2008.pdf is a PDF\n",
        "http://www.dni.gov/files/documents/1118/CLEANED088.%20Report%20to%20Congress%20Pursu...hority%20May%2009%29%20-%20Redacted.pdf is a PDF\n",
        "http://www.dni.gov/files/documents/1118/CLEANED089.%20Report%20to%20Congress%20April%2010.pdf is a PDF\n",
        "http://www.dni.gov/files/documents/1118/CLEANED090.%20Report%20to%20Congress%20Pursu...thority%20April%2011%20Redacted.pdf is a PDF\n",
        "http://www.dni.gov/files/documents/1118/CLEANED091.%20Report%20to%20Congress%20April%2012.pdf is a PDF\n",
        "http://www.dni.gov/files/documents/1118/CLEANED007.%20CongNotificationInfoMemoSSCI%2010%20Apr%2009-Sealedpdf.pdf is a PDF\n",
        "http://www.dni.gov/files/documents/1118/CLEANED004.%20Cover%20Memo-Sealed.pdf is a PDF\n",
        "http://www.dni.gov/files/documents/1118/CLEANED010.%20RFI%20Response_SSCI%20Gottte...es%201%20December%202010-Sealed.pdf is a PDF\n",
        "http://www.dni.gov/files/documents/1118/CLEANED016.%20REDACTED%20BR%2006-05%20Exhibits%20C%20%28Memo%20of%20Law%29%20and%20D-Sealed.pdf is a PDF\n",
        "http://www.dni.gov/files/documents/1118/CLEANED86M%20FBI%20and%20AG%20Testimony.pdf is a PDF\n",
        "http://www.dni.gov/files/documents/1118/CLEANEDPRTT%201.pdf is a PDF\n",
        "http://www.dni.gov/files/documents/1118/CLEANEDPRTT%202.pdf is a PDF\n",
        "http://www.dni.gov/files/documents/1118/CLEANED101.%20Order%20and%20Supplemental%20Order%20%286-22-09%29-sealed.pdf is a PDF\n",
        "http://www.dni.gov/files/documents/1118/CLEANED045.%20NSA%2045-Day%20Report.pdf is a PDF\n",
        "http://www.dni.gov/files/documents/1118/CLEANED031.%20August%202006%20Report.pdf is a PDF\n",
        "http://www.dni.gov/files/documents/1118/CLEANED042.%20%20FISC%20briefing%20on%20BR%20%281%20Sept%202009%29-Sealed.pdf is a PDF\n",
        "http://www.dni.gov/files/documents/1118/CLEANED95.pdf is a PDF\n",
        "http://www.dni.gov/files/documents/1118/CLEANED034.%20BR%2009-01%2010%28c%29%20Notice%20Filed%205-8-09%29-Sealed.pdf is a PDF\n",
        "http://www.dni.gov/files/documents/1118/CLEANED089.T.BR%2006-05%20Motions%20and%20Or...Unseal%2016AUGU-1-17-Sealed.pdf is a PDF\n",
        "http://www.dni.gov/files/documents/1118/CLEANEDFinal%20USSID%20SP0018%20Annex%20J.pdf is a PDF\n",
        "http://www.dni.gov/files/documents/1118/CLEANEDFinal%20USSID%20SP0018.pdf is a PDF\n",
        "http://www.dni.gov/files/documents/1118/CLEANED020.%20Verification%20Requirement.pdf is a PDF\n",
        "http://www.dni.gov/files/documents/1118/CLEANED096.%20NSA%20summary%20of%20BR%20requirements%20%28maybe%20Feb%202009%29-.pdf is a PDF\n",
        "http://www.dni.gov/files/documents/1118/CLEANED032.%20Basket%202%20-%20NSA%20training.log.pdf is a PDF\n",
        "http://www.dni.gov/files/documents/1118/CLEANED044.%20Interim%20Competency%20Test%20...s%20to%20BR%20FISA%20Data..pdf is a PDF\n",
        "http://www.dni.gov/files/documents/1118/CLEANED049.%20%20OVSC1204%20v1OGCAprl15.pdf is a PDF\n",
        "http://www.dni.gov/files/documents/1118/CLEANED021.extracts.%20Minimization%20Pr...cted%20from%20file%20021-Sealed.pdf is a PDF\n",
        "http://www.dni.gov/files/documents/1118/CLEANED019.%20NSA%20OGC%20Training%20Materia...d%20to%20OI%20on%202-20-09.pdf is a PDF\n",
        "http://www.dni.gov/files/documents/1118/CLEANED116%20AG%20Guidelines.pdf is a PDF\n",
        "http://www.dni.gov/files/documents/1118/CLEANED022.%20NSA%20Core%20Intelligence%20Oversight%20Training.pdf is a PDF\n",
        "http://www.dni.gov/files/documents/1118/CLEANEDOVSC1205_1206_L0_storyboard_v13_Final.pdf is a PDF\n",
        "http://www.dni.gov/files/documents/1118/CLEANEDOVSC1205_L1_storyboard_v17_Final.pdf is a PDF\n",
        "http://www.dni.gov/files/documents/1118/CLEANEDOVSC1205_L2_storyboard_v16_Final.pdf is a PDF\n",
        "http://www.dni.gov/files/documents/1118/CLEANEDOVSC1205_L3_storyboard_v22_Final.pdf is a PDF\n",
        "http://www.dni.gov/files/documents/1118/CLEANEDOVSC1205_L4_storyboard_v28_Final.pdf is a PDF\n",
        "http://www.dni.gov/files/documents/1118/CLEANEDOVSC1205_L5_storyboard_v24_Final.pdf is a PDF\n",
        "http://www.dni.gov/files/documents/1118/CLEANEDOVSC1205_L6A_storyboard_v18_Final-Sealed.pdf is a PDF\n",
        "http://www.dni.gov/files/documents/1118/CLEANEDOVSC1206_M6T_storyboard_v25_Final.pdf is a PDF\n",
        "searching http://icontherecord.tumblr.com/post/67419963949/dni-clapper-declassifies-additional-intelligence ..."
       ]
      },
      {
       "output_type": "stream",
       "stream": "stdout",
       "text": [
        "\n",
        "http://www.dni.gov/files/documents/1118/CLEANED085.%20Report%20to%20Congress%20April%2006.pdf is a PDF\n",
        "http://www.dni.gov/files/documents/1118/CLEANED086.%20Report%20to%20Congress%20April%2007.pdf is a PDF\n",
        "http://www.dni.gov/files/documents/1118/CLEANED087.%20Report%20to%20Congress%20April%2008.pdf is a PDF\n",
        "http://www.dni.gov/files/documents/1118/CLEANED088.%20Report%20to%20Congress%20Pursu...hority%20May%2009%29%20-%20Redacted.pdf is a PDF\n",
        "http://www.dni.gov/files/documents/1118/CLEANED089.%20Report%20to%20Congress%20April%2010.pdf is a PDF\n",
        "http://www.dni.gov/files/documents/1118/CLEANED090.%20Report%20to%20Congress%20Pursu...thority%20April%2011%20Redacted.pdf is a PDF\n",
        "http://www.dni.gov/files/documents/1118/CLEANED091.%20Report%20to%20Congress%20April%2012.pdf is a PDF\n",
        "http://www.dni.gov/files/documents/1118/CLEANED007.%20CongNotificationInfoMemoSSCI%2010%20Apr%2009-Sealedpdf.pdf is a PDF\n",
        "http://www.dni.gov/files/documents/1118/CLEANED004.%20Cover%20Memo-Sealed.pdf is a PDF\n",
        "http://www.dni.gov/files/documents/1118/CLEANED010.%20RFI%20Response_SSCI%20Gottte...es%201%20December%202010-Sealed.pdf is a PDF\n",
        "http://www.dni.gov/files/documents/1118/CLEANED016.%20REDACTED%20BR%2006-05%20Exhibits%20C%20%28Memo%20of%20Law%29%20and%20D-Sealed.pdf is a PDF\n",
        "http://www.dni.gov/files/documents/1118/CLEANED86M%20FBI%20and%20AG%20Testimony.pdf is a PDF\n",
        "http://www.dni.gov/files/documents/1118/CLEANEDPRTT%201.pdf is a PDF\n",
        "http://www.dni.gov/files/documents/1118/CLEANEDPRTT%202.pdf is a PDF\n",
        "http://www.dni.gov/files/documents/1118/CLEANED101.%20Order%20and%20Supplemental%20Order%20%286-22-09%29-sealed.pdf is a PDF\n",
        "http://www.dni.gov/files/documents/1118/CLEANED045.%20NSA%2045-Day%20Report.pdf is a PDF\n",
        "http://www.dni.gov/files/documents/1118/CLEANED031.%20August%202006%20Report.pdf is a PDF\n",
        "http://www.dni.gov/files/documents/1118/CLEANED042.%20%20FISC%20briefing%20on%20BR%20%281%20Sept%202009%29-Sealed.pdf is a PDF\n",
        "http://www.dni.gov/files/documents/1118/CLEANED95.pdf is a PDF\n",
        "http://www.dni.gov/files/documents/1118/CLEANED034.%20BR%2009-01%2010%28c%29%20Notice%20Filed%205-8-09%29-Sealed.pdf is a PDF\n",
        "http://www.dni.gov/files/documents/1118/CLEANED089.T.BR%2006-05%20Motions%20and%20Or...Unseal%2016AUGU-1-17-Sealed.pdf is a PDF\n",
        "http://www.dni.gov/files/documents/1118/CLEANEDFinal%20USSID%20SP0018%20Annex%20J.pdf is a PDF\n",
        "http://www.dni.gov/files/documents/1118/CLEANEDFinal%20USSID%20SP0018.pdf is a PDF\n",
        "http://www.dni.gov/files/documents/1118/CLEANED020.%20Verification%20Requirement.pdf is a PDF\n",
        "http://www.dni.gov/files/documents/1118/CLEANED096.%20NSA%20summary%20of%20BR%20requirements%20%28maybe%20Feb%202009%29-.pdf is a PDF\n",
        "http://www.dni.gov/files/documents/1118/CLEANED032.%20Basket%202%20-%20NSA%20training.log.pdf is a PDF\n",
        "http://www.dni.gov/files/documents/1118/CLEANED044.%20Interim%20Competency%20Test%20...s%20to%20BR%20FISA%20Data..pdf is a PDF\n",
        "http://www.dni.gov/files/documents/1118/CLEANED049.%20%20OVSC1204%20v1OGCAprl15.pdf is a PDF\n",
        "http://www.dni.gov/files/documents/1118/CLEANED021.extracts.%20Minimization%20Pr...cted%20from%20file%20021-Sealed.pdf is a PDF\n",
        "http://www.dni.gov/files/documents/1118/CLEANED019.%20NSA%20OGC%20Training%20Materia...d%20to%20OI%20on%202-20-09.pdf is a PDF\n",
        "http://www.dni.gov/files/documents/1118/CLEANED116%20AG%20Guidelines.pdf is a PDF\n",
        "http://www.dni.gov/files/documents/1118/CLEANED022.%20NSA%20Core%20Intelligence%20Oversight%20Training.pdf is a PDF\n",
        "http://www.dni.gov/files/documents/1118/CLEANEDOVSC1205_1206_L0_storyboard_v13_Final.pdf is a PDF\n",
        "http://www.dni.gov/files/documents/1118/CLEANEDOVSC1205_L1_storyboard_v17_Final.pdf is a PDF\n",
        "http://www.dni.gov/files/documents/1118/CLEANEDOVSC1205_L2_storyboard_v16_Final.pdf is a PDF\n",
        "http://www.dni.gov/files/documents/1118/CLEANEDOVSC1205_L3_storyboard_v22_Final.pdf is a PDF\n",
        "http://www.dni.gov/files/documents/1118/CLEANEDOVSC1205_L4_storyboard_v28_Final.pdf is a PDF\n",
        "http://www.dni.gov/files/documents/1118/CLEANEDOVSC1205_L5_storyboard_v24_Final.pdf is a PDF\n",
        "http://www.dni.gov/files/documents/1118/CLEANEDOVSC1205_L6A_storyboard_v18_Final-Sealed.pdf is a PDF\n",
        "http://www.dni.gov/files/documents/1118/CLEANEDOVSC1206_M6T_storyboard_v25_Final.pdf is a PDF\n",
        "searching http://icontherecord.tumblr.com/post/67419963949/dni-clapper-declassifies-additional-intelligence ..."
       ]
      },
      {
       "output_type": "stream",
       "stream": "stdout",
       "text": [
        "\n",
        "http://www.dni.gov/files/documents/1118/CLEANED085.%20Report%20to%20Congress%20April%2006.pdf is a PDF\n",
        "http://www.dni.gov/files/documents/1118/CLEANED086.%20Report%20to%20Congress%20April%2007.pdf is a PDF\n",
        "http://www.dni.gov/files/documents/1118/CLEANED087.%20Report%20to%20Congress%20April%2008.pdf is a PDF\n",
        "http://www.dni.gov/files/documents/1118/CLEANED088.%20Report%20to%20Congress%20Pursu...hority%20May%2009%29%20-%20Redacted.pdf is a PDF\n",
        "http://www.dni.gov/files/documents/1118/CLEANED089.%20Report%20to%20Congress%20April%2010.pdf is a PDF\n",
        "http://www.dni.gov/files/documents/1118/CLEANED090.%20Report%20to%20Congress%20Pursu...thority%20April%2011%20Redacted.pdf is a PDF\n",
        "http://www.dni.gov/files/documents/1118/CLEANED091.%20Report%20to%20Congress%20April%2012.pdf is a PDF\n",
        "http://www.dni.gov/files/documents/1118/CLEANED007.%20CongNotificationInfoMemoSSCI%2010%20Apr%2009-Sealedpdf.pdf is a PDF\n",
        "http://www.dni.gov/files/documents/1118/CLEANED004.%20Cover%20Memo-Sealed.pdf is a PDF\n",
        "http://www.dni.gov/files/documents/1118/CLEANED010.%20RFI%20Response_SSCI%20Gottte...es%201%20December%202010-Sealed.pdf is a PDF\n",
        "http://www.dni.gov/files/documents/1118/CLEANED016.%20REDACTED%20BR%2006-05%20Exhibits%20C%20%28Memo%20of%20Law%29%20and%20D-Sealed.pdf is a PDF\n",
        "http://www.dni.gov/files/documents/1118/CLEANED86M%20FBI%20and%20AG%20Testimony.pdf is a PDF\n",
        "http://www.dni.gov/files/documents/1118/CLEANEDPRTT%201.pdf is a PDF\n",
        "http://www.dni.gov/files/documents/1118/CLEANEDPRTT%202.pdf is a PDF\n",
        "http://www.dni.gov/files/documents/1118/CLEANED101.%20Order%20and%20Supplemental%20Order%20%286-22-09%29-sealed.pdf is a PDF\n",
        "http://www.dni.gov/files/documents/1118/CLEANED045.%20NSA%2045-Day%20Report.pdf is a PDF\n",
        "http://www.dni.gov/files/documents/1118/CLEANED031.%20August%202006%20Report.pdf is a PDF\n",
        "http://www.dni.gov/files/documents/1118/CLEANED042.%20%20FISC%20briefing%20on%20BR%20%281%20Sept%202009%29-Sealed.pdf is a PDF\n",
        "http://www.dni.gov/files/documents/1118/CLEANED95.pdf is a PDF\n",
        "http://www.dni.gov/files/documents/1118/CLEANED034.%20BR%2009-01%2010%28c%29%20Notice%20Filed%205-8-09%29-Sealed.pdf is a PDF\n",
        "http://www.dni.gov/files/documents/1118/CLEANED089.T.BR%2006-05%20Motions%20and%20Or...Unseal%2016AUGU-1-17-Sealed.pdf is a PDF\n",
        "http://www.dni.gov/files/documents/1118/CLEANEDFinal%20USSID%20SP0018%20Annex%20J.pdf is a PDF\n",
        "http://www.dni.gov/files/documents/1118/CLEANEDFinal%20USSID%20SP0018.pdf is a PDF\n",
        "http://www.dni.gov/files/documents/1118/CLEANED020.%20Verification%20Requirement.pdf is a PDF\n",
        "http://www.dni.gov/files/documents/1118/CLEANED096.%20NSA%20summary%20of%20BR%20requirements%20%28maybe%20Feb%202009%29-.pdf is a PDF\n",
        "http://www.dni.gov/files/documents/1118/CLEANED032.%20Basket%202%20-%20NSA%20training.log.pdf is a PDF\n",
        "http://www.dni.gov/files/documents/1118/CLEANED044.%20Interim%20Competency%20Test%20...s%20to%20BR%20FISA%20Data..pdf is a PDF\n",
        "http://www.dni.gov/files/documents/1118/CLEANED049.%20%20OVSC1204%20v1OGCAprl15.pdf is a PDF\n",
        "http://www.dni.gov/files/documents/1118/CLEANED021.extracts.%20Minimization%20Pr...cted%20from%20file%20021-Sealed.pdf is a PDF\n",
        "http://www.dni.gov/files/documents/1118/CLEANED019.%20NSA%20OGC%20Training%20Materia...d%20to%20OI%20on%202-20-09.pdf is a PDF\n",
        "http://www.dni.gov/files/documents/1118/CLEANED116%20AG%20Guidelines.pdf is a PDF\n",
        "http://www.dni.gov/files/documents/1118/CLEANED022.%20NSA%20Core%20Intelligence%20Oversight%20Training.pdf is a PDF\n",
        "http://www.dni.gov/files/documents/1118/CLEANEDOVSC1205_1206_L0_storyboard_v13_Final.pdf is a PDF\n",
        "http://www.dni.gov/files/documents/1118/CLEANEDOVSC1205_L1_storyboard_v17_Final.pdf is a PDF\n",
        "http://www.dni.gov/files/documents/1118/CLEANEDOVSC1205_L2_storyboard_v16_Final.pdf is a PDF\n",
        "http://www.dni.gov/files/documents/1118/CLEANEDOVSC1205_L3_storyboard_v22_Final.pdf is a PDF\n",
        "http://www.dni.gov/files/documents/1118/CLEANEDOVSC1205_L4_storyboard_v28_Final.pdf is a PDF\n",
        "http://www.dni.gov/files/documents/1118/CLEANEDOVSC1205_L5_storyboard_v24_Final.pdf is a PDF\n",
        "http://www.dni.gov/files/documents/1118/CLEANEDOVSC1205_L6A_storyboard_v18_Final-Sealed.pdf is a PDF\n",
        "http://www.dni.gov/files/documents/1118/CLEANEDOVSC1206_M6T_storyboard_v25_Final.pdf is a PDF\n",
        "searching http://icontherecord.tumblr.com/post/67419963949/dni-clapper-declassifies-additional-intelligence ..."
       ]
      },
      {
       "output_type": "stream",
       "stream": "stdout",
       "text": [
        "\n",
        "http://www.dni.gov/files/documents/1118/CLEANED085.%20Report%20to%20Congress%20April%2006.pdf is a PDF\n",
        "http://www.dni.gov/files/documents/1118/CLEANED086.%20Report%20to%20Congress%20April%2007.pdf is a PDF\n",
        "http://www.dni.gov/files/documents/1118/CLEANED087.%20Report%20to%20Congress%20April%2008.pdf is a PDF\n",
        "http://www.dni.gov/files/documents/1118/CLEANED088.%20Report%20to%20Congress%20Pursu...hority%20May%2009%29%20-%20Redacted.pdf is a PDF\n",
        "http://www.dni.gov/files/documents/1118/CLEANED089.%20Report%20to%20Congress%20April%2010.pdf is a PDF\n",
        "http://www.dni.gov/files/documents/1118/CLEANED090.%20Report%20to%20Congress%20Pursu...thority%20April%2011%20Redacted.pdf is a PDF\n",
        "http://www.dni.gov/files/documents/1118/CLEANED091.%20Report%20to%20Congress%20April%2012.pdf is a PDF\n",
        "http://www.dni.gov/files/documents/1118/CLEANED007.%20CongNotificationInfoMemoSSCI%2010%20Apr%2009-Sealedpdf.pdf is a PDF\n",
        "http://www.dni.gov/files/documents/1118/CLEANED004.%20Cover%20Memo-Sealed.pdf is a PDF\n",
        "http://www.dni.gov/files/documents/1118/CLEANED010.%20RFI%20Response_SSCI%20Gottte...es%201%20December%202010-Sealed.pdf is a PDF\n",
        "http://www.dni.gov/files/documents/1118/CLEANED016.%20REDACTED%20BR%2006-05%20Exhibits%20C%20%28Memo%20of%20Law%29%20and%20D-Sealed.pdf is a PDF\n",
        "http://www.dni.gov/files/documents/1118/CLEANED86M%20FBI%20and%20AG%20Testimony.pdf is a PDF\n",
        "http://www.dni.gov/files/documents/1118/CLEANEDPRTT%201.pdf is a PDF\n",
        "http://www.dni.gov/files/documents/1118/CLEANEDPRTT%202.pdf is a PDF\n",
        "http://www.dni.gov/files/documents/1118/CLEANED101.%20Order%20and%20Supplemental%20Order%20%286-22-09%29-sealed.pdf is a PDF\n",
        "http://www.dni.gov/files/documents/1118/CLEANED045.%20NSA%2045-Day%20Report.pdf is a PDF\n",
        "http://www.dni.gov/files/documents/1118/CLEANED031.%20August%202006%20Report.pdf is a PDF\n",
        "http://www.dni.gov/files/documents/1118/CLEANED042.%20%20FISC%20briefing%20on%20BR%20%281%20Sept%202009%29-Sealed.pdf is a PDF\n",
        "http://www.dni.gov/files/documents/1118/CLEANED95.pdf is a PDF\n",
        "http://www.dni.gov/files/documents/1118/CLEANED034.%20BR%2009-01%2010%28c%29%20Notice%20Filed%205-8-09%29-Sealed.pdf is a PDF\n",
        "http://www.dni.gov/files/documents/1118/CLEANED089.T.BR%2006-05%20Motions%20and%20Or...Unseal%2016AUGU-1-17-Sealed.pdf is a PDF\n",
        "http://www.dni.gov/files/documents/1118/CLEANEDFinal%20USSID%20SP0018%20Annex%20J.pdf is a PDF\n",
        "http://www.dni.gov/files/documents/1118/CLEANEDFinal%20USSID%20SP0018.pdf is a PDF\n",
        "http://www.dni.gov/files/documents/1118/CLEANED020.%20Verification%20Requirement.pdf is a PDF\n",
        "http://www.dni.gov/files/documents/1118/CLEANED096.%20NSA%20summary%20of%20BR%20requirements%20%28maybe%20Feb%202009%29-.pdf is a PDF\n",
        "http://www.dni.gov/files/documents/1118/CLEANED032.%20Basket%202%20-%20NSA%20training.log.pdf is a PDF\n",
        "http://www.dni.gov/files/documents/1118/CLEANED044.%20Interim%20Competency%20Test%20...s%20to%20BR%20FISA%20Data..pdf is a PDF\n",
        "http://www.dni.gov/files/documents/1118/CLEANED049.%20%20OVSC1204%20v1OGCAprl15.pdf is a PDF\n",
        "http://www.dni.gov/files/documents/1118/CLEANED021.extracts.%20Minimization%20Pr...cted%20from%20file%20021-Sealed.pdf is a PDF\n",
        "http://www.dni.gov/files/documents/1118/CLEANED019.%20NSA%20OGC%20Training%20Materia...d%20to%20OI%20on%202-20-09.pdf is a PDF\n",
        "http://www.dni.gov/files/documents/1118/CLEANED116%20AG%20Guidelines.pdf is a PDF\n",
        "http://www.dni.gov/files/documents/1118/CLEANED022.%20NSA%20Core%20Intelligence%20Oversight%20Training.pdf is a PDF\n",
        "http://www.dni.gov/files/documents/1118/CLEANEDOVSC1205_1206_L0_storyboard_v13_Final.pdf is a PDF\n",
        "http://www.dni.gov/files/documents/1118/CLEANEDOVSC1205_L1_storyboard_v17_Final.pdf is a PDF\n",
        "http://www.dni.gov/files/documents/1118/CLEANEDOVSC1205_L2_storyboard_v16_Final.pdf is a PDF\n",
        "http://www.dni.gov/files/documents/1118/CLEANEDOVSC1205_L3_storyboard_v22_Final.pdf is a PDF\n",
        "http://www.dni.gov/files/documents/1118/CLEANEDOVSC1205_L4_storyboard_v28_Final.pdf is a PDF\n",
        "http://www.dni.gov/files/documents/1118/CLEANEDOVSC1205_L5_storyboard_v24_Final.pdf is a PDF\n",
        "http://www.dni.gov/files/documents/1118/CLEANEDOVSC1205_L6A_storyboard_v18_Final-Sealed.pdf is a PDF\n",
        "http://www.dni.gov/files/documents/1118/CLEANEDOVSC1206_M6T_storyboard_v25_Final.pdf is a PDF\n",
        "searching http://icontherecord.tumblr.com/post/67419963949/dni-clapper-declassifies-additional-intelligence ..."
       ]
      },
      {
       "output_type": "stream",
       "stream": "stdout",
       "text": [
        "\n",
        "http://www.dni.gov/files/documents/1118/CLEANED085.%20Report%20to%20Congress%20April%2006.pdf is a PDF\n",
        "http://www.dni.gov/files/documents/1118/CLEANED086.%20Report%20to%20Congress%20April%2007.pdf is a PDF\n",
        "http://www.dni.gov/files/documents/1118/CLEANED087.%20Report%20to%20Congress%20April%2008.pdf is a PDF\n",
        "http://www.dni.gov/files/documents/1118/CLEANED088.%20Report%20to%20Congress%20Pursu...hority%20May%2009%29%20-%20Redacted.pdf is a PDF\n",
        "http://www.dni.gov/files/documents/1118/CLEANED089.%20Report%20to%20Congress%20April%2010.pdf is a PDF\n",
        "http://www.dni.gov/files/documents/1118/CLEANED090.%20Report%20to%20Congress%20Pursu...thority%20April%2011%20Redacted.pdf is a PDF\n",
        "http://www.dni.gov/files/documents/1118/CLEANED091.%20Report%20to%20Congress%20April%2012.pdf is a PDF\n",
        "http://www.dni.gov/files/documents/1118/CLEANED007.%20CongNotificationInfoMemoSSCI%2010%20Apr%2009-Sealedpdf.pdf is a PDF\n",
        "http://www.dni.gov/files/documents/1118/CLEANED004.%20Cover%20Memo-Sealed.pdf is a PDF\n",
        "http://www.dni.gov/files/documents/1118/CLEANED010.%20RFI%20Response_SSCI%20Gottte...es%201%20December%202010-Sealed.pdf is a PDF\n",
        "http://www.dni.gov/files/documents/1118/CLEANED016.%20REDACTED%20BR%2006-05%20Exhibits%20C%20%28Memo%20of%20Law%29%20and%20D-Sealed.pdf is a PDF\n",
        "http://www.dni.gov/files/documents/1118/CLEANED86M%20FBI%20and%20AG%20Testimony.pdf is a PDF\n",
        "http://www.dni.gov/files/documents/1118/CLEANEDPRTT%201.pdf is a PDF\n",
        "http://www.dni.gov/files/documents/1118/CLEANEDPRTT%202.pdf is a PDF\n",
        "http://www.dni.gov/files/documents/1118/CLEANED101.%20Order%20and%20Supplemental%20Order%20%286-22-09%29-sealed.pdf is a PDF\n",
        "http://www.dni.gov/files/documents/1118/CLEANED045.%20NSA%2045-Day%20Report.pdf is a PDF\n",
        "http://www.dni.gov/files/documents/1118/CLEANED031.%20August%202006%20Report.pdf is a PDF\n",
        "http://www.dni.gov/files/documents/1118/CLEANED042.%20%20FISC%20briefing%20on%20BR%20%281%20Sept%202009%29-Sealed.pdf is a PDF\n",
        "http://www.dni.gov/files/documents/1118/CLEANED95.pdf is a PDF\n",
        "http://www.dni.gov/files/documents/1118/CLEANED034.%20BR%2009-01%2010%28c%29%20Notice%20Filed%205-8-09%29-Sealed.pdf is a PDF\n",
        "http://www.dni.gov/files/documents/1118/CLEANED089.T.BR%2006-05%20Motions%20and%20Or...Unseal%2016AUGU-1-17-Sealed.pdf is a PDF\n",
        "http://www.dni.gov/files/documents/1118/CLEANEDFinal%20USSID%20SP0018%20Annex%20J.pdf is a PDF\n",
        "http://www.dni.gov/files/documents/1118/CLEANEDFinal%20USSID%20SP0018.pdf is a PDF\n",
        "http://www.dni.gov/files/documents/1118/CLEANED020.%20Verification%20Requirement.pdf is a PDF\n",
        "http://www.dni.gov/files/documents/1118/CLEANED096.%20NSA%20summary%20of%20BR%20requirements%20%28maybe%20Feb%202009%29-.pdf is a PDF\n",
        "http://www.dni.gov/files/documents/1118/CLEANED032.%20Basket%202%20-%20NSA%20training.log.pdf is a PDF\n",
        "http://www.dni.gov/files/documents/1118/CLEANED044.%20Interim%20Competency%20Test%20...s%20to%20BR%20FISA%20Data..pdf is a PDF\n",
        "http://www.dni.gov/files/documents/1118/CLEANED049.%20%20OVSC1204%20v1OGCAprl15.pdf is a PDF\n",
        "http://www.dni.gov/files/documents/1118/CLEANED021.extracts.%20Minimization%20Pr...cted%20from%20file%20021-Sealed.pdf is a PDF\n",
        "http://www.dni.gov/files/documents/1118/CLEANED019.%20NSA%20OGC%20Training%20Materia...d%20to%20OI%20on%202-20-09.pdf is a PDF\n",
        "http://www.dni.gov/files/documents/1118/CLEANED116%20AG%20Guidelines.pdf is a PDF\n",
        "http://www.dni.gov/files/documents/1118/CLEANED022.%20NSA%20Core%20Intelligence%20Oversight%20Training.pdf is a PDF\n",
        "http://www.dni.gov/files/documents/1118/CLEANEDOVSC1205_1206_L0_storyboard_v13_Final.pdf is a PDF\n",
        "http://www.dni.gov/files/documents/1118/CLEANEDOVSC1205_L1_storyboard_v17_Final.pdf is a PDF\n",
        "http://www.dni.gov/files/documents/1118/CLEANEDOVSC1205_L2_storyboard_v16_Final.pdf is a PDF\n",
        "http://www.dni.gov/files/documents/1118/CLEANEDOVSC1205_L3_storyboard_v22_Final.pdf is a PDF\n",
        "http://www.dni.gov/files/documents/1118/CLEANEDOVSC1205_L4_storyboard_v28_Final.pdf is a PDF\n",
        "http://www.dni.gov/files/documents/1118/CLEANEDOVSC1205_L5_storyboard_v24_Final.pdf is a PDF\n",
        "http://www.dni.gov/files/documents/1118/CLEANEDOVSC1205_L6A_storyboard_v18_Final-Sealed.pdf is a PDF\n",
        "http://www.dni.gov/files/documents/1118/CLEANEDOVSC1206_M6T_storyboard_v25_Final.pdf is a PDF\n",
        "searching http://icontherecord.tumblr.com/post/67419963949/dni-clapper-declassifies-additional-intelligence ..."
       ]
      },
      {
       "output_type": "stream",
       "stream": "stdout",
       "text": [
        "\n",
        "http://www.dni.gov/files/documents/1118/CLEANED085.%20Report%20to%20Congress%20April%2006.pdf is a PDF\n",
        "http://www.dni.gov/files/documents/1118/CLEANED086.%20Report%20to%20Congress%20April%2007.pdf is a PDF\n",
        "http://www.dni.gov/files/documents/1118/CLEANED087.%20Report%20to%20Congress%20April%2008.pdf is a PDF\n",
        "http://www.dni.gov/files/documents/1118/CLEANED088.%20Report%20to%20Congress%20Pursu...hority%20May%2009%29%20-%20Redacted.pdf is a PDF\n",
        "http://www.dni.gov/files/documents/1118/CLEANED089.%20Report%20to%20Congress%20April%2010.pdf is a PDF\n",
        "http://www.dni.gov/files/documents/1118/CLEANED090.%20Report%20to%20Congress%20Pursu...thority%20April%2011%20Redacted.pdf is a PDF\n",
        "http://www.dni.gov/files/documents/1118/CLEANED091.%20Report%20to%20Congress%20April%2012.pdf is a PDF\n",
        "http://www.dni.gov/files/documents/1118/CLEANED007.%20CongNotificationInfoMemoSSCI%2010%20Apr%2009-Sealedpdf.pdf is a PDF\n",
        "http://www.dni.gov/files/documents/1118/CLEANED004.%20Cover%20Memo-Sealed.pdf is a PDF\n",
        "http://www.dni.gov/files/documents/1118/CLEANED010.%20RFI%20Response_SSCI%20Gottte...es%201%20December%202010-Sealed.pdf is a PDF\n",
        "http://www.dni.gov/files/documents/1118/CLEANED016.%20REDACTED%20BR%2006-05%20Exhibits%20C%20%28Memo%20of%20Law%29%20and%20D-Sealed.pdf is a PDF\n",
        "http://www.dni.gov/files/documents/1118/CLEANED86M%20FBI%20and%20AG%20Testimony.pdf is a PDF\n",
        "http://www.dni.gov/files/documents/1118/CLEANEDPRTT%201.pdf is a PDF\n",
        "http://www.dni.gov/files/documents/1118/CLEANEDPRTT%202.pdf is a PDF\n",
        "http://www.dni.gov/files/documents/1118/CLEANED101.%20Order%20and%20Supplemental%20Order%20%286-22-09%29-sealed.pdf is a PDF\n",
        "http://www.dni.gov/files/documents/1118/CLEANED045.%20NSA%2045-Day%20Report.pdf is a PDF\n",
        "http://www.dni.gov/files/documents/1118/CLEANED031.%20August%202006%20Report.pdf is a PDF\n",
        "http://www.dni.gov/files/documents/1118/CLEANED042.%20%20FISC%20briefing%20on%20BR%20%281%20Sept%202009%29-Sealed.pdf is a PDF\n",
        "http://www.dni.gov/files/documents/1118/CLEANED95.pdf is a PDF\n",
        "http://www.dni.gov/files/documents/1118/CLEANED034.%20BR%2009-01%2010%28c%29%20Notice%20Filed%205-8-09%29-Sealed.pdf is a PDF\n",
        "http://www.dni.gov/files/documents/1118/CLEANED089.T.BR%2006-05%20Motions%20and%20Or...Unseal%2016AUGU-1-17-Sealed.pdf is a PDF\n",
        "http://www.dni.gov/files/documents/1118/CLEANEDFinal%20USSID%20SP0018%20Annex%20J.pdf is a PDF\n",
        "http://www.dni.gov/files/documents/1118/CLEANEDFinal%20USSID%20SP0018.pdf is a PDF\n",
        "http://www.dni.gov/files/documents/1118/CLEANED020.%20Verification%20Requirement.pdf is a PDF\n",
        "http://www.dni.gov/files/documents/1118/CLEANED096.%20NSA%20summary%20of%20BR%20requirements%20%28maybe%20Feb%202009%29-.pdf is a PDF\n",
        "http://www.dni.gov/files/documents/1118/CLEANED032.%20Basket%202%20-%20NSA%20training.log.pdf is a PDF\n",
        "http://www.dni.gov/files/documents/1118/CLEANED044.%20Interim%20Competency%20Test%20...s%20to%20BR%20FISA%20Data..pdf is a PDF\n",
        "http://www.dni.gov/files/documents/1118/CLEANED049.%20%20OVSC1204%20v1OGCAprl15.pdf is a PDF\n",
        "http://www.dni.gov/files/documents/1118/CLEANED021.extracts.%20Minimization%20Pr...cted%20from%20file%20021-Sealed.pdf is a PDF\n",
        "http://www.dni.gov/files/documents/1118/CLEANED019.%20NSA%20OGC%20Training%20Materia...d%20to%20OI%20on%202-20-09.pdf is a PDF\n",
        "http://www.dni.gov/files/documents/1118/CLEANED116%20AG%20Guidelines.pdf is a PDF\n",
        "http://www.dni.gov/files/documents/1118/CLEANED022.%20NSA%20Core%20Intelligence%20Oversight%20Training.pdf is a PDF\n",
        "http://www.dni.gov/files/documents/1118/CLEANEDOVSC1205_1206_L0_storyboard_v13_Final.pdf is a PDF\n",
        "http://www.dni.gov/files/documents/1118/CLEANEDOVSC1205_L1_storyboard_v17_Final.pdf is a PDF\n",
        "http://www.dni.gov/files/documents/1118/CLEANEDOVSC1205_L2_storyboard_v16_Final.pdf is a PDF\n",
        "http://www.dni.gov/files/documents/1118/CLEANEDOVSC1205_L3_storyboard_v22_Final.pdf is a PDF\n",
        "http://www.dni.gov/files/documents/1118/CLEANEDOVSC1205_L4_storyboard_v28_Final.pdf is a PDF\n",
        "http://www.dni.gov/files/documents/1118/CLEANEDOVSC1205_L5_storyboard_v24_Final.pdf is a PDF\n",
        "http://www.dni.gov/files/documents/1118/CLEANEDOVSC1205_L6A_storyboard_v18_Final-Sealed.pdf is a PDF\n",
        "http://www.dni.gov/files/documents/1118/CLEANEDOVSC1206_M6T_storyboard_v25_Final.pdf is a PDF\n",
        "searching http://icontherecord.tumblr.com/post/67419963949/dni-clapper-declassifies-additional-intelligence ..."
       ]
      },
      {
       "output_type": "stream",
       "stream": "stdout",
       "text": [
        "\n",
        "http://www.dni.gov/files/documents/1118/CLEANED085.%20Report%20to%20Congress%20April%2006.pdf is a PDF\n",
        "http://www.dni.gov/files/documents/1118/CLEANED086.%20Report%20to%20Congress%20April%2007.pdf is a PDF\n",
        "http://www.dni.gov/files/documents/1118/CLEANED087.%20Report%20to%20Congress%20April%2008.pdf is a PDF\n",
        "http://www.dni.gov/files/documents/1118/CLEANED088.%20Report%20to%20Congress%20Pursu...hority%20May%2009%29%20-%20Redacted.pdf is a PDF\n",
        "http://www.dni.gov/files/documents/1118/CLEANED089.%20Report%20to%20Congress%20April%2010.pdf is a PDF\n",
        "http://www.dni.gov/files/documents/1118/CLEANED090.%20Report%20to%20Congress%20Pursu...thority%20April%2011%20Redacted.pdf is a PDF\n",
        "http://www.dni.gov/files/documents/1118/CLEANED091.%20Report%20to%20Congress%20April%2012.pdf is a PDF\n",
        "http://www.dni.gov/files/documents/1118/CLEANED007.%20CongNotificationInfoMemoSSCI%2010%20Apr%2009-Sealedpdf.pdf is a PDF\n",
        "http://www.dni.gov/files/documents/1118/CLEANED004.%20Cover%20Memo-Sealed.pdf is a PDF\n",
        "http://www.dni.gov/files/documents/1118/CLEANED010.%20RFI%20Response_SSCI%20Gottte...es%201%20December%202010-Sealed.pdf is a PDF\n",
        "http://www.dni.gov/files/documents/1118/CLEANED016.%20REDACTED%20BR%2006-05%20Exhibits%20C%20%28Memo%20of%20Law%29%20and%20D-Sealed.pdf is a PDF\n",
        "http://www.dni.gov/files/documents/1118/CLEANED86M%20FBI%20and%20AG%20Testimony.pdf is a PDF\n",
        "http://www.dni.gov/files/documents/1118/CLEANEDPRTT%201.pdf is a PDF\n",
        "http://www.dni.gov/files/documents/1118/CLEANEDPRTT%202.pdf is a PDF\n",
        "http://www.dni.gov/files/documents/1118/CLEANED101.%20Order%20and%20Supplemental%20Order%20%286-22-09%29-sealed.pdf is a PDF\n",
        "http://www.dni.gov/files/documents/1118/CLEANED045.%20NSA%2045-Day%20Report.pdf is a PDF\n",
        "http://www.dni.gov/files/documents/1118/CLEANED031.%20August%202006%20Report.pdf is a PDF\n",
        "http://www.dni.gov/files/documents/1118/CLEANED042.%20%20FISC%20briefing%20on%20BR%20%281%20Sept%202009%29-Sealed.pdf is a PDF\n",
        "http://www.dni.gov/files/documents/1118/CLEANED95.pdf is a PDF\n",
        "http://www.dni.gov/files/documents/1118/CLEANED034.%20BR%2009-01%2010%28c%29%20Notice%20Filed%205-8-09%29-Sealed.pdf is a PDF\n",
        "http://www.dni.gov/files/documents/1118/CLEANED089.T.BR%2006-05%20Motions%20and%20Or...Unseal%2016AUGU-1-17-Sealed.pdf is a PDF\n",
        "http://www.dni.gov/files/documents/1118/CLEANEDFinal%20USSID%20SP0018%20Annex%20J.pdf is a PDF\n",
        "http://www.dni.gov/files/documents/1118/CLEANEDFinal%20USSID%20SP0018.pdf is a PDF\n",
        "http://www.dni.gov/files/documents/1118/CLEANED020.%20Verification%20Requirement.pdf is a PDF\n",
        "http://www.dni.gov/files/documents/1118/CLEANED096.%20NSA%20summary%20of%20BR%20requirements%20%28maybe%20Feb%202009%29-.pdf is a PDF\n",
        "http://www.dni.gov/files/documents/1118/CLEANED032.%20Basket%202%20-%20NSA%20training.log.pdf is a PDF\n",
        "http://www.dni.gov/files/documents/1118/CLEANED044.%20Interim%20Competency%20Test%20...s%20to%20BR%20FISA%20Data..pdf is a PDF\n",
        "http://www.dni.gov/files/documents/1118/CLEANED049.%20%20OVSC1204%20v1OGCAprl15.pdf is a PDF\n",
        "http://www.dni.gov/files/documents/1118/CLEANED021.extracts.%20Minimization%20Pr...cted%20from%20file%20021-Sealed.pdf is a PDF\n",
        "http://www.dni.gov/files/documents/1118/CLEANED019.%20NSA%20OGC%20Training%20Materia...d%20to%20OI%20on%202-20-09.pdf is a PDF\n",
        "http://www.dni.gov/files/documents/1118/CLEANED116%20AG%20Guidelines.pdf is a PDF\n",
        "http://www.dni.gov/files/documents/1118/CLEANED022.%20NSA%20Core%20Intelligence%20Oversight%20Training.pdf is a PDF\n",
        "http://www.dni.gov/files/documents/1118/CLEANEDOVSC1205_1206_L0_storyboard_v13_Final.pdf is a PDF\n",
        "http://www.dni.gov/files/documents/1118/CLEANEDOVSC1205_L1_storyboard_v17_Final.pdf is a PDF\n",
        "http://www.dni.gov/files/documents/1118/CLEANEDOVSC1205_L2_storyboard_v16_Final.pdf is a PDF\n",
        "http://www.dni.gov/files/documents/1118/CLEANEDOVSC1205_L3_storyboard_v22_Final.pdf is a PDF\n",
        "http://www.dni.gov/files/documents/1118/CLEANEDOVSC1205_L4_storyboard_v28_Final.pdf is a PDF\n",
        "http://www.dni.gov/files/documents/1118/CLEANEDOVSC1205_L5_storyboard_v24_Final.pdf is a PDF\n",
        "http://www.dni.gov/files/documents/1118/CLEANEDOVSC1205_L6A_storyboard_v18_Final-Sealed.pdf is a PDF\n",
        "http://www.dni.gov/files/documents/1118/CLEANEDOVSC1206_M6T_storyboard_v25_Final.pdf is a PDF\n",
        "searching http://icontherecord.tumblr.com/post/67419963949/dni-clapper-declassifies-additional-intelligence ..."
       ]
      },
      {
       "output_type": "stream",
       "stream": "stdout",
       "text": [
        "\n",
        "http://www.dni.gov/files/documents/1118/CLEANED085.%20Report%20to%20Congress%20April%2006.pdf is a PDF\n",
        "http://www.dni.gov/files/documents/1118/CLEANED086.%20Report%20to%20Congress%20April%2007.pdf is a PDF\n",
        "http://www.dni.gov/files/documents/1118/CLEANED087.%20Report%20to%20Congress%20April%2008.pdf is a PDF\n",
        "http://www.dni.gov/files/documents/1118/CLEANED088.%20Report%20to%20Congress%20Pursu...hority%20May%2009%29%20-%20Redacted.pdf is a PDF\n",
        "http://www.dni.gov/files/documents/1118/CLEANED089.%20Report%20to%20Congress%20April%2010.pdf is a PDF\n",
        "http://www.dni.gov/files/documents/1118/CLEANED090.%20Report%20to%20Congress%20Pursu...thority%20April%2011%20Redacted.pdf is a PDF\n",
        "http://www.dni.gov/files/documents/1118/CLEANED091.%20Report%20to%20Congress%20April%2012.pdf is a PDF\n",
        "http://www.dni.gov/files/documents/1118/CLEANED007.%20CongNotificationInfoMemoSSCI%2010%20Apr%2009-Sealedpdf.pdf is a PDF\n",
        "http://www.dni.gov/files/documents/1118/CLEANED004.%20Cover%20Memo-Sealed.pdf is a PDF\n",
        "http://www.dni.gov/files/documents/1118/CLEANED010.%20RFI%20Response_SSCI%20Gottte...es%201%20December%202010-Sealed.pdf is a PDF\n",
        "http://www.dni.gov/files/documents/1118/CLEANED016.%20REDACTED%20BR%2006-05%20Exhibits%20C%20%28Memo%20of%20Law%29%20and%20D-Sealed.pdf is a PDF\n",
        "http://www.dni.gov/files/documents/1118/CLEANED86M%20FBI%20and%20AG%20Testimony.pdf is a PDF\n",
        "http://www.dni.gov/files/documents/1118/CLEANEDPRTT%201.pdf is a PDF\n",
        "http://www.dni.gov/files/documents/1118/CLEANEDPRTT%202.pdf is a PDF\n",
        "http://www.dni.gov/files/documents/1118/CLEANED101.%20Order%20and%20Supplemental%20Order%20%286-22-09%29-sealed.pdf is a PDF\n",
        "http://www.dni.gov/files/documents/1118/CLEANED045.%20NSA%2045-Day%20Report.pdf is a PDF\n",
        "http://www.dni.gov/files/documents/1118/CLEANED031.%20August%202006%20Report.pdf is a PDF\n",
        "http://www.dni.gov/files/documents/1118/CLEANED042.%20%20FISC%20briefing%20on%20BR%20%281%20Sept%202009%29-Sealed.pdf is a PDF\n",
        "http://www.dni.gov/files/documents/1118/CLEANED95.pdf is a PDF\n",
        "http://www.dni.gov/files/documents/1118/CLEANED034.%20BR%2009-01%2010%28c%29%20Notice%20Filed%205-8-09%29-Sealed.pdf is a PDF\n",
        "http://www.dni.gov/files/documents/1118/CLEANED089.T.BR%2006-05%20Motions%20and%20Or...Unseal%2016AUGU-1-17-Sealed.pdf is a PDF\n",
        "http://www.dni.gov/files/documents/1118/CLEANEDFinal%20USSID%20SP0018%20Annex%20J.pdf is a PDF\n",
        "http://www.dni.gov/files/documents/1118/CLEANEDFinal%20USSID%20SP0018.pdf is a PDF\n",
        "http://www.dni.gov/files/documents/1118/CLEANED020.%20Verification%20Requirement.pdf is a PDF\n",
        "http://www.dni.gov/files/documents/1118/CLEANED096.%20NSA%20summary%20of%20BR%20requirements%20%28maybe%20Feb%202009%29-.pdf is a PDF\n",
        "http://www.dni.gov/files/documents/1118/CLEANED032.%20Basket%202%20-%20NSA%20training.log.pdf is a PDF\n",
        "http://www.dni.gov/files/documents/1118/CLEANED044.%20Interim%20Competency%20Test%20...s%20to%20BR%20FISA%20Data..pdf is a PDF\n",
        "http://www.dni.gov/files/documents/1118/CLEANED049.%20%20OVSC1204%20v1OGCAprl15.pdf is a PDF\n",
        "http://www.dni.gov/files/documents/1118/CLEANED021.extracts.%20Minimization%20Pr...cted%20from%20file%20021-Sealed.pdf is a PDF\n",
        "http://www.dni.gov/files/documents/1118/CLEANED019.%20NSA%20OGC%20Training%20Materia...d%20to%20OI%20on%202-20-09.pdf is a PDF\n",
        "http://www.dni.gov/files/documents/1118/CLEANED116%20AG%20Guidelines.pdf is a PDF\n",
        "http://www.dni.gov/files/documents/1118/CLEANED022.%20NSA%20Core%20Intelligence%20Oversight%20Training.pdf is a PDF\n",
        "http://www.dni.gov/files/documents/1118/CLEANEDOVSC1205_1206_L0_storyboard_v13_Final.pdf is a PDF\n",
        "http://www.dni.gov/files/documents/1118/CLEANEDOVSC1205_L1_storyboard_v17_Final.pdf is a PDF\n",
        "http://www.dni.gov/files/documents/1118/CLEANEDOVSC1205_L2_storyboard_v16_Final.pdf is a PDF\n",
        "http://www.dni.gov/files/documents/1118/CLEANEDOVSC1205_L3_storyboard_v22_Final.pdf is a PDF\n",
        "http://www.dni.gov/files/documents/1118/CLEANEDOVSC1205_L4_storyboard_v28_Final.pdf is a PDF\n",
        "http://www.dni.gov/files/documents/1118/CLEANEDOVSC1205_L5_storyboard_v24_Final.pdf is a PDF\n",
        "http://www.dni.gov/files/documents/1118/CLEANEDOVSC1205_L6A_storyboard_v18_Final-Sealed.pdf is a PDF\n",
        "http://www.dni.gov/files/documents/1118/CLEANEDOVSC1206_M6T_storyboard_v25_Final.pdf is a PDF\n",
        "searching http://icontherecord.tumblr.com/post/67419963949/dni-clapper-declassifies-additional-intelligence ..."
       ]
      },
      {
       "output_type": "stream",
       "stream": "stdout",
       "text": [
        "\n",
        "http://www.dni.gov/files/documents/1118/CLEANED085.%20Report%20to%20Congress%20April%2006.pdf is a PDF\n",
        "http://www.dni.gov/files/documents/1118/CLEANED086.%20Report%20to%20Congress%20April%2007.pdf is a PDF\n",
        "http://www.dni.gov/files/documents/1118/CLEANED087.%20Report%20to%20Congress%20April%2008.pdf is a PDF\n",
        "http://www.dni.gov/files/documents/1118/CLEANED088.%20Report%20to%20Congress%20Pursu...hority%20May%2009%29%20-%20Redacted.pdf is a PDF\n",
        "http://www.dni.gov/files/documents/1118/CLEANED089.%20Report%20to%20Congress%20April%2010.pdf is a PDF\n",
        "http://www.dni.gov/files/documents/1118/CLEANED090.%20Report%20to%20Congress%20Pursu...thority%20April%2011%20Redacted.pdf is a PDF\n",
        "http://www.dni.gov/files/documents/1118/CLEANED091.%20Report%20to%20Congress%20April%2012.pdf is a PDF\n",
        "http://www.dni.gov/files/documents/1118/CLEANED007.%20CongNotificationInfoMemoSSCI%2010%20Apr%2009-Sealedpdf.pdf is a PDF\n",
        "http://www.dni.gov/files/documents/1118/CLEANED004.%20Cover%20Memo-Sealed.pdf is a PDF\n",
        "http://www.dni.gov/files/documents/1118/CLEANED010.%20RFI%20Response_SSCI%20Gottte...es%201%20December%202010-Sealed.pdf is a PDF\n",
        "http://www.dni.gov/files/documents/1118/CLEANED016.%20REDACTED%20BR%2006-05%20Exhibits%20C%20%28Memo%20of%20Law%29%20and%20D-Sealed.pdf is a PDF\n",
        "http://www.dni.gov/files/documents/1118/CLEANED86M%20FBI%20and%20AG%20Testimony.pdf is a PDF\n",
        "http://www.dni.gov/files/documents/1118/CLEANEDPRTT%201.pdf is a PDF\n",
        "http://www.dni.gov/files/documents/1118/CLEANEDPRTT%202.pdf is a PDF\n",
        "http://www.dni.gov/files/documents/1118/CLEANED101.%20Order%20and%20Supplemental%20Order%20%286-22-09%29-sealed.pdf is a PDF\n",
        "http://www.dni.gov/files/documents/1118/CLEANED045.%20NSA%2045-Day%20Report.pdf is a PDF\n",
        "http://www.dni.gov/files/documents/1118/CLEANED031.%20August%202006%20Report.pdf is a PDF\n",
        "http://www.dni.gov/files/documents/1118/CLEANED042.%20%20FISC%20briefing%20on%20BR%20%281%20Sept%202009%29-Sealed.pdf is a PDF\n",
        "http://www.dni.gov/files/documents/1118/CLEANED95.pdf is a PDF\n",
        "http://www.dni.gov/files/documents/1118/CLEANED034.%20BR%2009-01%2010%28c%29%20Notice%20Filed%205-8-09%29-Sealed.pdf is a PDF\n",
        "http://www.dni.gov/files/documents/1118/CLEANED089.T.BR%2006-05%20Motions%20and%20Or...Unseal%2016AUGU-1-17-Sealed.pdf is a PDF\n",
        "http://www.dni.gov/files/documents/1118/CLEANEDFinal%20USSID%20SP0018%20Annex%20J.pdf is a PDF\n",
        "http://www.dni.gov/files/documents/1118/CLEANEDFinal%20USSID%20SP0018.pdf is a PDF\n",
        "http://www.dni.gov/files/documents/1118/CLEANED020.%20Verification%20Requirement.pdf is a PDF\n",
        "http://www.dni.gov/files/documents/1118/CLEANED096.%20NSA%20summary%20of%20BR%20requirements%20%28maybe%20Feb%202009%29-.pdf is a PDF\n",
        "http://www.dni.gov/files/documents/1118/CLEANED032.%20Basket%202%20-%20NSA%20training.log.pdf is a PDF\n",
        "http://www.dni.gov/files/documents/1118/CLEANED044.%20Interim%20Competency%20Test%20...s%20to%20BR%20FISA%20Data..pdf is a PDF\n",
        "http://www.dni.gov/files/documents/1118/CLEANED049.%20%20OVSC1204%20v1OGCAprl15.pdf is a PDF\n",
        "http://www.dni.gov/files/documents/1118/CLEANED021.extracts.%20Minimization%20Pr...cted%20from%20file%20021-Sealed.pdf is a PDF\n",
        "http://www.dni.gov/files/documents/1118/CLEANED019.%20NSA%20OGC%20Training%20Materia...d%20to%20OI%20on%202-20-09.pdf is a PDF\n",
        "http://www.dni.gov/files/documents/1118/CLEANED116%20AG%20Guidelines.pdf is a PDF\n",
        "http://www.dni.gov/files/documents/1118/CLEANED022.%20NSA%20Core%20Intelligence%20Oversight%20Training.pdf is a PDF\n",
        "http://www.dni.gov/files/documents/1118/CLEANEDOVSC1205_1206_L0_storyboard_v13_Final.pdf is a PDF\n",
        "http://www.dni.gov/files/documents/1118/CLEANEDOVSC1205_L1_storyboard_v17_Final.pdf is a PDF\n",
        "http://www.dni.gov/files/documents/1118/CLEANEDOVSC1205_L2_storyboard_v16_Final.pdf is a PDF\n",
        "http://www.dni.gov/files/documents/1118/CLEANEDOVSC1205_L3_storyboard_v22_Final.pdf is a PDF\n",
        "http://www.dni.gov/files/documents/1118/CLEANEDOVSC1205_L4_storyboard_v28_Final.pdf is a PDF\n",
        "http://www.dni.gov/files/documents/1118/CLEANEDOVSC1205_L5_storyboard_v24_Final.pdf is a PDF\n",
        "http://www.dni.gov/files/documents/1118/CLEANEDOVSC1205_L6A_storyboard_v18_Final-Sealed.pdf is a PDF\n",
        "http://www.dni.gov/files/documents/1118/CLEANEDOVSC1206_M6T_storyboard_v25_Final.pdf is a PDF\n",
        "searching http://icontherecord.tumblr.com/post/67419963949/dni-clapper-declassifies-additional-intelligence ..."
       ]
      },
      {
       "output_type": "stream",
       "stream": "stdout",
       "text": [
        "\n",
        "http://www.dni.gov/files/documents/1118/CLEANED085.%20Report%20to%20Congress%20April%2006.pdf is a PDF\n",
        "http://www.dni.gov/files/documents/1118/CLEANED086.%20Report%20to%20Congress%20April%2007.pdf is a PDF\n",
        "http://www.dni.gov/files/documents/1118/CLEANED087.%20Report%20to%20Congress%20April%2008.pdf is a PDF\n",
        "http://www.dni.gov/files/documents/1118/CLEANED088.%20Report%20to%20Congress%20Pursu...hority%20May%2009%29%20-%20Redacted.pdf is a PDF\n",
        "http://www.dni.gov/files/documents/1118/CLEANED089.%20Report%20to%20Congress%20April%2010.pdf is a PDF\n",
        "http://www.dni.gov/files/documents/1118/CLEANED090.%20Report%20to%20Congress%20Pursu...thority%20April%2011%20Redacted.pdf is a PDF\n",
        "http://www.dni.gov/files/documents/1118/CLEANED091.%20Report%20to%20Congress%20April%2012.pdf is a PDF\n",
        "http://www.dni.gov/files/documents/1118/CLEANED007.%20CongNotificationInfoMemoSSCI%2010%20Apr%2009-Sealedpdf.pdf is a PDF\n",
        "http://www.dni.gov/files/documents/1118/CLEANED004.%20Cover%20Memo-Sealed.pdf is a PDF\n",
        "http://www.dni.gov/files/documents/1118/CLEANED010.%20RFI%20Response_SSCI%20Gottte...es%201%20December%202010-Sealed.pdf is a PDF\n",
        "http://www.dni.gov/files/documents/1118/CLEANED016.%20REDACTED%20BR%2006-05%20Exhibits%20C%20%28Memo%20of%20Law%29%20and%20D-Sealed.pdf is a PDF\n",
        "http://www.dni.gov/files/documents/1118/CLEANED86M%20FBI%20and%20AG%20Testimony.pdf is a PDF\n",
        "http://www.dni.gov/files/documents/1118/CLEANEDPRTT%201.pdf is a PDF\n",
        "http://www.dni.gov/files/documents/1118/CLEANEDPRTT%202.pdf is a PDF\n",
        "http://www.dni.gov/files/documents/1118/CLEANED101.%20Order%20and%20Supplemental%20Order%20%286-22-09%29-sealed.pdf is a PDF\n",
        "http://www.dni.gov/files/documents/1118/CLEANED045.%20NSA%2045-Day%20Report.pdf is a PDF\n",
        "http://www.dni.gov/files/documents/1118/CLEANED031.%20August%202006%20Report.pdf is a PDF\n",
        "http://www.dni.gov/files/documents/1118/CLEANED042.%20%20FISC%20briefing%20on%20BR%20%281%20Sept%202009%29-Sealed.pdf is a PDF\n",
        "http://www.dni.gov/files/documents/1118/CLEANED95.pdf is a PDF\n",
        "http://www.dni.gov/files/documents/1118/CLEANED034.%20BR%2009-01%2010%28c%29%20Notice%20Filed%205-8-09%29-Sealed.pdf is a PDF\n",
        "http://www.dni.gov/files/documents/1118/CLEANED089.T.BR%2006-05%20Motions%20and%20Or...Unseal%2016AUGU-1-17-Sealed.pdf is a PDF\n",
        "http://www.dni.gov/files/documents/1118/CLEANEDFinal%20USSID%20SP0018%20Annex%20J.pdf is a PDF\n",
        "http://www.dni.gov/files/documents/1118/CLEANEDFinal%20USSID%20SP0018.pdf is a PDF\n",
        "http://www.dni.gov/files/documents/1118/CLEANED020.%20Verification%20Requirement.pdf is a PDF\n",
        "http://www.dni.gov/files/documents/1118/CLEANED096.%20NSA%20summary%20of%20BR%20requirements%20%28maybe%20Feb%202009%29-.pdf is a PDF\n",
        "http://www.dni.gov/files/documents/1118/CLEANED032.%20Basket%202%20-%20NSA%20training.log.pdf is a PDF\n",
        "http://www.dni.gov/files/documents/1118/CLEANED044.%20Interim%20Competency%20Test%20...s%20to%20BR%20FISA%20Data..pdf is a PDF\n",
        "http://www.dni.gov/files/documents/1118/CLEANED049.%20%20OVSC1204%20v1OGCAprl15.pdf is a PDF\n",
        "http://www.dni.gov/files/documents/1118/CLEANED021.extracts.%20Minimization%20Pr...cted%20from%20file%20021-Sealed.pdf is a PDF\n",
        "http://www.dni.gov/files/documents/1118/CLEANED019.%20NSA%20OGC%20Training%20Materia...d%20to%20OI%20on%202-20-09.pdf is a PDF\n",
        "http://www.dni.gov/files/documents/1118/CLEANED116%20AG%20Guidelines.pdf is a PDF\n",
        "http://www.dni.gov/files/documents/1118/CLEANED022.%20NSA%20Core%20Intelligence%20Oversight%20Training.pdf is a PDF\n",
        "http://www.dni.gov/files/documents/1118/CLEANEDOVSC1205_1206_L0_storyboard_v13_Final.pdf is a PDF\n",
        "http://www.dni.gov/files/documents/1118/CLEANEDOVSC1205_L1_storyboard_v17_Final.pdf is a PDF\n",
        "http://www.dni.gov/files/documents/1118/CLEANEDOVSC1205_L2_storyboard_v16_Final.pdf is a PDF\n",
        "http://www.dni.gov/files/documents/1118/CLEANEDOVSC1205_L3_storyboard_v22_Final.pdf is a PDF\n",
        "http://www.dni.gov/files/documents/1118/CLEANEDOVSC1205_L4_storyboard_v28_Final.pdf is a PDF\n",
        "http://www.dni.gov/files/documents/1118/CLEANEDOVSC1205_L5_storyboard_v24_Final.pdf is a PDF\n",
        "http://www.dni.gov/files/documents/1118/CLEANEDOVSC1205_L6A_storyboard_v18_Final-Sealed.pdf is a PDF\n",
        "http://www.dni.gov/files/documents/1118/CLEANEDOVSC1206_M6T_storyboard_v25_Final.pdf is a PDF\n",
        "searching http://icontherecord.tumblr.com/post/67419963949/dni-clapper-declassifies-additional-intelligence ..."
       ]
      },
      {
       "output_type": "stream",
       "stream": "stdout",
       "text": [
        "\n",
        "http://www.dni.gov/files/documents/1118/CLEANED085.%20Report%20to%20Congress%20April%2006.pdf is a PDF\n",
        "http://www.dni.gov/files/documents/1118/CLEANED086.%20Report%20to%20Congress%20April%2007.pdf is a PDF\n",
        "http://www.dni.gov/files/documents/1118/CLEANED087.%20Report%20to%20Congress%20April%2008.pdf is a PDF\n",
        "http://www.dni.gov/files/documents/1118/CLEANED088.%20Report%20to%20Congress%20Pursu...hority%20May%2009%29%20-%20Redacted.pdf is a PDF\n",
        "http://www.dni.gov/files/documents/1118/CLEANED089.%20Report%20to%20Congress%20April%2010.pdf is a PDF\n",
        "http://www.dni.gov/files/documents/1118/CLEANED090.%20Report%20to%20Congress%20Pursu...thority%20April%2011%20Redacted.pdf is a PDF\n",
        "http://www.dni.gov/files/documents/1118/CLEANED091.%20Report%20to%20Congress%20April%2012.pdf is a PDF\n",
        "http://www.dni.gov/files/documents/1118/CLEANED007.%20CongNotificationInfoMemoSSCI%2010%20Apr%2009-Sealedpdf.pdf is a PDF\n",
        "http://www.dni.gov/files/documents/1118/CLEANED004.%20Cover%20Memo-Sealed.pdf is a PDF\n",
        "http://www.dni.gov/files/documents/1118/CLEANED010.%20RFI%20Response_SSCI%20Gottte...es%201%20December%202010-Sealed.pdf is a PDF\n",
        "http://www.dni.gov/files/documents/1118/CLEANED016.%20REDACTED%20BR%2006-05%20Exhibits%20C%20%28Memo%20of%20Law%29%20and%20D-Sealed.pdf is a PDF\n",
        "http://www.dni.gov/files/documents/1118/CLEANED86M%20FBI%20and%20AG%20Testimony.pdf is a PDF\n",
        "http://www.dni.gov/files/documents/1118/CLEANEDPRTT%201.pdf is a PDF\n",
        "http://www.dni.gov/files/documents/1118/CLEANEDPRTT%202.pdf is a PDF\n",
        "http://www.dni.gov/files/documents/1118/CLEANED101.%20Order%20and%20Supplemental%20Order%20%286-22-09%29-sealed.pdf is a PDF\n",
        "http://www.dni.gov/files/documents/1118/CLEANED045.%20NSA%2045-Day%20Report.pdf is a PDF\n",
        "http://www.dni.gov/files/documents/1118/CLEANED031.%20August%202006%20Report.pdf is a PDF\n",
        "http://www.dni.gov/files/documents/1118/CLEANED042.%20%20FISC%20briefing%20on%20BR%20%281%20Sept%202009%29-Sealed.pdf is a PDF\n",
        "http://www.dni.gov/files/documents/1118/CLEANED95.pdf is a PDF\n",
        "http://www.dni.gov/files/documents/1118/CLEANED034.%20BR%2009-01%2010%28c%29%20Notice%20Filed%205-8-09%29-Sealed.pdf is a PDF\n",
        "http://www.dni.gov/files/documents/1118/CLEANED089.T.BR%2006-05%20Motions%20and%20Or...Unseal%2016AUGU-1-17-Sealed.pdf is a PDF\n",
        "http://www.dni.gov/files/documents/1118/CLEANEDFinal%20USSID%20SP0018%20Annex%20J.pdf is a PDF\n",
        "http://www.dni.gov/files/documents/1118/CLEANEDFinal%20USSID%20SP0018.pdf is a PDF\n",
        "http://www.dni.gov/files/documents/1118/CLEANED020.%20Verification%20Requirement.pdf is a PDF\n",
        "http://www.dni.gov/files/documents/1118/CLEANED096.%20NSA%20summary%20of%20BR%20requirements%20%28maybe%20Feb%202009%29-.pdf is a PDF\n",
        "http://www.dni.gov/files/documents/1118/CLEANED032.%20Basket%202%20-%20NSA%20training.log.pdf is a PDF\n",
        "http://www.dni.gov/files/documents/1118/CLEANED044.%20Interim%20Competency%20Test%20...s%20to%20BR%20FISA%20Data..pdf is a PDF\n",
        "http://www.dni.gov/files/documents/1118/CLEANED049.%20%20OVSC1204%20v1OGCAprl15.pdf is a PDF\n",
        "http://www.dni.gov/files/documents/1118/CLEANED021.extracts.%20Minimization%20Pr...cted%20from%20file%20021-Sealed.pdf is a PDF\n",
        "http://www.dni.gov/files/documents/1118/CLEANED019.%20NSA%20OGC%20Training%20Materia...d%20to%20OI%20on%202-20-09.pdf is a PDF\n",
        "http://www.dni.gov/files/documents/1118/CLEANED116%20AG%20Guidelines.pdf is a PDF\n",
        "http://www.dni.gov/files/documents/1118/CLEANED022.%20NSA%20Core%20Intelligence%20Oversight%20Training.pdf is a PDF\n",
        "http://www.dni.gov/files/documents/1118/CLEANEDOVSC1205_1206_L0_storyboard_v13_Final.pdf is a PDF\n",
        "http://www.dni.gov/files/documents/1118/CLEANEDOVSC1205_L1_storyboard_v17_Final.pdf is a PDF\n",
        "http://www.dni.gov/files/documents/1118/CLEANEDOVSC1205_L2_storyboard_v16_Final.pdf is a PDF\n",
        "http://www.dni.gov/files/documents/1118/CLEANEDOVSC1205_L3_storyboard_v22_Final.pdf is a PDF\n",
        "http://www.dni.gov/files/documents/1118/CLEANEDOVSC1205_L4_storyboard_v28_Final.pdf is a PDF\n",
        "http://www.dni.gov/files/documents/1118/CLEANEDOVSC1205_L5_storyboard_v24_Final.pdf is a PDF\n",
        "http://www.dni.gov/files/documents/1118/CLEANEDOVSC1205_L6A_storyboard_v18_Final-Sealed.pdf is a PDF\n",
        "http://www.dni.gov/files/documents/1118/CLEANEDOVSC1206_M6T_storyboard_v25_Final.pdf is a PDF\n",
        "searching http://icontherecord.tumblr.com/post/67419963949/dni-clapper-declassifies-additional-intelligence ..."
       ]
      },
      {
       "output_type": "stream",
       "stream": "stdout",
       "text": [
        "\n",
        "http://www.dni.gov/files/documents/1118/CLEANED085.%20Report%20to%20Congress%20April%2006.pdf is a PDF\n",
        "http://www.dni.gov/files/documents/1118/CLEANED086.%20Report%20to%20Congress%20April%2007.pdf is a PDF\n",
        "http://www.dni.gov/files/documents/1118/CLEANED087.%20Report%20to%20Congress%20April%2008.pdf is a PDF\n",
        "http://www.dni.gov/files/documents/1118/CLEANED088.%20Report%20to%20Congress%20Pursu...hority%20May%2009%29%20-%20Redacted.pdf is a PDF\n",
        "http://www.dni.gov/files/documents/1118/CLEANED089.%20Report%20to%20Congress%20April%2010.pdf is a PDF\n",
        "http://www.dni.gov/files/documents/1118/CLEANED090.%20Report%20to%20Congress%20Pursu...thority%20April%2011%20Redacted.pdf is a PDF\n",
        "http://www.dni.gov/files/documents/1118/CLEANED091.%20Report%20to%20Congress%20April%2012.pdf is a PDF\n",
        "http://www.dni.gov/files/documents/1118/CLEANED007.%20CongNotificationInfoMemoSSCI%2010%20Apr%2009-Sealedpdf.pdf is a PDF\n",
        "http://www.dni.gov/files/documents/1118/CLEANED004.%20Cover%20Memo-Sealed.pdf is a PDF\n",
        "http://www.dni.gov/files/documents/1118/CLEANED010.%20RFI%20Response_SSCI%20Gottte...es%201%20December%202010-Sealed.pdf is a PDF\n",
        "http://www.dni.gov/files/documents/1118/CLEANED016.%20REDACTED%20BR%2006-05%20Exhibits%20C%20%28Memo%20of%20Law%29%20and%20D-Sealed.pdf is a PDF\n",
        "http://www.dni.gov/files/documents/1118/CLEANED86M%20FBI%20and%20AG%20Testimony.pdf is a PDF\n",
        "http://www.dni.gov/files/documents/1118/CLEANEDPRTT%201.pdf is a PDF\n",
        "http://www.dni.gov/files/documents/1118/CLEANEDPRTT%202.pdf is a PDF\n",
        "http://www.dni.gov/files/documents/1118/CLEANED101.%20Order%20and%20Supplemental%20Order%20%286-22-09%29-sealed.pdf is a PDF\n",
        "http://www.dni.gov/files/documents/1118/CLEANED045.%20NSA%2045-Day%20Report.pdf is a PDF\n",
        "http://www.dni.gov/files/documents/1118/CLEANED031.%20August%202006%20Report.pdf is a PDF\n",
        "http://www.dni.gov/files/documents/1118/CLEANED042.%20%20FISC%20briefing%20on%20BR%20%281%20Sept%202009%29-Sealed.pdf is a PDF\n",
        "http://www.dni.gov/files/documents/1118/CLEANED95.pdf is a PDF\n",
        "http://www.dni.gov/files/documents/1118/CLEANED034.%20BR%2009-01%2010%28c%29%20Notice%20Filed%205-8-09%29-Sealed.pdf is a PDF\n",
        "http://www.dni.gov/files/documents/1118/CLEANED089.T.BR%2006-05%20Motions%20and%20Or...Unseal%2016AUGU-1-17-Sealed.pdf is a PDF\n",
        "http://www.dni.gov/files/documents/1118/CLEANEDFinal%20USSID%20SP0018%20Annex%20J.pdf is a PDF\n",
        "http://www.dni.gov/files/documents/1118/CLEANEDFinal%20USSID%20SP0018.pdf is a PDF\n",
        "http://www.dni.gov/files/documents/1118/CLEANED020.%20Verification%20Requirement.pdf is a PDF\n",
        "http://www.dni.gov/files/documents/1118/CLEANED096.%20NSA%20summary%20of%20BR%20requirements%20%28maybe%20Feb%202009%29-.pdf is a PDF\n",
        "http://www.dni.gov/files/documents/1118/CLEANED032.%20Basket%202%20-%20NSA%20training.log.pdf is a PDF\n",
        "http://www.dni.gov/files/documents/1118/CLEANED044.%20Interim%20Competency%20Test%20...s%20to%20BR%20FISA%20Data..pdf is a PDF\n",
        "http://www.dni.gov/files/documents/1118/CLEANED049.%20%20OVSC1204%20v1OGCAprl15.pdf is a PDF\n",
        "http://www.dni.gov/files/documents/1118/CLEANED021.extracts.%20Minimization%20Pr...cted%20from%20file%20021-Sealed.pdf is a PDF\n",
        "http://www.dni.gov/files/documents/1118/CLEANED019.%20NSA%20OGC%20Training%20Materia...d%20to%20OI%20on%202-20-09.pdf is a PDF\n",
        "http://www.dni.gov/files/documents/1118/CLEANED116%20AG%20Guidelines.pdf is a PDF\n",
        "http://www.dni.gov/files/documents/1118/CLEANED022.%20NSA%20Core%20Intelligence%20Oversight%20Training.pdf is a PDF\n",
        "http://www.dni.gov/files/documents/1118/CLEANEDOVSC1205_1206_L0_storyboard_v13_Final.pdf is a PDF\n",
        "http://www.dni.gov/files/documents/1118/CLEANEDOVSC1205_L1_storyboard_v17_Final.pdf is a PDF\n",
        "http://www.dni.gov/files/documents/1118/CLEANEDOVSC1205_L2_storyboard_v16_Final.pdf is a PDF\n",
        "http://www.dni.gov/files/documents/1118/CLEANEDOVSC1205_L3_storyboard_v22_Final.pdf is a PDF\n",
        "http://www.dni.gov/files/documents/1118/CLEANEDOVSC1205_L4_storyboard_v28_Final.pdf is a PDF\n",
        "http://www.dni.gov/files/documents/1118/CLEANEDOVSC1205_L5_storyboard_v24_Final.pdf is a PDF\n",
        "http://www.dni.gov/files/documents/1118/CLEANEDOVSC1205_L6A_storyboard_v18_Final-Sealed.pdf is a PDF\n",
        "http://www.dni.gov/files/documents/1118/CLEANEDOVSC1206_M6T_storyboard_v25_Final.pdf is a PDF\n",
        "searching http://www.dagbladet.no/2013/11/19/nyheter/pluss/edward_snowden/innenriks/snowden_i_norge/30338184/ ..."
       ]
      },
      {
       "output_type": "stream",
       "stream": "stdout",
       "text": [
        "\n",
        "searching http://icontherecord.tumblr.com/post/67419963949/dni-clapper-declassifies-additional-intelligence ..."
       ]
      },
      {
       "output_type": "stream",
       "stream": "stdout",
       "text": [
        "\n",
        "http://www.dni.gov/files/documents/1118/CLEANED085.%20Report%20to%20Congress%20April%2006.pdf is a PDF\n",
        "http://www.dni.gov/files/documents/1118/CLEANED086.%20Report%20to%20Congress%20April%2007.pdf is a PDF\n",
        "http://www.dni.gov/files/documents/1118/CLEANED087.%20Report%20to%20Congress%20April%2008.pdf is a PDF\n",
        "http://www.dni.gov/files/documents/1118/CLEANED088.%20Report%20to%20Congress%20Pursu...hority%20May%2009%29%20-%20Redacted.pdf is a PDF\n",
        "http://www.dni.gov/files/documents/1118/CLEANED089.%20Report%20to%20Congress%20April%2010.pdf is a PDF\n",
        "http://www.dni.gov/files/documents/1118/CLEANED090.%20Report%20to%20Congress%20Pursu...thority%20April%2011%20Redacted.pdf is a PDF\n",
        "http://www.dni.gov/files/documents/1118/CLEANED091.%20Report%20to%20Congress%20April%2012.pdf is a PDF\n",
        "http://www.dni.gov/files/documents/1118/CLEANED007.%20CongNotificationInfoMemoSSCI%2010%20Apr%2009-Sealedpdf.pdf is a PDF\n",
        "http://www.dni.gov/files/documents/1118/CLEANED004.%20Cover%20Memo-Sealed.pdf is a PDF\n",
        "http://www.dni.gov/files/documents/1118/CLEANED010.%20RFI%20Response_SSCI%20Gottte...es%201%20December%202010-Sealed.pdf is a PDF\n",
        "http://www.dni.gov/files/documents/1118/CLEANED016.%20REDACTED%20BR%2006-05%20Exhibits%20C%20%28Memo%20of%20Law%29%20and%20D-Sealed.pdf is a PDF\n",
        "http://www.dni.gov/files/documents/1118/CLEANED86M%20FBI%20and%20AG%20Testimony.pdf is a PDF\n",
        "http://www.dni.gov/files/documents/1118/CLEANEDPRTT%201.pdf is a PDF\n",
        "http://www.dni.gov/files/documents/1118/CLEANEDPRTT%202.pdf is a PDF\n",
        "http://www.dni.gov/files/documents/1118/CLEANED101.%20Order%20and%20Supplemental%20Order%20%286-22-09%29-sealed.pdf is a PDF\n",
        "http://www.dni.gov/files/documents/1118/CLEANED045.%20NSA%2045-Day%20Report.pdf is a PDF\n",
        "http://www.dni.gov/files/documents/1118/CLEANED031.%20August%202006%20Report.pdf is a PDF\n",
        "http://www.dni.gov/files/documents/1118/CLEANED042.%20%20FISC%20briefing%20on%20BR%20%281%20Sept%202009%29-Sealed.pdf is a PDF\n",
        "http://www.dni.gov/files/documents/1118/CLEANED95.pdf is a PDF\n",
        "http://www.dni.gov/files/documents/1118/CLEANED034.%20BR%2009-01%2010%28c%29%20Notice%20Filed%205-8-09%29-Sealed.pdf is a PDF\n",
        "http://www.dni.gov/files/documents/1118/CLEANED089.T.BR%2006-05%20Motions%20and%20Or...Unseal%2016AUGU-1-17-Sealed.pdf is a PDF\n",
        "http://www.dni.gov/files/documents/1118/CLEANEDFinal%20USSID%20SP0018%20Annex%20J.pdf is a PDF\n",
        "http://www.dni.gov/files/documents/1118/CLEANEDFinal%20USSID%20SP0018.pdf is a PDF\n",
        "http://www.dni.gov/files/documents/1118/CLEANED020.%20Verification%20Requirement.pdf is a PDF\n",
        "http://www.dni.gov/files/documents/1118/CLEANED096.%20NSA%20summary%20of%20BR%20requirements%20%28maybe%20Feb%202009%29-.pdf is a PDF\n",
        "http://www.dni.gov/files/documents/1118/CLEANED032.%20Basket%202%20-%20NSA%20training.log.pdf is a PDF\n",
        "http://www.dni.gov/files/documents/1118/CLEANED044.%20Interim%20Competency%20Test%20...s%20to%20BR%20FISA%20Data..pdf is a PDF\n",
        "http://www.dni.gov/files/documents/1118/CLEANED049.%20%20OVSC1204%20v1OGCAprl15.pdf is a PDF\n",
        "http://www.dni.gov/files/documents/1118/CLEANED021.extracts.%20Minimization%20Pr...cted%20from%20file%20021-Sealed.pdf is a PDF\n",
        "http://www.dni.gov/files/documents/1118/CLEANED019.%20NSA%20OGC%20Training%20Materia...d%20to%20OI%20on%202-20-09.pdf is a PDF\n",
        "http://www.dni.gov/files/documents/1118/CLEANED116%20AG%20Guidelines.pdf is a PDF\n",
        "http://www.dni.gov/files/documents/1118/CLEANED022.%20NSA%20Core%20Intelligence%20Oversight%20Training.pdf is a PDF\n",
        "http://www.dni.gov/files/documents/1118/CLEANEDOVSC1205_1206_L0_storyboard_v13_Final.pdf is a PDF\n",
        "http://www.dni.gov/files/documents/1118/CLEANEDOVSC1205_L1_storyboard_v17_Final.pdf is a PDF\n",
        "http://www.dni.gov/files/documents/1118/CLEANEDOVSC1205_L2_storyboard_v16_Final.pdf is a PDF\n",
        "http://www.dni.gov/files/documents/1118/CLEANEDOVSC1205_L3_storyboard_v22_Final.pdf is a PDF\n",
        "http://www.dni.gov/files/documents/1118/CLEANEDOVSC1205_L4_storyboard_v28_Final.pdf is a PDF\n",
        "http://www.dni.gov/files/documents/1118/CLEANEDOVSC1205_L5_storyboard_v24_Final.pdf is a PDF\n",
        "http://www.dni.gov/files/documents/1118/CLEANEDOVSC1205_L6A_storyboard_v18_Final-Sealed.pdf is a PDF\n",
        "http://www.dni.gov/files/documents/1118/CLEANEDOVSC1206_M6T_storyboard_v25_Final.pdf is a PDF\n",
        "searching http://icontherecord.tumblr.com/post/67419963949/dni-clapper-declassifies-additional-intelligence ..."
       ]
      },
      {
       "output_type": "stream",
       "stream": "stdout",
       "text": [
        "\n",
        "http://www.dni.gov/files/documents/1118/CLEANED085.%20Report%20to%20Congress%20April%2006.pdf is a PDF\n",
        "http://www.dni.gov/files/documents/1118/CLEANED086.%20Report%20to%20Congress%20April%2007.pdf is a PDF\n",
        "http://www.dni.gov/files/documents/1118/CLEANED087.%20Report%20to%20Congress%20April%2008.pdf is a PDF\n",
        "http://www.dni.gov/files/documents/1118/CLEANED088.%20Report%20to%20Congress%20Pursu...hority%20May%2009%29%20-%20Redacted.pdf is a PDF\n",
        "http://www.dni.gov/files/documents/1118/CLEANED089.%20Report%20to%20Congress%20April%2010.pdf is a PDF\n",
        "http://www.dni.gov/files/documents/1118/CLEANED090.%20Report%20to%20Congress%20Pursu...thority%20April%2011%20Redacted.pdf is a PDF\n",
        "http://www.dni.gov/files/documents/1118/CLEANED091.%20Report%20to%20Congress%20April%2012.pdf is a PDF\n",
        "http://www.dni.gov/files/documents/1118/CLEANED007.%20CongNotificationInfoMemoSSCI%2010%20Apr%2009-Sealedpdf.pdf is a PDF\n",
        "http://www.dni.gov/files/documents/1118/CLEANED004.%20Cover%20Memo-Sealed.pdf is a PDF\n",
        "http://www.dni.gov/files/documents/1118/CLEANED010.%20RFI%20Response_SSCI%20Gottte...es%201%20December%202010-Sealed.pdf is a PDF\n",
        "http://www.dni.gov/files/documents/1118/CLEANED016.%20REDACTED%20BR%2006-05%20Exhibits%20C%20%28Memo%20of%20Law%29%20and%20D-Sealed.pdf is a PDF\n",
        "http://www.dni.gov/files/documents/1118/CLEANED86M%20FBI%20and%20AG%20Testimony.pdf is a PDF\n",
        "http://www.dni.gov/files/documents/1118/CLEANEDPRTT%201.pdf is a PDF\n",
        "http://www.dni.gov/files/documents/1118/CLEANEDPRTT%202.pdf is a PDF\n",
        "http://www.dni.gov/files/documents/1118/CLEANED101.%20Order%20and%20Supplemental%20Order%20%286-22-09%29-sealed.pdf is a PDF\n",
        "http://www.dni.gov/files/documents/1118/CLEANED045.%20NSA%2045-Day%20Report.pdf is a PDF\n",
        "http://www.dni.gov/files/documents/1118/CLEANED031.%20August%202006%20Report.pdf is a PDF\n",
        "http://www.dni.gov/files/documents/1118/CLEANED042.%20%20FISC%20briefing%20on%20BR%20%281%20Sept%202009%29-Sealed.pdf is a PDF\n",
        "http://www.dni.gov/files/documents/1118/CLEANED95.pdf is a PDF\n",
        "http://www.dni.gov/files/documents/1118/CLEANED034.%20BR%2009-01%2010%28c%29%20Notice%20Filed%205-8-09%29-Sealed.pdf is a PDF\n",
        "http://www.dni.gov/files/documents/1118/CLEANED089.T.BR%2006-05%20Motions%20and%20Or...Unseal%2016AUGU-1-17-Sealed.pdf is a PDF\n",
        "http://www.dni.gov/files/documents/1118/CLEANEDFinal%20USSID%20SP0018%20Annex%20J.pdf is a PDF\n",
        "http://www.dni.gov/files/documents/1118/CLEANEDFinal%20USSID%20SP0018.pdf is a PDF\n",
        "http://www.dni.gov/files/documents/1118/CLEANED020.%20Verification%20Requirement.pdf is a PDF\n",
        "http://www.dni.gov/files/documents/1118/CLEANED096.%20NSA%20summary%20of%20BR%20requirements%20%28maybe%20Feb%202009%29-.pdf is a PDF\n",
        "http://www.dni.gov/files/documents/1118/CLEANED032.%20Basket%202%20-%20NSA%20training.log.pdf is a PDF\n",
        "http://www.dni.gov/files/documents/1118/CLEANED044.%20Interim%20Competency%20Test%20...s%20to%20BR%20FISA%20Data..pdf is a PDF\n",
        "http://www.dni.gov/files/documents/1118/CLEANED049.%20%20OVSC1204%20v1OGCAprl15.pdf is a PDF\n",
        "http://www.dni.gov/files/documents/1118/CLEANED021.extracts.%20Minimization%20Pr...cted%20from%20file%20021-Sealed.pdf is a PDF\n",
        "http://www.dni.gov/files/documents/1118/CLEANED019.%20NSA%20OGC%20Training%20Materia...d%20to%20OI%20on%202-20-09.pdf is a PDF\n",
        "http://www.dni.gov/files/documents/1118/CLEANED116%20AG%20Guidelines.pdf is a PDF\n",
        "http://www.dni.gov/files/documents/1118/CLEANED022.%20NSA%20Core%20Intelligence%20Oversight%20Training.pdf is a PDF\n",
        "http://www.dni.gov/files/documents/1118/CLEANEDOVSC1205_1206_L0_storyboard_v13_Final.pdf is a PDF\n",
        "http://www.dni.gov/files/documents/1118/CLEANEDOVSC1205_L1_storyboard_v17_Final.pdf is a PDF\n",
        "http://www.dni.gov/files/documents/1118/CLEANEDOVSC1205_L2_storyboard_v16_Final.pdf is a PDF\n",
        "http://www.dni.gov/files/documents/1118/CLEANEDOVSC1205_L3_storyboard_v22_Final.pdf is a PDF\n",
        "http://www.dni.gov/files/documents/1118/CLEANEDOVSC1205_L4_storyboard_v28_Final.pdf is a PDF\n",
        "http://www.dni.gov/files/documents/1118/CLEANEDOVSC1205_L5_storyboard_v24_Final.pdf is a PDF\n",
        "http://www.dni.gov/files/documents/1118/CLEANEDOVSC1205_L6A_storyboard_v18_Final-Sealed.pdf is a PDF\n",
        "http://www.dni.gov/files/documents/1118/CLEANEDOVSC1206_M6T_storyboard_v25_Final.pdf is a PDF\n",
        "searching http://icontherecord.tumblr.com/post/67419963949/dni-clapper-declassifies-additional-intelligence ..."
       ]
      },
      {
       "output_type": "stream",
       "stream": "stdout",
       "text": [
        "\n",
        "http://www.dni.gov/files/documents/1118/CLEANED085.%20Report%20to%20Congress%20April%2006.pdf is a PDF\n",
        "http://www.dni.gov/files/documents/1118/CLEANED086.%20Report%20to%20Congress%20April%2007.pdf is a PDF\n",
        "http://www.dni.gov/files/documents/1118/CLEANED087.%20Report%20to%20Congress%20April%2008.pdf is a PDF\n",
        "http://www.dni.gov/files/documents/1118/CLEANED088.%20Report%20to%20Congress%20Pursu...hority%20May%2009%29%20-%20Redacted.pdf is a PDF\n",
        "http://www.dni.gov/files/documents/1118/CLEANED089.%20Report%20to%20Congress%20April%2010.pdf is a PDF\n",
        "http://www.dni.gov/files/documents/1118/CLEANED090.%20Report%20to%20Congress%20Pursu...thority%20April%2011%20Redacted.pdf is a PDF\n",
        "http://www.dni.gov/files/documents/1118/CLEANED091.%20Report%20to%20Congress%20April%2012.pdf is a PDF\n",
        "http://www.dni.gov/files/documents/1118/CLEANED007.%20CongNotificationInfoMemoSSCI%2010%20Apr%2009-Sealedpdf.pdf is a PDF\n",
        "http://www.dni.gov/files/documents/1118/CLEANED004.%20Cover%20Memo-Sealed.pdf is a PDF\n",
        "http://www.dni.gov/files/documents/1118/CLEANED010.%20RFI%20Response_SSCI%20Gottte...es%201%20December%202010-Sealed.pdf is a PDF\n",
        "http://www.dni.gov/files/documents/1118/CLEANED016.%20REDACTED%20BR%2006-05%20Exhibits%20C%20%28Memo%20of%20Law%29%20and%20D-Sealed.pdf is a PDF\n",
        "http://www.dni.gov/files/documents/1118/CLEANED86M%20FBI%20and%20AG%20Testimony.pdf is a PDF\n",
        "http://www.dni.gov/files/documents/1118/CLEANEDPRTT%201.pdf is a PDF\n",
        "http://www.dni.gov/files/documents/1118/CLEANEDPRTT%202.pdf is a PDF\n",
        "http://www.dni.gov/files/documents/1118/CLEANED101.%20Order%20and%20Supplemental%20Order%20%286-22-09%29-sealed.pdf is a PDF\n",
        "http://www.dni.gov/files/documents/1118/CLEANED045.%20NSA%2045-Day%20Report.pdf is a PDF\n",
        "http://www.dni.gov/files/documents/1118/CLEANED031.%20August%202006%20Report.pdf is a PDF\n",
        "http://www.dni.gov/files/documents/1118/CLEANED042.%20%20FISC%20briefing%20on%20BR%20%281%20Sept%202009%29-Sealed.pdf is a PDF\n",
        "http://www.dni.gov/files/documents/1118/CLEANED95.pdf is a PDF\n",
        "http://www.dni.gov/files/documents/1118/CLEANED034.%20BR%2009-01%2010%28c%29%20Notice%20Filed%205-8-09%29-Sealed.pdf is a PDF\n",
        "http://www.dni.gov/files/documents/1118/CLEANED089.T.BR%2006-05%20Motions%20and%20Or...Unseal%2016AUGU-1-17-Sealed.pdf is a PDF\n",
        "http://www.dni.gov/files/documents/1118/CLEANEDFinal%20USSID%20SP0018%20Annex%20J.pdf is a PDF\n",
        "http://www.dni.gov/files/documents/1118/CLEANEDFinal%20USSID%20SP0018.pdf is a PDF\n",
        "http://www.dni.gov/files/documents/1118/CLEANED020.%20Verification%20Requirement.pdf is a PDF\n",
        "http://www.dni.gov/files/documents/1118/CLEANED096.%20NSA%20summary%20of%20BR%20requirements%20%28maybe%20Feb%202009%29-.pdf is a PDF\n",
        "http://www.dni.gov/files/documents/1118/CLEANED032.%20Basket%202%20-%20NSA%20training.log.pdf is a PDF\n",
        "http://www.dni.gov/files/documents/1118/CLEANED044.%20Interim%20Competency%20Test%20...s%20to%20BR%20FISA%20Data..pdf is a PDF\n",
        "http://www.dni.gov/files/documents/1118/CLEANED049.%20%20OVSC1204%20v1OGCAprl15.pdf is a PDF\n",
        "http://www.dni.gov/files/documents/1118/CLEANED021.extracts.%20Minimization%20Pr...cted%20from%20file%20021-Sealed.pdf is a PDF\n",
        "http://www.dni.gov/files/documents/1118/CLEANED019.%20NSA%20OGC%20Training%20Materia...d%20to%20OI%20on%202-20-09.pdf is a PDF\n",
        "http://www.dni.gov/files/documents/1118/CLEANED116%20AG%20Guidelines.pdf is a PDF\n",
        "http://www.dni.gov/files/documents/1118/CLEANED022.%20NSA%20Core%20Intelligence%20Oversight%20Training.pdf is a PDF\n",
        "http://www.dni.gov/files/documents/1118/CLEANEDOVSC1205_1206_L0_storyboard_v13_Final.pdf is a PDF\n",
        "http://www.dni.gov/files/documents/1118/CLEANEDOVSC1205_L1_storyboard_v17_Final.pdf is a PDF\n",
        "http://www.dni.gov/files/documents/1118/CLEANEDOVSC1205_L2_storyboard_v16_Final.pdf is a PDF\n",
        "http://www.dni.gov/files/documents/1118/CLEANEDOVSC1205_L3_storyboard_v22_Final.pdf is a PDF\n",
        "http://www.dni.gov/files/documents/1118/CLEANEDOVSC1205_L4_storyboard_v28_Final.pdf is a PDF\n",
        "http://www.dni.gov/files/documents/1118/CLEANEDOVSC1205_L5_storyboard_v24_Final.pdf is a PDF\n",
        "http://www.dni.gov/files/documents/1118/CLEANEDOVSC1205_L6A_storyboard_v18_Final-Sealed.pdf is a PDF\n",
        "http://www.dni.gov/files/documents/1118/CLEANEDOVSC1206_M6T_storyboard_v25_Final.pdf is a PDF\n",
        "searching http://icontherecord.tumblr.com/post/67419963949/dni-clapper-declassifies-additional-intelligence ..."
       ]
      },
      {
       "output_type": "stream",
       "stream": "stdout",
       "text": [
        "\n",
        "http://www.dni.gov/files/documents/1118/CLEANED085.%20Report%20to%20Congress%20April%2006.pdf is a PDF\n",
        "http://www.dni.gov/files/documents/1118/CLEANED086.%20Report%20to%20Congress%20April%2007.pdf is a PDF\n",
        "http://www.dni.gov/files/documents/1118/CLEANED087.%20Report%20to%20Congress%20April%2008.pdf is a PDF\n",
        "http://www.dni.gov/files/documents/1118/CLEANED088.%20Report%20to%20Congress%20Pursu...hority%20May%2009%29%20-%20Redacted.pdf is a PDF\n",
        "http://www.dni.gov/files/documents/1118/CLEANED089.%20Report%20to%20Congress%20April%2010.pdf is a PDF\n",
        "http://www.dni.gov/files/documents/1118/CLEANED090.%20Report%20to%20Congress%20Pursu...thority%20April%2011%20Redacted.pdf is a PDF\n",
        "http://www.dni.gov/files/documents/1118/CLEANED091.%20Report%20to%20Congress%20April%2012.pdf is a PDF\n",
        "http://www.dni.gov/files/documents/1118/CLEANED007.%20CongNotificationInfoMemoSSCI%2010%20Apr%2009-Sealedpdf.pdf is a PDF\n",
        "http://www.dni.gov/files/documents/1118/CLEANED004.%20Cover%20Memo-Sealed.pdf is a PDF\n",
        "http://www.dni.gov/files/documents/1118/CLEANED010.%20RFI%20Response_SSCI%20Gottte...es%201%20December%202010-Sealed.pdf is a PDF\n",
        "http://www.dni.gov/files/documents/1118/CLEANED016.%20REDACTED%20BR%2006-05%20Exhibits%20C%20%28Memo%20of%20Law%29%20and%20D-Sealed.pdf is a PDF\n",
        "http://www.dni.gov/files/documents/1118/CLEANED86M%20FBI%20and%20AG%20Testimony.pdf is a PDF\n",
        "http://www.dni.gov/files/documents/1118/CLEANEDPRTT%201.pdf is a PDF\n",
        "http://www.dni.gov/files/documents/1118/CLEANEDPRTT%202.pdf is a PDF\n",
        "http://www.dni.gov/files/documents/1118/CLEANED101.%20Order%20and%20Supplemental%20Order%20%286-22-09%29-sealed.pdf is a PDF\n",
        "http://www.dni.gov/files/documents/1118/CLEANED045.%20NSA%2045-Day%20Report.pdf is a PDF\n",
        "http://www.dni.gov/files/documents/1118/CLEANED031.%20August%202006%20Report.pdf is a PDF\n",
        "http://www.dni.gov/files/documents/1118/CLEANED042.%20%20FISC%20briefing%20on%20BR%20%281%20Sept%202009%29-Sealed.pdf is a PDF\n",
        "http://www.dni.gov/files/documents/1118/CLEANED95.pdf is a PDF\n",
        "http://www.dni.gov/files/documents/1118/CLEANED034.%20BR%2009-01%2010%28c%29%20Notice%20Filed%205-8-09%29-Sealed.pdf is a PDF\n",
        "http://www.dni.gov/files/documents/1118/CLEANED089.T.BR%2006-05%20Motions%20and%20Or...Unseal%2016AUGU-1-17-Sealed.pdf is a PDF\n",
        "http://www.dni.gov/files/documents/1118/CLEANEDFinal%20USSID%20SP0018%20Annex%20J.pdf is a PDF\n",
        "http://www.dni.gov/files/documents/1118/CLEANEDFinal%20USSID%20SP0018.pdf is a PDF\n",
        "http://www.dni.gov/files/documents/1118/CLEANED020.%20Verification%20Requirement.pdf is a PDF\n",
        "http://www.dni.gov/files/documents/1118/CLEANED096.%20NSA%20summary%20of%20BR%20requirements%20%28maybe%20Feb%202009%29-.pdf is a PDF\n",
        "http://www.dni.gov/files/documents/1118/CLEANED032.%20Basket%202%20-%20NSA%20training.log.pdf is a PDF\n",
        "http://www.dni.gov/files/documents/1118/CLEANED044.%20Interim%20Competency%20Test%20...s%20to%20BR%20FISA%20Data..pdf is a PDF\n",
        "http://www.dni.gov/files/documents/1118/CLEANED049.%20%20OVSC1204%20v1OGCAprl15.pdf is a PDF\n",
        "http://www.dni.gov/files/documents/1118/CLEANED021.extracts.%20Minimization%20Pr...cted%20from%20file%20021-Sealed.pdf is a PDF\n",
        "http://www.dni.gov/files/documents/1118/CLEANED019.%20NSA%20OGC%20Training%20Materia...d%20to%20OI%20on%202-20-09.pdf is a PDF\n",
        "http://www.dni.gov/files/documents/1118/CLEANED116%20AG%20Guidelines.pdf is a PDF\n",
        "http://www.dni.gov/files/documents/1118/CLEANED022.%20NSA%20Core%20Intelligence%20Oversight%20Training.pdf is a PDF\n",
        "http://www.dni.gov/files/documents/1118/CLEANEDOVSC1205_1206_L0_storyboard_v13_Final.pdf is a PDF\n",
        "http://www.dni.gov/files/documents/1118/CLEANEDOVSC1205_L1_storyboard_v17_Final.pdf is a PDF\n",
        "http://www.dni.gov/files/documents/1118/CLEANEDOVSC1205_L2_storyboard_v16_Final.pdf is a PDF\n",
        "http://www.dni.gov/files/documents/1118/CLEANEDOVSC1205_L3_storyboard_v22_Final.pdf is a PDF\n",
        "http://www.dni.gov/files/documents/1118/CLEANEDOVSC1205_L4_storyboard_v28_Final.pdf is a PDF\n",
        "http://www.dni.gov/files/documents/1118/CLEANEDOVSC1205_L5_storyboard_v24_Final.pdf is a PDF\n",
        "http://www.dni.gov/files/documents/1118/CLEANEDOVSC1205_L6A_storyboard_v18_Final-Sealed.pdf is a PDF\n",
        "http://www.dni.gov/files/documents/1118/CLEANEDOVSC1206_M6T_storyboard_v25_Final.pdf is a PDF\n",
        "searching http://icontherecord.tumblr.com/post/67419963949/dni-clapper-declassifies-additional-intelligence ..."
       ]
      },
      {
       "output_type": "stream",
       "stream": "stdout",
       "text": [
        "\n",
        "http://www.dni.gov/files/documents/1118/CLEANED085.%20Report%20to%20Congress%20April%2006.pdf is a PDF\n",
        "http://www.dni.gov/files/documents/1118/CLEANED086.%20Report%20to%20Congress%20April%2007.pdf is a PDF\n",
        "http://www.dni.gov/files/documents/1118/CLEANED087.%20Report%20to%20Congress%20April%2008.pdf is a PDF\n",
        "http://www.dni.gov/files/documents/1118/CLEANED088.%20Report%20to%20Congress%20Pursu...hority%20May%2009%29%20-%20Redacted.pdf is a PDF\n",
        "http://www.dni.gov/files/documents/1118/CLEANED089.%20Report%20to%20Congress%20April%2010.pdf is a PDF\n",
        "http://www.dni.gov/files/documents/1118/CLEANED090.%20Report%20to%20Congress%20Pursu...thority%20April%2011%20Redacted.pdf is a PDF\n",
        "http://www.dni.gov/files/documents/1118/CLEANED091.%20Report%20to%20Congress%20April%2012.pdf is a PDF\n",
        "http://www.dni.gov/files/documents/1118/CLEANED007.%20CongNotificationInfoMemoSSCI%2010%20Apr%2009-Sealedpdf.pdf is a PDF\n",
        "http://www.dni.gov/files/documents/1118/CLEANED004.%20Cover%20Memo-Sealed.pdf is a PDF\n",
        "http://www.dni.gov/files/documents/1118/CLEANED010.%20RFI%20Response_SSCI%20Gottte...es%201%20December%202010-Sealed.pdf is a PDF\n",
        "http://www.dni.gov/files/documents/1118/CLEANED016.%20REDACTED%20BR%2006-05%20Exhibits%20C%20%28Memo%20of%20Law%29%20and%20D-Sealed.pdf is a PDF\n",
        "http://www.dni.gov/files/documents/1118/CLEANED86M%20FBI%20and%20AG%20Testimony.pdf is a PDF\n",
        "http://www.dni.gov/files/documents/1118/CLEANEDPRTT%201.pdf is a PDF\n",
        "http://www.dni.gov/files/documents/1118/CLEANEDPRTT%202.pdf is a PDF\n",
        "http://www.dni.gov/files/documents/1118/CLEANED101.%20Order%20and%20Supplemental%20Order%20%286-22-09%29-sealed.pdf is a PDF\n",
        "http://www.dni.gov/files/documents/1118/CLEANED045.%20NSA%2045-Day%20Report.pdf is a PDF\n",
        "http://www.dni.gov/files/documents/1118/CLEANED031.%20August%202006%20Report.pdf is a PDF\n",
        "http://www.dni.gov/files/documents/1118/CLEANED042.%20%20FISC%20briefing%20on%20BR%20%281%20Sept%202009%29-Sealed.pdf is a PDF\n",
        "http://www.dni.gov/files/documents/1118/CLEANED95.pdf is a PDF\n",
        "http://www.dni.gov/files/documents/1118/CLEANED034.%20BR%2009-01%2010%28c%29%20Notice%20Filed%205-8-09%29-Sealed.pdf is a PDF\n",
        "http://www.dni.gov/files/documents/1118/CLEANED089.T.BR%2006-05%20Motions%20and%20Or...Unseal%2016AUGU-1-17-Sealed.pdf is a PDF\n",
        "http://www.dni.gov/files/documents/1118/CLEANEDFinal%20USSID%20SP0018%20Annex%20J.pdf is a PDF\n",
        "http://www.dni.gov/files/documents/1118/CLEANEDFinal%20USSID%20SP0018.pdf is a PDF\n",
        "http://www.dni.gov/files/documents/1118/CLEANED020.%20Verification%20Requirement.pdf is a PDF\n",
        "http://www.dni.gov/files/documents/1118/CLEANED096.%20NSA%20summary%20of%20BR%20requirements%20%28maybe%20Feb%202009%29-.pdf is a PDF\n",
        "http://www.dni.gov/files/documents/1118/CLEANED032.%20Basket%202%20-%20NSA%20training.log.pdf is a PDF\n",
        "http://www.dni.gov/files/documents/1118/CLEANED044.%20Interim%20Competency%20Test%20...s%20to%20BR%20FISA%20Data..pdf is a PDF\n",
        "http://www.dni.gov/files/documents/1118/CLEANED049.%20%20OVSC1204%20v1OGCAprl15.pdf is a PDF\n",
        "http://www.dni.gov/files/documents/1118/CLEANED021.extracts.%20Minimization%20Pr...cted%20from%20file%20021-Sealed.pdf is a PDF\n",
        "http://www.dni.gov/files/documents/1118/CLEANED019.%20NSA%20OGC%20Training%20Materia...d%20to%20OI%20on%202-20-09.pdf is a PDF\n",
        "http://www.dni.gov/files/documents/1118/CLEANED116%20AG%20Guidelines.pdf is a PDF\n",
        "http://www.dni.gov/files/documents/1118/CLEANED022.%20NSA%20Core%20Intelligence%20Oversight%20Training.pdf is a PDF\n",
        "http://www.dni.gov/files/documents/1118/CLEANEDOVSC1205_1206_L0_storyboard_v13_Final.pdf is a PDF\n",
        "http://www.dni.gov/files/documents/1118/CLEANEDOVSC1205_L1_storyboard_v17_Final.pdf is a PDF\n",
        "http://www.dni.gov/files/documents/1118/CLEANEDOVSC1205_L2_storyboard_v16_Final.pdf is a PDF\n",
        "http://www.dni.gov/files/documents/1118/CLEANEDOVSC1205_L3_storyboard_v22_Final.pdf is a PDF\n",
        "http://www.dni.gov/files/documents/1118/CLEANEDOVSC1205_L4_storyboard_v28_Final.pdf is a PDF\n",
        "http://www.dni.gov/files/documents/1118/CLEANEDOVSC1205_L5_storyboard_v24_Final.pdf is a PDF\n",
        "http://www.dni.gov/files/documents/1118/CLEANEDOVSC1205_L6A_storyboard_v18_Final-Sealed.pdf is a PDF\n",
        "http://www.dni.gov/files/documents/1118/CLEANEDOVSC1206_M6T_storyboard_v25_Final.pdf is a PDF\n",
        "searching http://www.theguardian.com/world/2013/nov/18/australia-tried-to-monitor-indonesian-presidents-phone ..."
       ]
      },
      {
       "output_type": "stream",
       "stream": "stdout",
       "text": [
        "\n",
        "searching http://www.spiegel.de/international/europe/gchq-monitors-hotel-reservations-to-track-diplomats-a-933914.html ..."
       ]
      },
      {
       "output_type": "stream",
       "stream": "stdout",
       "text": [
        "\n",
        "searching http://www.elmundo.es/internacional/2013/11/04/52769eb561fd3d6d0a8b4582.html ..."
       ]
      },
      {
       "output_type": "stream",
       "stream": "stdout",
       "text": [
        "\n",
        "searching http://www.elmundo.es/internacional/2013/11/04/52769eb561fd3d6d0a8b4582.html ..."
       ]
      },
      {
       "output_type": "stream",
       "stream": "stdout",
       "text": [
        "\n",
        "searching http://www.washingtonpost.com/blogs/the-switch/wp/2013/11/04/how-we-know-the-nsa-had-access-to-internal-google-and-yahoo-cloud-data/ ..."
       ]
      },
      {
       "output_type": "stream",
       "stream": "stdout",
       "text": [
        "\n",
        "a post document! http://apps.washingtonpost.com/g/page/world/what-yahoo-and-google-did-not-think-the-nsa-could-see/555/\n",
        "a post document! http://apps.washingtonpost.com/g/page/world/what-yahoo-and-google-did-not-think-the-nsa-could-see/555/\n",
        "a post document! http://apps.washingtonpost.com/g/page/world/the-nsas-three-types-of-cable-interception-programs/553/\n",
        "a post document! http://apps.washingtonpost.com/g/page/world/what-yahoo-and-google-did-not-think-the-nsa-could-see/555/\n",
        "a post document! http://apps.washingtonpost.com/g/page/world/the-nsas-three-types-of-cable-interception-programs/553/\n",
        "a post document! http://apps.washingtonpost.com/g/page/world/one-month-hundreds-of-millions-of-records-collected/554/\n",
        "searching http://www.washingtonpost.com/blogs/the-switch/wp/2013/11/04/how-we-know-the-nsa-had-access-to-internal-google-and-yahoo-cloud-data/ ..."
       ]
      },
      {
       "output_type": "stream",
       "stream": "stdout",
       "text": [
        "\n",
        "a post document! http://apps.washingtonpost.com/g/page/world/what-yahoo-and-google-did-not-think-the-nsa-could-see/555/\n",
        "a post document! http://apps.washingtonpost.com/g/page/world/what-yahoo-and-google-did-not-think-the-nsa-could-see/555/\n",
        "a post document! http://apps.washingtonpost.com/g/page/world/the-nsas-three-types-of-cable-interception-programs/553/\n",
        "a post document! http://apps.washingtonpost.com/g/page/world/what-yahoo-and-google-did-not-think-the-nsa-could-see/555/\n",
        "a post document! http://apps.washingtonpost.com/g/page/world/the-nsas-three-types-of-cable-interception-programs/553/\n",
        "a post document! http://apps.washingtonpost.com/g/page/world/one-month-hundreds-of-millions-of-records-collected/554/\n",
        "searching http://www.washingtonpost.com/blogs/the-switch/wp/2013/11/04/how-we-know-the-nsa-had-access-to-internal-google-and-yahoo-cloud-data/ ..."
       ]
      },
      {
       "output_type": "stream",
       "stream": "stdout",
       "text": [
        "\n",
        "a post document! http://apps.washingtonpost.com/g/page/world/what-yahoo-and-google-did-not-think-the-nsa-could-see/555/\n",
        "a post document! http://apps.washingtonpost.com/g/page/world/what-yahoo-and-google-did-not-think-the-nsa-could-see/555/\n",
        "a post document! http://apps.washingtonpost.com/g/page/world/the-nsas-three-types-of-cable-interception-programs/553/\n",
        "a post document! http://apps.washingtonpost.com/g/page/world/what-yahoo-and-google-did-not-think-the-nsa-could-see/555/\n",
        "a post document! http://apps.washingtonpost.com/g/page/world/the-nsas-three-types-of-cable-interception-programs/553/\n",
        "a post document! http://apps.washingtonpost.com/g/page/world/one-month-hundreds-of-millions-of-records-collected/554/\n",
        "searching http://www.nytimes.com/2013/11/03/world/no-morsel-too-minuscule-for-all-consuming-nsa.html ..."
       ]
      },
      {
       "output_type": "stream",
       "stream": "stdout",
       "text": [
        "\n",
        "searching http://www.nytimes.com/2013/11/03/world/no-morsel-too-minuscule-for-all-consuming-nsa.html ..."
       ]
      },
      {
       "output_type": "stream",
       "stream": "stdout",
       "text": [
        "\n",
        "searching http://www.nytimes.com/2013/11/03/world/no-morsel-too-minuscule-for-all-consuming-nsa.html ..."
       ]
      },
      {
       "output_type": "stream",
       "stream": "stdout",
       "text": [
        "\n",
        "searching http://www.theguardian.com/world/2013/nov/01/nsa-data-collection-tech-firms ..."
       ]
      },
      {
       "output_type": "stream",
       "stream": "stdout",
       "text": [
        "\n",
        "searching http://www.washingtonpost.com/world/national-security/nsa-infiltrates-links-to-yahoo-google-data-centers-worldwide-snowden-documents-say/2013/10/30/e51d661e-4166-11e3-8b74-d89d714ca4dd_story.html ..."
       ]
      },
      {
       "output_type": "stream",
       "stream": "stdout",
       "text": [
        "\n",
        "a post document! http://apps.washingtonpost.com/g/page/world/how-the-nsas-muscular-program-collects-too-much-data-from-yahoo-and-google/543/\n",
        "a post document! http://apps.washingtonpost.com/g/page/national/the-nsa-is-hacking-private-networks/542/\n",
        "a post document! http://apps.washingtonpost.com/g/page/national/the-nsa-is-hacking-private-networks/542/\n",
        "searching http://www.washingtonpost.com/world/national-security/nsa-infiltrates-links-to-yahoo-google-data-centers-worldwide-snowden-documents-say/2013/10/30/e51d661e-4166-11e3-8b74-d89d714ca4dd_story.html ..."
       ]
      },
      {
       "output_type": "stream",
       "stream": "stdout",
       "text": [
        "\n",
        "a post document! http://apps.washingtonpost.com/g/page/world/how-the-nsas-muscular-program-collects-too-much-data-from-yahoo-and-google/543/"
       ]
      },
      {
       "output_type": "stream",
       "stream": "stdout",
       "text": [
        "\n",
        "a post document! http://apps.washingtonpost.com/g/page/national/the-nsa-is-hacking-private-networks/542/\n",
        "a post document! http://apps.washingtonpost.com/g/page/national/the-nsa-is-hacking-private-networks/542/\n",
        "searching http://www.elmundo.es/espana/2013/10/28/526dcbad61fd3d07678b456b.html ..."
       ]
      },
      {
       "output_type": "stream",
       "stream": "stdout",
       "text": [
        "\n",
        "searching http://www.spiegel.de/international/germany/cover-story-how-nsa-spied-on-merkel-cell-phone-from-berlin-embassy-a-930205.html ..."
       ]
      },
      {
       "output_type": "stream",
       "stream": "stdout",
       "text": [
        "\n",
        "searching http://www.lemonde.fr/technologies/article/2013/10/22/the-nsa-wiretapped-french-diplomats-in-the-us_3500733_651865.html ..."
       ]
      },
      {
       "output_type": "stream",
       "stream": "stdout",
       "text": [
        "\n",
        "https://www.documentcloud.org/documents/807030/ambassade.pdf is a PDF\n",
        "searching http://www.lemonde.fr/technologies/article/2013/10/22/the-nsa-wiretapped-french-diplomats-in-the-us_3500733_651865.html ..."
       ]
      },
      {
       "output_type": "stream",
       "stream": "stdout",
       "text": [
        "\n",
        "https://www.documentcloud.org/documents/807030/ambassade.pdf is a PDF\n",
        "searching http://www.theguardian.com/world/2013/oct/24/nsa-surveillance-world-leaders-calls ..."
       ]
      },
      {
       "output_type": "stream",
       "stream": "stdout",
       "text": [
        "\n",
        "searching http://www.lemonde.fr/international/article/2013/10/24/affaire-prism-une-ligne-rouge-a-ete-franchie-denonce-la-cnil_3501948_3210.html ..."
       ]
      },
      {
       "output_type": "stream",
       "stream": "stdout",
       "text": [
        "\n",
        "searching http://www.lemonde.fr/technologies/article/2013/10/21/france-in-the-nsa-s-crosshair-phone-networks-under-surveillance_3499741_651865.html ..."
       ]
      },
      {
       "output_type": "stream",
       "stream": "stdout",
       "text": [
        "\n",
        "searching http://www.lemonde.fr/technologies/article/2013/10/21/france-in-the-nsa-s-crosshair-phone-networks-under-surveillance_3499741_651865.html ..."
       ]
      },
      {
       "output_type": "stream",
       "stream": "stdout",
       "text": [
        "\n",
        "searching http://www.spiegel.de/international/world/nsa-hacked-email-account-of-mexican-president-a-928817.html ..."
       ]
      },
      {
       "output_type": "stream",
       "stream": "stdout",
       "text": [
        "\n",
        "searching http://www.washingtonpost.com/world/national-security/nsa-collects-millions-of-e-mail-address-books-globally/2013/10/14/8e58b5be-34f9-11e3-80c6-7e6dd8d22d8f_story.html ..."
       ]
      },
      {
       "output_type": "stream",
       "stream": "stdout",
       "text": [
        "\n",
        "a post document! http://apps.washingtonpost.com/g/page/world/the-nsas-overcollection-problem/517/"
       ]
      },
      {
       "output_type": "stream",
       "stream": "stdout",
       "text": [
        "\n",
        "a post document! http://apps.washingtonpost.com/g/page/world/the-nsas-overcollection-problem/517/\n",
        "a post document! http://apps.washingtonpost.com/g/page/world/the-nsas-overcollection-problem/517/\n",
        "a post document! http://apps.washingtonpost.com/g/page/world/the-nsas-overcollection-problem/517/\n",
        "a post document! http://apps.washingtonpost.com/g/page/world/how-the-nsa-tried-to-collect-less/518/\n",
        "a post document! http://apps.washingtonpost.com/g/page/world/an-excerpt-from-intellipedia/519/\n",
        "a post document! http://apps.washingtonpost.com/g/page/world/the-nsas-overcollection-problem/517/\n",
        "a post document! http://apps.washingtonpost.com/g/page/world/how-the-nsa-tried-to-collect-less/518/\n",
        "searching http://www.washingtonpost.com/world/national-security/nsa-collects-millions-of-e-mail-address-books-globally/2013/10/14/8e58b5be-34f9-11e3-80c6-7e6dd8d22d8f_story.html ..."
       ]
      },
      {
       "output_type": "stream",
       "stream": "stdout",
       "text": [
        "\n",
        "a post document! http://apps.washingtonpost.com/g/page/world/the-nsas-overcollection-problem/517/"
       ]
      },
      {
       "output_type": "stream",
       "stream": "stdout",
       "text": [
        "\n",
        "a post document! http://apps.washingtonpost.com/g/page/world/the-nsas-overcollection-problem/517/\n",
        "a post document! http://apps.washingtonpost.com/g/page/world/the-nsas-overcollection-problem/517/\n",
        "a post document! http://apps.washingtonpost.com/g/page/world/the-nsas-overcollection-problem/517/\n",
        "a post document! http://apps.washingtonpost.com/g/page/world/how-the-nsa-tried-to-collect-less/518/\n",
        "a post document! http://apps.washingtonpost.com/g/page/world/an-excerpt-from-intellipedia/519/\n",
        "a post document! http://apps.washingtonpost.com/g/page/world/the-nsas-overcollection-problem/517/\n",
        "a post document! http://apps.washingtonpost.com/g/page/world/how-the-nsa-tried-to-collect-less/518/\n",
        "searching http://www.washingtonpost.com/world/national-security/nsa-collects-millions-of-e-mail-address-books-globally/2013/10/14/8e58b5be-34f9-11e3-80c6-7e6dd8d22d8f_story.html ..."
       ]
      },
      {
       "output_type": "stream",
       "stream": "stdout",
       "text": [
        "\n",
        "a post document! http://apps.washingtonpost.com/g/page/world/the-nsas-overcollection-problem/517/"
       ]
      },
      {
       "output_type": "stream",
       "stream": "stdout",
       "text": [
        "\n",
        "a post document! http://apps.washingtonpost.com/g/page/world/the-nsas-overcollection-problem/517/\n",
        "a post document! http://apps.washingtonpost.com/g/page/world/the-nsas-overcollection-problem/517/\n",
        "a post document! http://apps.washingtonpost.com/g/page/world/the-nsas-overcollection-problem/517/\n",
        "a post document! http://apps.washingtonpost.com/g/page/world/how-the-nsa-tried-to-collect-less/518/\n",
        "a post document! http://apps.washingtonpost.com/g/page/world/an-excerpt-from-intellipedia/519/\n",
        "a post document! http://apps.washingtonpost.com/g/page/world/the-nsas-overcollection-problem/517/\n",
        "a post document! http://apps.washingtonpost.com/g/page/world/how-the-nsa-tried-to-collect-less/518/\n",
        "searching http://g1.globo.com/fantastico/noticia/2013/10/american-and-canadian-spies-target-brazilian-energy-and-mining-ministry.html ..."
       ]
      },
      {
       "output_type": "stream",
       "stream": "stdout",
       "text": [
        "\n",
        "searching http://www.theguardian.com/world/2013/oct/04/nsa-gchq-attack-tor-network-encryption ..."
       ]
      },
      {
       "output_type": "stream",
       "stream": "stdout",
       "text": [
        "\n",
        "searching http://www.theguardian.com/world/2013/oct/04/nsa-gchq-attack-tor-network-encryption ..."
       ]
      },
      {
       "output_type": "stream",
       "stream": "stdout",
       "text": [
        "\n",
        "searching http://www.theguardian.com/world/2013/oct/04/nsa-gchq-attack-tor-network-encryption ..."
       ]
      },
      {
       "output_type": "stream",
       "stream": "stdout",
       "text": [
        "\n",
        "searching http://articles.washingtonpost.com/2013-10-04/world/42704372_1_ramp-statistics-steganography ..."
       ]
      },
      {
       "output_type": "stream",
       "stream": "stdout",
       "text": [
        "\n",
        "a post document! http://apps.washingtonpost.com/g/page/world/nsa-slideshow-on-the-tor-problem/499/"
       ]
      },
      {
       "output_type": "stream",
       "stream": "stdout",
       "text": [
        "\n",
        "a post document! http://apps.washingtonpost.com/g/page/world/nsa-slideshow-on-the-tor-problem/499/\n",
        "searching http://js.washingtonpost.com/world/national-security/secret-nsa-documents-show-campaign-against-tor-encrypted-network/2013/10/04/610f08b6-2d05-11e3-8ade-a1f23cda135e_story.html ..."
       ]
      },
      {
       "output_type": "stream",
       "stream": "stdout",
       "text": [
        "\n",
        "a post document! http://apps.washingtonpost.com/g/page/world/nsa-slideshow-on-the-tor-problem/499/"
       ]
      },
      {
       "output_type": "stream",
       "stream": "stdout",
       "text": [
        "\n",
        "a post document! http://apps.washingtonpost.com/g/page/world/nsa-slideshow-on-the-tor-problem/499/\n",
        "a post document! http://apps.washingtonpost.com/g/page/world/nsa-research-report-on-the-tor-encryption-program/501/\n",
        "searching http://js.washingtonpost.com/world/national-security/secret-nsa-documents-show-campaign-against-tor-encrypted-network/2013/10/04/610f08b6-2d05-11e3-8ade-a1f23cda135e_story.html ..."
       ]
      },
      {
       "output_type": "stream",
       "stream": "stdout",
       "text": [
        "\n",
        "a post document! http://apps.washingtonpost.com/g/page/world/nsa-slideshow-on-the-tor-problem/499/"
       ]
      },
      {
       "output_type": "stream",
       "stream": "stdout",
       "text": [
        "\n",
        "a post document! http://apps.washingtonpost.com/g/page/world/nsa-slideshow-on-the-tor-problem/499/\n",
        "a post document! http://apps.washingtonpost.com/g/page/world/nsa-research-report-on-the-tor-encryption-program/501/\n",
        "searching http://www.nytimes.com/2013/09/29/us/nsa-examines-social-networks-of-us-citizens.html ..."
       ]
      },
      {
       "output_type": "stream",
       "stream": "stdout",
       "text": [
        "\n",
        "searching http://www.nytimes.com/2013/09/29/us/nsa-examines-social-networks-of-us-citizens.html ..."
       ]
      },
      {
       "output_type": "stream",
       "stream": "stdout",
       "text": [
        "\n",
        "searching http://www.spiegel.de/international/europe/british-spy-agency-gchq-hacked-belgian-telecoms-firm-a-923406.html ..."
       ]
      },
      {
       "output_type": "stream",
       "stream": "stdout",
       "text": [
        "\n",
        "searching http://www.spiegel.de/international/world/how-the-nsa-spies-on-international-bank-transactions-a-922430.html ..."
       ]
      },
      {
       "output_type": "stream",
       "stream": "stdout",
       "text": [
        "\n",
        "searching http://www.theguardian.com/world/2013/sep/11/nsa-americans-personal-data-israel-documents ..."
       ]
      },
      {
       "output_type": "stream",
       "stream": "stdout",
       "text": [
        "\n",
        "searching http://www.theguardian.com/world/2013/sep/05/nsa-gchq-encryption-codes-security ..."
       ]
      },
      {
       "output_type": "stream",
       "stream": "stdout",
       "text": [
        "\n",
        "searching http://g1.globo.com/fantastico/noticia/2013/09/nsa-documents-show-united-states-spied-brazilian-oil-giant.html ..."
       ]
      },
      {
       "output_type": "stream",
       "stream": "stdout",
       "text": [
        "\n",
        "searching http://g1.globo.com/fantastico/noticia/2013/09/nsa-documents-show-united-states-spied-brazilian-oil-giant.html ..."
       ]
      },
      {
       "output_type": "stream",
       "stream": "stdout",
       "text": [
        "\n",
        "searching http://www.theguardian.com/world/2013/sep/05/nsa-gchq-encryption-codes-security ..."
       ]
      },
      {
       "output_type": "stream",
       "stream": "stdout",
       "text": [
        "\n",
        "searching http://www.theguardian.com/world/2013/sep/05/nsa-gchq-encryption-codes-security ..."
       ]
      },
      {
       "output_type": "stream",
       "stream": "stdout",
       "text": [
        "\n",
        "searching http://www.theguardian.com/world/2013/sep/05/nsa-gchq-encryption-codes-security ..."
       ]
      },
      {
       "output_type": "stream",
       "stream": "stdout",
       "text": [
        "\n",
        "searching http://g1.globo.com/fantastico/noticia/2013/09/veja-os-documentos-ultrassecretos-que-comprovam-espionagem-dilma.html ..."
       ]
      },
      {
       "output_type": "stream",
       "stream": "stdout",
       "text": [
        "\n",
        "searching http://www.spiegel.de/international/world/nsa-targeted-french-foreign-ministry-a-919693.html ..."
       ]
      },
      {
       "output_type": "stream",
       "stream": "stdout",
       "text": [
        "\n",
        "searching http://www.spiegel.de/international/world/nsa-spied-on-al-jazeera-communications-snowden-document-a-919681.html ..."
       ]
      },
      {
       "output_type": "stream",
       "stream": "stdout",
       "text": [
        "\n",
        "searching http://www.washingtonpost.com/world/national-security/black-budget-summary-details-us-spy-networks-successes-failures-and-objectives/2013/08/29/7e57bb78-10ab-11e3-8cdd-bcdc09410972_story.html ..."
       ]
      },
      {
       "output_type": "stream",
       "stream": "stdout",
       "text": [
        "\n",
        "a post document! http://apps.washingtonpost.com/g/page/national/inside-the-2013-us-intelligence-black-budget/420/"
       ]
      },
      {
       "output_type": "stream",
       "stream": "stdout",
       "text": [
        "\n",
        "a post document! http://apps.washingtonpost.com/g/page/national/inside-the-2013-us-intelligence-black-budget/420/\n",
        "a post document! http://apps.washingtonpost.com/g/page/national/inside-the-2013-us-intelligence-black-budget/420/?hpid=z1#document/p3/a117359\n",
        "searching http://www.theguardian.com/world/2013/aug/23/nsa-prism-costs-tech-companies-paid ..."
       ]
      },
      {
       "output_type": "stream",
       "stream": "stdout",
       "text": [
        "\n",
        "searching http://www.washingtonpost.com/world/national-security/nsa-broke-privacy-rules-thousands-of-times-per-year-audit-finds/2013/08/15/3310e554-05ca-11e3-a07f-49ddc7417125_story.html ..."
       ]
      },
      {
       "output_type": "stream",
       "stream": "stdout",
       "text": [
        "\n",
        "a post document! http://apps.washingtonpost.com/g/page/national/nsa-report-on-privacy-violations-in-the-first-quarter-of-2012/395/"
       ]
      },
      {
       "output_type": "stream",
       "stream": "stdout",
       "text": [
        "\n",
        "a post document! http://apps.washingtonpost.com/g/page/national/what-to-say-and-not-to-say-to-our-overseers/390/\n",
        "a post document! http://apps.washingtonpost.com/g/page/national/nsa-report-on-privacy-violations-in-the-first-quarter-of-2012/395/\n",
        "a post document! http://apps.washingtonpost.com/g/page/national/nsa-report-on-privacy-violations-in-the-first-quarter-of-2012/395/\n",
        "a post document! http://apps.washingtonpost.com/g/page/national/first-direct-evidence-of-illegal-surveillance-found-by-the-fisa-court/393/\n",
        "a post document! http://apps.washingtonpost.com/g/page/national/whats-a-violation/391/\n",
        "a post document! http://apps.washingtonpost.com/g/page/national/what-to-say-and-not-to-say-to-our-overseers/390/\n",
        "a post document! http://apps.washingtonpost.com/g/page/national/nsa-report-on-privacy-violations-in-the-first-quarter-of-2012/395/\n",
        "a post document! http://apps.washingtonpost.com/g/page/national/nsa-report-on-privacy-violations-in-the-first-quarter-of-2012/395/\n",
        "searching http://www.washingtonpost.com/world/national-security/nsa-broke-privacy-rules-thousands-of-times-per-year-audit-finds/2013/08/15/3310e554-05ca-11e3-a07f-49ddc7417125_story.html ..."
       ]
      },
      {
       "output_type": "stream",
       "stream": "stdout",
       "text": [
        "\n",
        "a post document! http://apps.washingtonpost.com/g/page/national/nsa-report-on-privacy-violations-in-the-first-quarter-of-2012/395/"
       ]
      },
      {
       "output_type": "stream",
       "stream": "stdout",
       "text": [
        "\n",
        "a post document! http://apps.washingtonpost.com/g/page/national/what-to-say-and-not-to-say-to-our-overseers/390/\n",
        "a post document! http://apps.washingtonpost.com/g/page/national/nsa-report-on-privacy-violations-in-the-first-quarter-of-2012/395/\n",
        "a post document! http://apps.washingtonpost.com/g/page/national/nsa-report-on-privacy-violations-in-the-first-quarter-of-2012/395/\n",
        "a post document! http://apps.washingtonpost.com/g/page/national/first-direct-evidence-of-illegal-surveillance-found-by-the-fisa-court/393/\n",
        "a post document! http://apps.washingtonpost.com/g/page/national/whats-a-violation/391/\n",
        "a post document! http://apps.washingtonpost.com/g/page/national/what-to-say-and-not-to-say-to-our-overseers/390/\n",
        "a post document! http://apps.washingtonpost.com/g/page/national/nsa-report-on-privacy-violations-in-the-first-quarter-of-2012/395/\n",
        "a post document! http://apps.washingtonpost.com/g/page/national/nsa-report-on-privacy-violations-in-the-first-quarter-of-2012/395/\n",
        "searching http://www.washingtonpost.com/world/national-security/nsa-broke-privacy-rules-thousands-of-times-per-year-audit-finds/2013/08/15/3310e554-05ca-11e3-a07f-49ddc7417125_story.html ..."
       ]
      },
      {
       "output_type": "stream",
       "stream": "stdout",
       "text": [
        "\n",
        "a post document! http://apps.washingtonpost.com/g/page/national/nsa-report-on-privacy-violations-in-the-first-quarter-of-2012/395/\n",
        "a post document! http://apps.washingtonpost.com/g/page/national/what-to-say-and-not-to-say-to-our-overseers/390/\n",
        "a post document! http://apps.washingtonpost.com/g/page/national/nsa-report-on-privacy-violations-in-the-first-quarter-of-2012/395/\n",
        "a post document! http://apps.washingtonpost.com/g/page/national/nsa-report-on-privacy-violations-in-the-first-quarter-of-2012/395/\n",
        "a post document! http://apps.washingtonpost.com/g/page/national/first-direct-evidence-of-illegal-surveillance-found-by-the-fisa-court/393/\n",
        "a post document! http://apps.washingtonpost.com/g/page/national/whats-a-violation/391/\n",
        "a post document! http://apps.washingtonpost.com/g/page/national/what-to-say-and-not-to-say-to-our-overseers/390/\n",
        "a post document! http://apps.washingtonpost.com/g/page/national/nsa-report-on-privacy-violations-in-the-first-quarter-of-2012/395/\n",
        "a post document! http://apps.washingtonpost.com/g/page/national/nsa-report-on-privacy-violations-in-the-first-quarter-of-2012/395/\n",
        "searching http://www.washingtonpost.com/world/national-security/nsa-broke-privacy-rules-thousands-of-times-per-year-audit-finds/2013/08/15/3310e554-05ca-11e3-a07f-49ddc7417125_story.html ..."
       ]
      },
      {
       "output_type": "stream",
       "stream": "stdout",
       "text": [
        "\n",
        "a post document! http://apps.washingtonpost.com/g/page/national/nsa-report-on-privacy-violations-in-the-first-quarter-of-2012/395/\n",
        "a post document! http://apps.washingtonpost.com/g/page/national/what-to-say-and-not-to-say-to-our-overseers/390/\n",
        "a post document! http://apps.washingtonpost.com/g/page/national/nsa-report-on-privacy-violations-in-the-first-quarter-of-2012/395/\n",
        "a post document! http://apps.washingtonpost.com/g/page/national/nsa-report-on-privacy-violations-in-the-first-quarter-of-2012/395/\n",
        "a post document! http://apps.washingtonpost.com/g/page/national/first-direct-evidence-of-illegal-surveillance-found-by-the-fisa-court/393/\n",
        "a post document! http://apps.washingtonpost.com/g/page/national/whats-a-violation/391/\n",
        "a post document! http://apps.washingtonpost.com/g/page/national/what-to-say-and-not-to-say-to-our-overseers/390/\n",
        "a post document! http://apps.washingtonpost.com/g/page/national/nsa-report-on-privacy-violations-in-the-first-quarter-of-2012/395/\n",
        "a post document! http://apps.washingtonpost.com/g/page/national/nsa-report-on-privacy-violations-in-the-first-quarter-of-2012/395/\n",
        "searching http://www.theguardian.com/world/2013/aug/09/nsa-loophole-warrantless-searches-email-calls ..."
       ]
      },
      {
       "output_type": "stream",
       "stream": "stdout",
       "text": [
        "\n",
        "searching http://www.theguardian.com/world/2013/jul/31/nsa-top-secret-program-online-data ..."
       ]
      },
      {
       "output_type": "stream",
       "stream": "stdout",
       "text": [
        "\n",
        "searching http://www.washingtonpost.com/wp-srv/special/politics/prism-collection-documents/ ..."
       ]
      },
      {
       "output_type": "stream",
       "stream": "stdout",
       "text": [
        "\n",
        "a post document! http://apps.washingtonpost.com/g/page/national/inner-workings-of-a-top-secret-spy-program/282/\n",
        "a post document! http://apps.washingtonpost.com/g/page/business/a-connected-world/305/\n",
        "searching http://www.theguardian.com/world/2013/jun/30/nsa-leaks-us-bugging-european-allies ..."
       ]
      },
      {
       "output_type": "stream",
       "stream": "stdout",
       "text": [
        "\n",
        "searching http://www.washingtonpost.com/wp-srv/special/politics/prism-collection-documents/ ..."
       ]
      },
      {
       "output_type": "stream",
       "stream": "stdout",
       "text": [
        "\n",
        "a post document! http://apps.washingtonpost.com/g/page/national/inner-workings-of-a-top-secret-spy-program/282/\n",
        "a post document! http://apps.washingtonpost.com/g/page/business/a-connected-world/305/\n",
        "searching http://www.theguardian.com/world/2013/jun/27/nsa-data-mining-authorised-obama ..."
       ]
      },
      {
       "output_type": "stream",
       "stream": "stdout",
       "text": [
        "\n",
        "a guardian document! http://www.guardian.co.uk/world/interactive/2013/jun/27/nsa-inspector-general-report-document-data-collection"
       ]
      },
      {
       "output_type": "stream",
       "stream": "stdout",
       "text": [
        "\n",
        "a guardian document! http://www.guardian.co.uk/world/interactive/2013/jun/27/nsa-data-collection-justice-department\n",
        "searching http://www.theguardian.com/world/2013/jun/27/nsa-data-mining-authorised-obama ..."
       ]
      },
      {
       "output_type": "stream",
       "stream": "stdout",
       "text": [
        "\n",
        "a guardian document! http://www.guardian.co.uk/world/interactive/2013/jun/27/nsa-inspector-general-report-document-data-collection"
       ]
      },
      {
       "output_type": "stream",
       "stream": "stdout",
       "text": [
        "\n",
        "a guardian document! http://www.guardian.co.uk/world/interactive/2013/jun/27/nsa-data-collection-justice-department\n",
        "searching http://www.theguardian.com/world/2013/jun/20/fisa-court-nsa-without-warrant ..."
       ]
      },
      {
       "output_type": "stream",
       "stream": "stdout",
       "text": [
        "\n",
        "a guardian document! http://www.guardian.co.uk/world/interactive/2013/jun/20/exhibit-a-procedures-nsa-document"
       ]
      },
      {
       "output_type": "stream",
       "stream": "stdout",
       "text": [
        "\n",
        "a guardian document! http://www.guardian.co.uk/world/interactive/2013/jun/20/exhibit-b-nsa-procedures-document\n",
        "searching http://www.theguardian.com/world/2013/jun/20/fisa-court-nsa-without-warrant ..."
       ]
      },
      {
       "output_type": "stream",
       "stream": "stdout",
       "text": [
        "\n",
        "a guardian document! http://www.guardian.co.uk/world/interactive/2013/jun/20/exhibit-a-procedures-nsa-document"
       ]
      },
      {
       "output_type": "stream",
       "stream": "stdout",
       "text": [
        "\n",
        "a guardian document! http://www.guardian.co.uk/world/interactive/2013/jun/20/exhibit-b-nsa-procedures-document\n",
        "searching http://www.theguardian.com/world/2013/jun/08/nsa-surveillance-prism-obama-live#block-51b36893e4b0cc6424372292 ..."
       ]
      },
      {
       "output_type": "stream",
       "stream": "stdout",
       "text": [
        "\n",
        "a guardian document! http://www.guardian.co.uk/world/interactive/2013/jun/08/boundless-informant-nsa-full-text"
       ]
      },
      {
       "output_type": "stream",
       "stream": "stdout",
       "text": [
        "\n",
        "a guardian document! http://www.guardian.co.uk/world/interactive/2013/jun/08/nsa-boundless-informant-data-mining-slides\n",
        "searching http://www.theguardian.com/world/2013/jun/08/nsa-boundless-informant-global-datamining ..."
       ]
      },
      {
       "output_type": "stream",
       "stream": "stdout",
       "text": [
        "\n",
        "a guardian document! http://www.guardian.co.uk/world/interactive/2013/jun/08/nsa-boundless-informant-data-mining-slides"
       ]
      },
      {
       "output_type": "stream",
       "stream": "stdout",
       "text": [
        "\n",
        "a guardian document! http://www.guardian.co.uk/world/interactive/2013/jun/08/boundless-informant-nsa-full-text\n",
        "searching http://www.theguardian.com/world/2013/jun/08/nsa-boundless-informant-global-datamining ..."
       ]
      },
      {
       "output_type": "stream",
       "stream": "stdout",
       "text": [
        "\n",
        "a guardian document! http://www.guardian.co.uk/world/interactive/2013/jun/08/nsa-boundless-informant-data-mining-slides"
       ]
      },
      {
       "output_type": "stream",
       "stream": "stdout",
       "text": [
        "\n",
        "a guardian document! http://www.guardian.co.uk/world/interactive/2013/jun/08/boundless-informant-nsa-full-text\n",
        "searching http://www.washingtonpost.com/wp-srv/special/politics/prism-collection-documents/ ..."
       ]
      },
      {
       "output_type": "stream",
       "stream": "stdout",
       "text": [
        "\n",
        "a post document! http://apps.washingtonpost.com/g/page/national/inner-workings-of-a-top-secret-spy-program/282/\n",
        "a post document! http://apps.washingtonpost.com/g/page/business/a-connected-world/305/\n",
        "searching http://www.theguardian.com/world/2013/jun/06/nsa-phone-records-verizon-court-order ..."
       ]
      },
      {
       "output_type": "stream",
       "stream": "stdout",
       "text": [
        "\n",
        "a guardian document! http://www.guardian.co.uk/world/interactive/2013/jun/06/verizon-telephone-data-court-order"
       ]
      },
      {
       "output_type": "stream",
       "stream": "stdout",
       "text": [
        "\n",
        "a guardian document! http://www.guardian.co.uk/world/interactive/2013/jun/06/verizon-telephone-data-court-order\n",
        "searching http://www.theguardian.com/world/interactive/2013/jun/06/verizon-telephone-data-court-order ..."
       ]
      },
      {
       "output_type": "stream",
       "stream": "stdout",
       "text": [
        "\n"
       ]
      }
     ],
     "prompt_number": 1
    },
    {
     "cell_type": "code",
     "collapsed": false,
     "input": [],
     "language": "python",
     "metadata": {},
     "outputs": [],
     "prompt_number": 0
    },
    {
     "cell_type": "code",
     "collapsed": false,
     "input": [],
     "language": "python",
     "metadata": {},
     "outputs": []
    }
   ],
   "metadata": {}
  }
 ]
}